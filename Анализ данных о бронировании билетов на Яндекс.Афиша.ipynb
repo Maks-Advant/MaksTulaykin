{
 "cells": [
  {
   "cell_type": "markdown",
   "metadata": {
    "id": "LMuaGIE3lGcr"
   },
   "source": [
    "# Анализ данных о бронировании билетов на Яндекс.Афиша"
   ]
  },
  {
   "cell_type": "markdown",
   "metadata": {},
   "source": [
    "Тулайкин Максим"
   ]
  },
  {
   "cell_type": "markdown",
   "metadata": {},
   "source": [
    "### Цели и задачи проекта\n"
   ]
  },
  {
   "cell_type": "markdown",
   "metadata": {},
   "source": [
    "Провести исследовательский анализ данных о бронировании билетов на сервисе Яндекс Афиша за период с 1 июня по 30 октября 2024 года, изучить сезонные изменения, пользовательскую активность, популярные события и партнёров, а также проверить гипотезы о различиях в активности пользователей мобильных и стационарных устройств.\n",
    "\n",
    "Задачи:\n",
    "\n",
    "* Загрузить и ознакомиться с данными.\n",
    "* Провести предобработку данных.\n",
    "* Выполнить исследовательский анализ данных.\n",
    "* Провести статистический анализ для проверки гипотез.\n",
    "* Сформулировать общий вывод и рекомендации."
   ]
  },
  {
   "cell_type": "markdown",
   "metadata": {},
   "source": [
    "### Описание данных\n",
    "\n",
    "https://code.s3.yandex.net/datasets/final_tickets_orders_df.csv - содержит информацию о заказах билетов.\n",
    "\n",
    "- `order_id` -  уникальный идентификатор заказа;\n",
    "- `user_id` -  уникальный идентификатор пользователя;\n",
    "- `created_dt_msk` - дата создания заказа (московское время);\n",
    "- `created_ts_msk` - дата и время создания заказа (московское время);\n",
    "- `event_id` - идентификатор мероприятия из таблицы `events`;\n",
    "- `cinema_circuit` - сеть кинотеатров. Если не применимо, то здесь будет значение `нет`;\n",
    "- `age_limit` - возрастное ограничение мероприятия;\n",
    "- `currency_code` - валюта оплаты, например `rub` для российских рублей;\n",
    "- `device_type_canonical` - тип устройства, с которого был оформлен заказ, например `mobile` для мобильных устройств, `desktop` для стационарных;\n",
    "- `revenue` - выручка от заказа;\n",
    "- `service_name` - название билетного оператора;\n",
    "- `tickets_count` - количество купленных билетов;\n",
    "- `total` - общая сумма заказа;\n",
    "\n",
    "https://code.s3.yandex.net/datasets/final_tickets_events_df.csv - содержит информацию о событиях, городах, регионах и площадках.\n",
    "\n",
    "- `event_id` -  уникальный идентификатор мероприятия;\n",
    "- `event_name` - название мероприятия. Аналог поля `event_name_code` из исходной базы данных;\n",
    "- `event_type_description` - описание типа мероприятия;\n",
    "- `event_type_main` - основной тип мероприятия: театральная постановка, концерт и так далее;\n",
    "- `organizers` - организаторы мероприятия;\n",
    "- `region_name` - название региона;\n",
    "- `city_name` - название города;\n",
    "- `venue_id` - уникальный идентификатор площадки;\n",
    "- `venue_name` - название площадки;\n",
    "- `venue_address` - адрес площадки;\n",
    "\n",
    "https://code.s3.yandex.net/datasets/final_tickets_tenge_df.csv - содержит курс тенге к рублю за 2024 год.\n",
    "\n",
    "- `nominal` - номинал (100 тенге);\n",
    "- `data` - дата;\n",
    "- `curs` - курс тенге к рублю;\n",
    "- `cdx` - обозначение валюты `kzt`."
   ]
  },
  {
   "cell_type": "markdown",
   "metadata": {},
   "source": [
    "### Содержимое проекта"
   ]
  },
  {
   "cell_type": "markdown",
   "metadata": {},
   "source": [
    "    1. Загрузка данных и знакомство с ними\n",
    "    2. Предобработка данных и подготовка их к исследованию\n",
    "        2.1  Изучим значения в ключевых столбцах\n",
    "        2.1.1  Для категориальных значений\n",
    "        2.1.2  Для количественных значений\n",
    "        2.2  Проверка явных и неявных дубликатов\n",
    "        2.3  Преобразования типов данных\n",
    "        2.4  Создание новых столбцов\n",
    "    3. Исследовательский анализ данных\n",
    "        3.1  Анализ распределения заказов по сегментам и их сезонные изменения\n",
    "        3.1.1  Количество заказов для каждого месяца\n",
    "        3.1.2  Сравнение распределения заказов билетов для осеннего и летнего периодов\n",
    "        3.1.3  Изменение выручки с продажи одного билета\n",
    "        3.1.4  Промежуточный вывод\n",
    "        3.2  Осенняя активность пользователей\n",
    "        3.2.1  Промежуточный вывод\n",
    "        3.3  Популярные события и партнёры\n",
    "        3.3.1  Для каждого региона\n",
    "        3.3.2  Для каждого билетного партнёра\n",
    "        3.3.3  Промежуточный вывод\n",
    "    4. Статистический анализ данных\n",
    "        4.1  Среднее количество заказов\n",
    "        4.2  Среднее время между заказами\n",
    "        4.3  Промежуточный вывод\n",
    "    5. Общий вывод и рекомендации"
   ]
  },
  {
   "cell_type": "markdown",
   "metadata": {},
   "source": [
    "## Шаг 1. Загрузка данных и знакомство с ними"
   ]
  },
  {
   "cell_type": "code",
   "execution_count": 1,
   "metadata": {},
   "outputs": [],
   "source": [
    "# Импортируем библиотеки\n",
    "import pandas as pd\n",
    "import matplotlib.pyplot as plt\n",
    "import seaborn as sns\n",
    "from scipy import stats\n",
    "import numpy as np"
   ]
  },
  {
   "cell_type": "code",
   "execution_count": 2,
   "metadata": {},
   "outputs": [],
   "source": [
    "# Загружаем датасеты\n",
    "orders = pd.read_csv('https://code.s3.yandex.net/datasets/final_tickets_orders_df.csv')\n",
    "events = pd.read_csv('https://code.s3.yandex.net/datasets/final_tickets_events_df.csv')\n",
    "tenge = pd.read_csv('https://code.s3.yandex.net/datasets/final_tickets_tenge_df.csv')"
   ]
  },
  {
   "cell_type": "code",
   "execution_count": 3,
   "metadata": {},
   "outputs": [
    {
     "name": "stdout",
     "output_type": "stream",
     "text": [
      "<class 'pandas.core.frame.DataFrame'>\n",
      "RangeIndex: 290849 entries, 0 to 290848\n",
      "Data columns (total 14 columns):\n",
      " #   Column                 Non-Null Count   Dtype  \n",
      "---  ------                 --------------   -----  \n",
      " 0   order_id               290849 non-null  int64  \n",
      " 1   user_id                290849 non-null  object \n",
      " 2   created_dt_msk         290849 non-null  object \n",
      " 3   created_ts_msk         290849 non-null  object \n",
      " 4   event_id               290849 non-null  int64  \n",
      " 5   cinema_circuit         290849 non-null  object \n",
      " 6   age_limit              290849 non-null  int64  \n",
      " 7   currency_code          290849 non-null  object \n",
      " 8   device_type_canonical  290849 non-null  object \n",
      " 9   revenue                290849 non-null  float64\n",
      " 10  service_name           290849 non-null  object \n",
      " 11  tickets_count          290849 non-null  int64  \n",
      " 12  total                  290849 non-null  float64\n",
      " 13  days_since_prev        268909 non-null  float64\n",
      "dtypes: float64(3), int64(4), object(7)\n",
      "memory usage: 31.1+ MB\n"
     ]
    },
    {
     "data": {
      "text/html": [
       "<div>\n",
       "<style scoped>\n",
       "    .dataframe tbody tr th:only-of-type {\n",
       "        vertical-align: middle;\n",
       "    }\n",
       "\n",
       "    .dataframe tbody tr th {\n",
       "        vertical-align: top;\n",
       "    }\n",
       "\n",
       "    .dataframe thead th {\n",
       "        text-align: right;\n",
       "    }\n",
       "</style>\n",
       "<table border=\"1\" class=\"dataframe\">\n",
       "  <thead>\n",
       "    <tr style=\"text-align: right;\">\n",
       "      <th></th>\n",
       "      <th>order_id</th>\n",
       "      <th>user_id</th>\n",
       "      <th>created_dt_msk</th>\n",
       "      <th>created_ts_msk</th>\n",
       "      <th>event_id</th>\n",
       "      <th>cinema_circuit</th>\n",
       "      <th>age_limit</th>\n",
       "      <th>currency_code</th>\n",
       "      <th>device_type_canonical</th>\n",
       "      <th>revenue</th>\n",
       "      <th>service_name</th>\n",
       "      <th>tickets_count</th>\n",
       "      <th>total</th>\n",
       "      <th>days_since_prev</th>\n",
       "    </tr>\n",
       "  </thead>\n",
       "  <tbody>\n",
       "    <tr>\n",
       "      <th>0</th>\n",
       "      <td>4359165</td>\n",
       "      <td>0002849b70a3ce2</td>\n",
       "      <td>2024-08-20</td>\n",
       "      <td>2024-08-20 16:08:03</td>\n",
       "      <td>169230</td>\n",
       "      <td>нет</td>\n",
       "      <td>16</td>\n",
       "      <td>rub</td>\n",
       "      <td>mobile</td>\n",
       "      <td>1521.94</td>\n",
       "      <td>Край билетов</td>\n",
       "      <td>4</td>\n",
       "      <td>10870.99</td>\n",
       "      <td>NaN</td>\n",
       "    </tr>\n",
       "    <tr>\n",
       "      <th>1</th>\n",
       "      <td>7965605</td>\n",
       "      <td>0005ca5e93f2cf4</td>\n",
       "      <td>2024-07-23</td>\n",
       "      <td>2024-07-23 18:36:24</td>\n",
       "      <td>237325</td>\n",
       "      <td>нет</td>\n",
       "      <td>0</td>\n",
       "      <td>rub</td>\n",
       "      <td>mobile</td>\n",
       "      <td>289.45</td>\n",
       "      <td>Мой билет</td>\n",
       "      <td>2</td>\n",
       "      <td>2067.51</td>\n",
       "      <td>NaN</td>\n",
       "    </tr>\n",
       "    <tr>\n",
       "      <th>2</th>\n",
       "      <td>7292370</td>\n",
       "      <td>0005ca5e93f2cf4</td>\n",
       "      <td>2024-10-06</td>\n",
       "      <td>2024-10-06 13:56:02</td>\n",
       "      <td>578454</td>\n",
       "      <td>нет</td>\n",
       "      <td>0</td>\n",
       "      <td>rub</td>\n",
       "      <td>mobile</td>\n",
       "      <td>1258.57</td>\n",
       "      <td>За билетом!</td>\n",
       "      <td>4</td>\n",
       "      <td>13984.16</td>\n",
       "      <td>75.0</td>\n",
       "    </tr>\n",
       "    <tr>\n",
       "      <th>3</th>\n",
       "      <td>1139875</td>\n",
       "      <td>000898990054619</td>\n",
       "      <td>2024-07-13</td>\n",
       "      <td>2024-07-13 19:40:48</td>\n",
       "      <td>387271</td>\n",
       "      <td>нет</td>\n",
       "      <td>0</td>\n",
       "      <td>rub</td>\n",
       "      <td>mobile</td>\n",
       "      <td>8.49</td>\n",
       "      <td>Лови билет!</td>\n",
       "      <td>2</td>\n",
       "      <td>212.28</td>\n",
       "      <td>NaN</td>\n",
       "    </tr>\n",
       "    <tr>\n",
       "      <th>4</th>\n",
       "      <td>972400</td>\n",
       "      <td>000898990054619</td>\n",
       "      <td>2024-10-04</td>\n",
       "      <td>2024-10-04 22:33:15</td>\n",
       "      <td>509453</td>\n",
       "      <td>нет</td>\n",
       "      <td>18</td>\n",
       "      <td>rub</td>\n",
       "      <td>mobile</td>\n",
       "      <td>1390.41</td>\n",
       "      <td>Билеты без проблем</td>\n",
       "      <td>3</td>\n",
       "      <td>10695.43</td>\n",
       "      <td>83.0</td>\n",
       "    </tr>\n",
       "  </tbody>\n",
       "</table>\n",
       "</div>"
      ],
      "text/plain": [
       "   order_id          user_id created_dt_msk       created_ts_msk  event_id  \\\n",
       "0   4359165  0002849b70a3ce2     2024-08-20  2024-08-20 16:08:03    169230   \n",
       "1   7965605  0005ca5e93f2cf4     2024-07-23  2024-07-23 18:36:24    237325   \n",
       "2   7292370  0005ca5e93f2cf4     2024-10-06  2024-10-06 13:56:02    578454   \n",
       "3   1139875  000898990054619     2024-07-13  2024-07-13 19:40:48    387271   \n",
       "4    972400  000898990054619     2024-10-04  2024-10-04 22:33:15    509453   \n",
       "\n",
       "  cinema_circuit  age_limit currency_code device_type_canonical  revenue  \\\n",
       "0            нет         16           rub                mobile  1521.94   \n",
       "1            нет          0           rub                mobile   289.45   \n",
       "2            нет          0           rub                mobile  1258.57   \n",
       "3            нет          0           rub                mobile     8.49   \n",
       "4            нет         18           rub                mobile  1390.41   \n",
       "\n",
       "         service_name  tickets_count     total  days_since_prev  \n",
       "0        Край билетов              4  10870.99              NaN  \n",
       "1           Мой билет              2   2067.51              NaN  \n",
       "2         За билетом!              4  13984.16             75.0  \n",
       "3         Лови билет!              2    212.28              NaN  \n",
       "4  Билеты без проблем              3  10695.43             83.0  "
      ]
     },
     "execution_count": 3,
     "metadata": {},
     "output_type": "execute_result"
    }
   ],
   "source": [
    "# Первичная информация orders\n",
    "orders.info()\n",
    "orders.head()"
   ]
  },
  {
   "cell_type": "code",
   "execution_count": 4,
   "metadata": {},
   "outputs": [
    {
     "name": "stdout",
     "output_type": "stream",
     "text": [
      "<class 'pandas.core.frame.DataFrame'>\n",
      "RangeIndex: 22427 entries, 0 to 22426\n",
      "Data columns (total 11 columns):\n",
      " #   Column                  Non-Null Count  Dtype \n",
      "---  ------                  --------------  ----- \n",
      " 0   event_id                22427 non-null  int64 \n",
      " 1   event_name              22427 non-null  object\n",
      " 2   event_type_description  22427 non-null  object\n",
      " 3   event_type_main         22427 non-null  object\n",
      " 4   organizers              22427 non-null  object\n",
      " 5   region_name             22427 non-null  object\n",
      " 6   city_name               22427 non-null  object\n",
      " 7   city_id                 22427 non-null  int64 \n",
      " 8   venue_id                22427 non-null  int64 \n",
      " 9   venue_name              22427 non-null  object\n",
      " 10  venue_address           22427 non-null  object\n",
      "dtypes: int64(3), object(8)\n",
      "memory usage: 1.9+ MB\n"
     ]
    },
    {
     "data": {
      "text/html": [
       "<div>\n",
       "<style scoped>\n",
       "    .dataframe tbody tr th:only-of-type {\n",
       "        vertical-align: middle;\n",
       "    }\n",
       "\n",
       "    .dataframe tbody tr th {\n",
       "        vertical-align: top;\n",
       "    }\n",
       "\n",
       "    .dataframe thead th {\n",
       "        text-align: right;\n",
       "    }\n",
       "</style>\n",
       "<table border=\"1\" class=\"dataframe\">\n",
       "  <thead>\n",
       "    <tr style=\"text-align: right;\">\n",
       "      <th></th>\n",
       "      <th>event_id</th>\n",
       "      <th>event_name</th>\n",
       "      <th>event_type_description</th>\n",
       "      <th>event_type_main</th>\n",
       "      <th>organizers</th>\n",
       "      <th>region_name</th>\n",
       "      <th>city_name</th>\n",
       "      <th>city_id</th>\n",
       "      <th>venue_id</th>\n",
       "      <th>venue_name</th>\n",
       "      <th>venue_address</th>\n",
       "    </tr>\n",
       "  </thead>\n",
       "  <tbody>\n",
       "    <tr>\n",
       "      <th>0</th>\n",
       "      <td>4436</td>\n",
       "      <td>e4f26fba-da77-4c61-928a-6c3e434d793f</td>\n",
       "      <td>спектакль</td>\n",
       "      <td>театр</td>\n",
       "      <td>№4893</td>\n",
       "      <td>Североярская область</td>\n",
       "      <td>Озёрск</td>\n",
       "      <td>2</td>\n",
       "      <td>1600</td>\n",
       "      <td>Кладбище искусств \"Проблема\" и партнеры</td>\n",
       "      <td>наб. Загородная, д. 785</td>\n",
       "    </tr>\n",
       "    <tr>\n",
       "      <th>1</th>\n",
       "      <td>5785</td>\n",
       "      <td>5cc08a60-fdea-4186-9bb2-bffc3603fb77</td>\n",
       "      <td>спектакль</td>\n",
       "      <td>театр</td>\n",
       "      <td>№1931</td>\n",
       "      <td>Светополянский округ</td>\n",
       "      <td>Глиноград</td>\n",
       "      <td>54</td>\n",
       "      <td>2196</td>\n",
       "      <td>Лекции по искусству \"Свет\" Групп</td>\n",
       "      <td>ул. Ягодная, д. 942</td>\n",
       "    </tr>\n",
       "    <tr>\n",
       "      <th>2</th>\n",
       "      <td>8817</td>\n",
       "      <td>8e379a89-3a10-4811-ba06-ec22ebebe989</td>\n",
       "      <td>спектакль</td>\n",
       "      <td>театр</td>\n",
       "      <td>№4896</td>\n",
       "      <td>Североярская область</td>\n",
       "      <td>Озёрск</td>\n",
       "      <td>2</td>\n",
       "      <td>4043</td>\n",
       "      <td>Кинокомитет \"Золотая\" Инк</td>\n",
       "      <td>ш. Коммуны, д. 92 стр. 6</td>\n",
       "    </tr>\n",
       "    <tr>\n",
       "      <th>3</th>\n",
       "      <td>8849</td>\n",
       "      <td>682e3129-6a32-4952-9d8a-ef7f60d4c247</td>\n",
       "      <td>спектакль</td>\n",
       "      <td>театр</td>\n",
       "      <td>№4960</td>\n",
       "      <td>Каменевский регион</td>\n",
       "      <td>Глиногорск</td>\n",
       "      <td>213</td>\n",
       "      <td>1987</td>\n",
       "      <td>Выставка ремесел \"Свет\" Лтд</td>\n",
       "      <td>пер. Набережный, д. 35</td>\n",
       "    </tr>\n",
       "    <tr>\n",
       "      <th>4</th>\n",
       "      <td>8850</td>\n",
       "      <td>d6e99176-c77f-4af0-9222-07c571f6c624</td>\n",
       "      <td>спектакль</td>\n",
       "      <td>театр</td>\n",
       "      <td>№4770</td>\n",
       "      <td>Лесодальний край</td>\n",
       "      <td>Родниковец</td>\n",
       "      <td>55</td>\n",
       "      <td>4230</td>\n",
       "      <td>Фестивальный проект \"Листья\" Групп</td>\n",
       "      <td>пер. Проезжий, д. 9</td>\n",
       "    </tr>\n",
       "  </tbody>\n",
       "</table>\n",
       "</div>"
      ],
      "text/plain": [
       "   event_id                            event_name event_type_description  \\\n",
       "0      4436  e4f26fba-da77-4c61-928a-6c3e434d793f              спектакль   \n",
       "1      5785  5cc08a60-fdea-4186-9bb2-bffc3603fb77              спектакль   \n",
       "2      8817  8e379a89-3a10-4811-ba06-ec22ebebe989              спектакль   \n",
       "3      8849  682e3129-6a32-4952-9d8a-ef7f60d4c247              спектакль   \n",
       "4      8850  d6e99176-c77f-4af0-9222-07c571f6c624              спектакль   \n",
       "\n",
       "  event_type_main organizers           region_name   city_name  city_id  \\\n",
       "0           театр      №4893  Североярская область      Озёрск        2   \n",
       "1           театр      №1931  Светополянский округ   Глиноград       54   \n",
       "2           театр      №4896  Североярская область      Озёрск        2   \n",
       "3           театр      №4960    Каменевский регион  Глиногорск      213   \n",
       "4           театр      №4770      Лесодальний край  Родниковец       55   \n",
       "\n",
       "   venue_id                               venue_name             venue_address  \n",
       "0      1600  Кладбище искусств \"Проблема\" и партнеры   наб. Загородная, д. 785  \n",
       "1      2196         Лекции по искусству \"Свет\" Групп       ул. Ягодная, д. 942  \n",
       "2      4043                Кинокомитет \"Золотая\" Инк  ш. Коммуны, д. 92 стр. 6  \n",
       "3      1987              Выставка ремесел \"Свет\" Лтд    пер. Набережный, д. 35  \n",
       "4      4230       Фестивальный проект \"Листья\" Групп       пер. Проезжий, д. 9  "
      ]
     },
     "execution_count": 4,
     "metadata": {},
     "output_type": "execute_result"
    }
   ],
   "source": [
    "# Первичная информация events\n",
    "events.info()\n",
    "events.head()"
   ]
  },
  {
   "cell_type": "code",
   "execution_count": 5,
   "metadata": {},
   "outputs": [
    {
     "name": "stdout",
     "output_type": "stream",
     "text": [
      "<class 'pandas.core.frame.DataFrame'>\n",
      "RangeIndex: 357 entries, 0 to 356\n",
      "Data columns (total 4 columns):\n",
      " #   Column   Non-Null Count  Dtype  \n",
      "---  ------   --------------  -----  \n",
      " 0   data     357 non-null    object \n",
      " 1   nominal  357 non-null    int64  \n",
      " 2   curs     357 non-null    float64\n",
      " 3   cdx      357 non-null    object \n",
      "dtypes: float64(1), int64(1), object(2)\n",
      "memory usage: 11.3+ KB\n"
     ]
    },
    {
     "data": {
      "text/html": [
       "<div>\n",
       "<style scoped>\n",
       "    .dataframe tbody tr th:only-of-type {\n",
       "        vertical-align: middle;\n",
       "    }\n",
       "\n",
       "    .dataframe tbody tr th {\n",
       "        vertical-align: top;\n",
       "    }\n",
       "\n",
       "    .dataframe thead th {\n",
       "        text-align: right;\n",
       "    }\n",
       "</style>\n",
       "<table border=\"1\" class=\"dataframe\">\n",
       "  <thead>\n",
       "    <tr style=\"text-align: right;\">\n",
       "      <th></th>\n",
       "      <th>data</th>\n",
       "      <th>nominal</th>\n",
       "      <th>curs</th>\n",
       "      <th>cdx</th>\n",
       "    </tr>\n",
       "  </thead>\n",
       "  <tbody>\n",
       "    <tr>\n",
       "      <th>0</th>\n",
       "      <td>2024-01-10</td>\n",
       "      <td>100</td>\n",
       "      <td>19.9391</td>\n",
       "      <td>kzt</td>\n",
       "    </tr>\n",
       "    <tr>\n",
       "      <th>1</th>\n",
       "      <td>2024-01-11</td>\n",
       "      <td>100</td>\n",
       "      <td>19.7255</td>\n",
       "      <td>kzt</td>\n",
       "    </tr>\n",
       "    <tr>\n",
       "      <th>2</th>\n",
       "      <td>2024-01-12</td>\n",
       "      <td>100</td>\n",
       "      <td>19.5839</td>\n",
       "      <td>kzt</td>\n",
       "    </tr>\n",
       "    <tr>\n",
       "      <th>3</th>\n",
       "      <td>2024-01-13</td>\n",
       "      <td>100</td>\n",
       "      <td>19.4501</td>\n",
       "      <td>kzt</td>\n",
       "    </tr>\n",
       "    <tr>\n",
       "      <th>4</th>\n",
       "      <td>2024-01-14</td>\n",
       "      <td>100</td>\n",
       "      <td>19.4501</td>\n",
       "      <td>kzt</td>\n",
       "    </tr>\n",
       "  </tbody>\n",
       "</table>\n",
       "</div>"
      ],
      "text/plain": [
       "         data  nominal     curs  cdx\n",
       "0  2024-01-10      100  19.9391  kzt\n",
       "1  2024-01-11      100  19.7255  kzt\n",
       "2  2024-01-12      100  19.5839  kzt\n",
       "3  2024-01-13      100  19.4501  kzt\n",
       "4  2024-01-14      100  19.4501  kzt"
      ]
     },
     "execution_count": 5,
     "metadata": {},
     "output_type": "execute_result"
    }
   ],
   "source": [
    "# Первичная информация tenge\n",
    "tenge.info()\n",
    "tenge.head()"
   ]
  },
  {
   "cell_type": "markdown",
   "metadata": {},
   "source": [
    "`orders` = 290 849 строк, 14 столбцов.\n",
    "\n",
    "* Пропуски есть только в `days_since_prev`, как и ожидалось по условию.\n",
    "\n",
    "* Столбцы `created_dt_msk`, `created_ts_msk` пока строковые `object` - нужно перевести в `datetime`.\n",
    "\n",
    "* Всё остальное соответствует описанию.\n",
    "\n",
    "`events` = 22 427 строк, 11 столбцов.\n",
    "\n",
    "* Пропусков нет.\n",
    "\n",
    "* Типы корректные.\n",
    "\n",
    "`tenge` = 357 строк, 4 столбца.\n",
    "\n",
    "* Пропусков нет.\n",
    "\n",
    "* Дата `data` пока `object` - перевести в `datetime`.\n",
    "\n",
    "**Данные загружены корректно, соответствуют описанию.**"
   ]
  },
  {
   "cell_type": "markdown",
   "metadata": {},
   "source": [
    "## Шаг 2. Предобработка данных и подготовка их к исследованию"
   ]
  },
  {
   "cell_type": "markdown",
   "metadata": {},
   "source": [
    "### Изучим значения в ключевых столбцах\n",
    "\n",
    "#### Для категориальных значений\n"
   ]
  },
  {
   "cell_type": "code",
   "execution_count": 6,
   "metadata": {},
   "outputs": [
    {
     "name": "stdout",
     "output_type": "stream",
     "text": [
      "['mobile' 'desktop']\n",
      "['rub' 'kzt']\n",
      "[16  0 18 12  6]\n",
      "['нет' 'Другое' 'Киномакс' 'КиноСити' 'Москино' 'ЦентрФильм']\n",
      "['Край билетов' 'Мой билет' 'За билетом!' 'Лови билет!'\n",
      " 'Билеты без проблем' 'Облачко' 'Лучшие билеты' 'Прачечная' 'Быстробилет'\n",
      " 'Дом культуры' 'Весь в билетах' 'Билеты в руки' 'Тебе билет!'\n",
      " 'Show_ticket' 'Городской дом культуры' 'Яблоко' 'Билет по телефону'\n",
      " 'Выступления.ру' 'Росбилет' 'Шоу начинается!']\n",
      "['театр' 'концерты' 'ёлки' 'другое' 'стендап' 'выставки' 'спорт']\n",
      "['Североярская область' 'Светополянский округ' 'Каменевский регион'\n",
      " 'Лесодальний край' 'Медовская область' 'Широковская область'\n",
      " 'Тепляковская область' 'Травяная область' 'Зоринский регион'\n",
      " 'Серебринская область' 'Яблоневская область' 'Глиногорская область'\n",
      " 'Речиновская область' 'Озернинский край' 'Горицветская область'\n",
      " 'Солнечнореченская область' 'Травиницкий округ' 'Солнечноземская область'\n",
      " 'Ключеводский округ' 'Островная область' 'Луговая область'\n",
      " 'Каменноозёрный край' 'Лесостепной край' 'Зеленоградский округ'\n",
      " 'Поленовский край' 'Лугоградская область' 'Синегорский регион'\n",
      " 'Малиновая область' 'Речицкая область' 'Дальнеземская область'\n",
      " 'Заречная область' 'Североозёрский округ' 'Дальнезорский край'\n",
      " 'Малиновоярский округ' 'Сосновская область' 'Златопольский округ'\n",
      " 'Ягодиновская область' 'Берестовский округ' 'Золотоключевской край'\n",
      " 'Каменноярский край' 'Голубевский округ' 'Боровлянский край'\n",
      " 'Тихореченская область' 'Миропольская область' 'Радужнопольский край'\n",
      " 'Белоярская область' 'Горноземский регион' 'Горностепной регион'\n",
      " 'Верхоречная область' 'Каменичская область' 'Крутоводская область'\n",
      " 'Нежинская область' 'Верховинская область' 'Речицкий регион'\n",
      " 'Дубравная область' 'Вишнёвский край' 'Озернопольская область'\n",
      " 'Тихогорская область' 'Залесский край' 'Чистогорская область'\n",
      " 'Кристаловская область' 'Радужногорская область' 'Яснопольский округ'\n",
      " 'Серебряноярский округ' 'Североключевской округ' 'Шанырский регион'\n",
      " 'Берёзовская область' 'Крутоводский регион' 'Каменополянский округ'\n",
      " 'Ветренский регион' 'Лесоярская область' 'Тихолесский край'\n",
      " 'Островогорский округ' 'Ручейковский край' 'Лесополянская область'\n",
      " 'Светолесский край' 'Сосноводолинская область' 'Лесноярский край'\n",
      " 'Теплоозёрский округ' 'Кристальная область' 'Верхозёрский край']\n"
     ]
    }
   ],
   "source": [
    "# Проверка категориальных значений\n",
    "print(orders['device_type_canonical'].unique())\n",
    "print(orders['currency_code'].unique())\n",
    "print(orders['age_limit'].unique())\n",
    "print(orders['cinema_circuit'].unique()[:20])\n",
    "print(orders['service_name'].unique()[:20])\n",
    "print(events['event_type_main'].unique())\n",
    "print(events['region_name'].unique())"
   ]
  },
  {
   "cell_type": "markdown",
   "metadata": {},
   "source": [
    "Категориальные данные чистые, нормализации не требуется."
   ]
  },
  {
   "cell_type": "markdown",
   "metadata": {},
   "source": [
    "#### Для количественных значений"
   ]
  },
  {
   "cell_type": "code",
   "execution_count": 7,
   "metadata": {},
   "outputs": [
    {
     "data": {
      "text/html": [
       "<div>\n",
       "<style scoped>\n",
       "    .dataframe tbody tr th:only-of-type {\n",
       "        vertical-align: middle;\n",
       "    }\n",
       "\n",
       "    .dataframe tbody tr th {\n",
       "        vertical-align: top;\n",
       "    }\n",
       "\n",
       "    .dataframe thead th {\n",
       "        text-align: right;\n",
       "    }\n",
       "</style>\n",
       "<table border=\"1\" class=\"dataframe\">\n",
       "  <thead>\n",
       "    <tr style=\"text-align: right;\">\n",
       "      <th></th>\n",
       "      <th>revenue</th>\n",
       "      <th>tickets_count</th>\n",
       "    </tr>\n",
       "  </thead>\n",
       "  <tbody>\n",
       "    <tr>\n",
       "      <th>count</th>\n",
       "      <td>290849.000000</td>\n",
       "      <td>290849.000000</td>\n",
       "    </tr>\n",
       "    <tr>\n",
       "      <th>mean</th>\n",
       "      <td>625.083054</td>\n",
       "      <td>2.754230</td>\n",
       "    </tr>\n",
       "    <tr>\n",
       "      <th>std</th>\n",
       "      <td>1227.316214</td>\n",
       "      <td>1.170467</td>\n",
       "    </tr>\n",
       "    <tr>\n",
       "      <th>min</th>\n",
       "      <td>-90.760000</td>\n",
       "      <td>1.000000</td>\n",
       "    </tr>\n",
       "    <tr>\n",
       "      <th>25%</th>\n",
       "      <td>116.790000</td>\n",
       "      <td>2.000000</td>\n",
       "    </tr>\n",
       "    <tr>\n",
       "      <th>50%</th>\n",
       "      <td>355.340000</td>\n",
       "      <td>3.000000</td>\n",
       "    </tr>\n",
       "    <tr>\n",
       "      <th>75%</th>\n",
       "      <td>809.750000</td>\n",
       "      <td>4.000000</td>\n",
       "    </tr>\n",
       "    <tr>\n",
       "      <th>95%</th>\n",
       "      <td>1744.990000</td>\n",
       "      <td>5.000000</td>\n",
       "    </tr>\n",
       "    <tr>\n",
       "      <th>99%</th>\n",
       "      <td>4000.190000</td>\n",
       "      <td>6.000000</td>\n",
       "    </tr>\n",
       "    <tr>\n",
       "      <th>max</th>\n",
       "      <td>81174.540000</td>\n",
       "      <td>57.000000</td>\n",
       "    </tr>\n",
       "  </tbody>\n",
       "</table>\n",
       "</div>"
      ],
      "text/plain": [
       "             revenue  tickets_count\n",
       "count  290849.000000  290849.000000\n",
       "mean      625.083054       2.754230\n",
       "std      1227.316214       1.170467\n",
       "min       -90.760000       1.000000\n",
       "25%       116.790000       2.000000\n",
       "50%       355.340000       3.000000\n",
       "75%       809.750000       4.000000\n",
       "95%      1744.990000       5.000000\n",
       "99%      4000.190000       6.000000\n",
       "max     81174.540000      57.000000"
      ]
     },
     "execution_count": 7,
     "metadata": {},
     "output_type": "execute_result"
    }
   ],
   "source": [
    "# Количественные признаки\n",
    "# revenue (выручка)\n",
    "orders[['revenue', 'tickets_count']].describe(percentiles=[.25,.5,.75,.95,.99])"
   ]
  },
  {
   "cell_type": "code",
   "execution_count": 8,
   "metadata": {},
   "outputs": [
    {
     "data": {
      "image/png": "[encoded data removed]",
      "text/plain": [
       "<Figure size 432x288 with 1 Axes>"
      ]
     },
     "metadata": {
      "needs_background": "light"
     },
     "output_type": "display_data"
    },
    {
     "data": {
      "image/png": "[encoded data removed]",
      "text/plain": [
       "<Figure size 432x288 with 1 Axes>"
      ]
     },
     "metadata": {
      "needs_background": "light"
     },
     "output_type": "display_data"
    }
   ],
   "source": [
    "# Гистограмма revenue\n",
    "orders['tickets_count'].hist(bins=20)\n",
    "plt.title('Распределение количества билетов')\n",
    "plt.xlabel('Tickets count')\n",
    "plt.ylabel('Количество заказов')\n",
    "plt.show()\n",
    "# Boxplot revenue\n",
    "orders.boxplot(column='tickets_count')\n",
    "plt.show()"
   ]
  },
  {
   "cell_type": "markdown",
   "metadata": {},
   "source": [
    "Гистограмма: почти все заказы укладываются в диапазон 1–6 билетов, а дальше значения встречаются крайне редко.\n",
    "\n",
    "Boxplot: чётко показывает длинный хвост с экстремальными значениями (до 57 билетов). Эти точки - редкие аномалии/корпоративные заказы."
   ]
  },
  {
   "cell_type": "code",
   "execution_count": 9,
   "metadata": {},
   "outputs": [
    {
     "data": {
      "text/html": [
       "<div>\n",
       "<style scoped>\n",
       "    .dataframe tbody tr th:only-of-type {\n",
       "        vertical-align: middle;\n",
       "    }\n",
       "\n",
       "    .dataframe tbody tr th {\n",
       "        vertical-align: top;\n",
       "    }\n",
       "\n",
       "    .dataframe thead th {\n",
       "        text-align: right;\n",
       "    }\n",
       "</style>\n",
       "<table border=\"1\" class=\"dataframe\">\n",
       "  <thead>\n",
       "    <tr style=\"text-align: right;\">\n",
       "      <th></th>\n",
       "      <th>count</th>\n",
       "      <th>mean</th>\n",
       "      <th>std</th>\n",
       "      <th>min</th>\n",
       "      <th>25%</th>\n",
       "      <th>50%</th>\n",
       "      <th>75%</th>\n",
       "      <th>95%</th>\n",
       "      <th>99%</th>\n",
       "      <th>max</th>\n",
       "    </tr>\n",
       "    <tr>\n",
       "      <th>currency_code</th>\n",
       "      <th></th>\n",
       "      <th></th>\n",
       "      <th></th>\n",
       "      <th></th>\n",
       "      <th></th>\n",
       "      <th></th>\n",
       "      <th></th>\n",
       "      <th></th>\n",
       "      <th></th>\n",
       "      <th></th>\n",
       "    </tr>\n",
       "  </thead>\n",
       "  <tbody>\n",
       "    <tr>\n",
       "      <th>kzt</th>\n",
       "      <td>5069.0</td>\n",
       "      <td>4995.206767</td>\n",
       "      <td>4916.752776</td>\n",
       "      <td>0.00</td>\n",
       "      <td>518.1000</td>\n",
       "      <td>3698.83</td>\n",
       "      <td>7397.66</td>\n",
       "      <td>13784.26</td>\n",
       "      <td>17617.2400</td>\n",
       "      <td>26425.86</td>\n",
       "    </tr>\n",
       "    <tr>\n",
       "      <th>rub</th>\n",
       "      <td>285780.0</td>\n",
       "      <td>547.568333</td>\n",
       "      <td>871.524559</td>\n",
       "      <td>-90.76</td>\n",
       "      <td>113.8275</td>\n",
       "      <td>346.10</td>\n",
       "      <td>791.70</td>\n",
       "      <td>1606.50</td>\n",
       "      <td>2569.5942</td>\n",
       "      <td>81174.54</td>\n",
       "    </tr>\n",
       "  </tbody>\n",
       "</table>\n",
       "</div>"
      ],
      "text/plain": [
       "                  count         mean          std    min       25%      50%  \\\n",
       "currency_code                                                                 \n",
       "kzt              5069.0  4995.206767  4916.752776   0.00  518.1000  3698.83   \n",
       "rub            285780.0   547.568333   871.524559 -90.76  113.8275   346.10   \n",
       "\n",
       "                   75%       95%         99%       max  \n",
       "currency_code                                           \n",
       "kzt            7397.66  13784.26  17617.2400  26425.86  \n",
       "rub             791.70   1606.50   2569.5942  81174.54  "
      ]
     },
     "execution_count": 9,
     "metadata": {},
     "output_type": "execute_result"
    }
   ],
   "source": [
    "# Проверим распределение revenue отдельно по валютам\n",
    "orders.groupby('currency_code')['revenue'].describe(percentiles=[.25,.5,.75,.95,.99])"
   ]
  },
  {
   "cell_type": "markdown",
   "metadata": {},
   "source": [
    "* KZT\n",
    "\n",
    "     * Средняя выручка = 4995 тенге\n",
    "\n",
    "     * 99-й перцентиль: ~ 17 617\n",
    "\n",
    "     * Максимум: 26 426 - выбросы выше 17 617\n",
    "\n",
    "* RUB\n",
    "\n",
    "    * Средняя выручка ≈ 346 рублей\n",
    "\n",
    "    * 99-й перцентиль: ~ 2 570\n",
    "\n",
    "    * Максимум: 81 174 - яркие выбросы выше 2 570\n",
    "    \n",
    "Для каждой валюты берём заказы только ≤ 99-го перцентиля.\n",
    "    \n",
    "Сохраняем очищенный датафрейм для дальнейшей работы."
   ]
  },
  {
   "cell_type": "code",
   "execution_count": 35,
   "metadata": {},
   "outputs": [
    {
     "name": "stdout",
     "output_type": "stream",
     "text": [
      "Пороги по валютам:\n",
      " currency_code\n",
      "kzt    17617.240234\n",
      "rub     2569.600298\n",
      "Name: revenue, dtype: float64\n",
      "До очистки: 290819\n",
      "После очистки: 287932\n"
     ]
    },
    {
     "data": {
      "text/html": [
       "<div>\n",
       "<style scoped>\n",
       "    .dataframe tbody tr th:only-of-type {\n",
       "        vertical-align: middle;\n",
       "    }\n",
       "\n",
       "    .dataframe tbody tr th {\n",
       "        vertical-align: top;\n",
       "    }\n",
       "\n",
       "    .dataframe thead th {\n",
       "        text-align: right;\n",
       "    }\n",
       "</style>\n",
       "<table border=\"1\" class=\"dataframe\">\n",
       "  <thead>\n",
       "    <tr style=\"text-align: right;\">\n",
       "      <th></th>\n",
       "      <th>count</th>\n",
       "      <th>mean</th>\n",
       "      <th>std</th>\n",
       "      <th>min</th>\n",
       "      <th>25%</th>\n",
       "      <th>50%</th>\n",
       "      <th>75%</th>\n",
       "      <th>95%</th>\n",
       "      <th>99%</th>\n",
       "      <th>max</th>\n",
       "    </tr>\n",
       "    <tr>\n",
       "      <th>currency_code</th>\n",
       "      <th></th>\n",
       "      <th></th>\n",
       "      <th></th>\n",
       "      <th></th>\n",
       "      <th></th>\n",
       "      <th></th>\n",
       "      <th></th>\n",
       "      <th></th>\n",
       "      <th></th>\n",
       "      <th></th>\n",
       "    </tr>\n",
       "  </thead>\n",
       "  <tbody>\n",
       "    <tr>\n",
       "      <th>kzt</th>\n",
       "      <td>5040.0</td>\n",
       "      <td>4893.668945</td>\n",
       "      <td>4742.680176</td>\n",
       "      <td>0.000000</td>\n",
       "      <td>515.349983</td>\n",
       "      <td>3698.830078</td>\n",
       "      <td>7397.660156</td>\n",
       "      <td>13784.259766</td>\n",
       "      <td>17617.240234</td>\n",
       "      <td>17617.240234</td>\n",
       "    </tr>\n",
       "    <tr>\n",
       "      <th>rub</th>\n",
       "      <td>282892.0</td>\n",
       "      <td>509.985779</td>\n",
       "      <td>500.116364</td>\n",
       "      <td>-90.760002</td>\n",
       "      <td>111.660004</td>\n",
       "      <td>340.250000</td>\n",
       "      <td>781.090027</td>\n",
       "      <td>1541.750000</td>\n",
       "      <td>2091.310059</td>\n",
       "      <td>2569.590088</td>\n",
       "    </tr>\n",
       "  </tbody>\n",
       "</table>\n",
       "</div>"
      ],
      "text/plain": [
       "                  count         mean          std        min         25%  \\\n",
       "currency_code                                                              \n",
       "kzt              5040.0  4893.668945  4742.680176   0.000000  515.349983   \n",
       "rub            282892.0   509.985779   500.116364 -90.760002  111.660004   \n",
       "\n",
       "                       50%          75%           95%           99%  \\\n",
       "currency_code                                                         \n",
       "kzt            3698.830078  7397.660156  13784.259766  17617.240234   \n",
       "rub             340.250000   781.090027   1541.750000   2091.310059   \n",
       "\n",
       "                        max  \n",
       "currency_code                \n",
       "kzt            17617.240234  \n",
       "rub             2569.590088  "
      ]
     },
     "execution_count": 35,
     "metadata": {},
     "output_type": "execute_result"
    }
   ],
   "source": [
    "# 99-й перцентиль для каждой валюты\n",
    "percentiles = orders.groupby('currency_code')['revenue'].quantile(0.99)\n",
    "print(\"Пороги по валютам:\\n\", percentiles)\n",
    "\n",
    "# Фильтрация выбросов\n",
    "orders_filtered = orders[orders.apply(\n",
    "    lambda row: row['revenue'] <= percentiles[row['currency_code']], axis=1\n",
    ")]\n",
    "\n",
    "print(\"До очистки:\", len(orders))\n",
    "print(\"После очистки:\", len(orders_filtered))\n",
    "\n",
    "# Проверим результат\n",
    "orders_filtered.groupby('currency_code')['revenue'].describe(percentiles=[.25,.5,.75,.95,.99])"
   ]
  },
  {
   "cell_type": "markdown",
   "metadata": {},
   "source": [
    "* До очистки: 290 819 заказов\n",
    "* После очистки: 287 932 заказов\n",
    "\n",
    "Потеряли всего ~1% данных, что логично, ведь мы обрезали только верхние 1% выбросов."
   ]
  },
  {
   "cell_type": "markdown",
   "metadata": {},
   "source": [
    "### Проверка явных и неявных дубликатов"
   ]
  },
  {
   "cell_type": "code",
   "execution_count": 11,
   "metadata": {},
   "outputs": [
    {
     "name": "stdout",
     "output_type": "stream",
     "text": [
      "Количество полных дубликатов: 0\n"
     ]
    }
   ],
   "source": [
    "# Явные дубликаты orders\n",
    "dupli_orders = orders.duplicated().sum()\n",
    "print(f\"Количество полных дубликатов: {dupli_orders}\")"
   ]
  },
  {
   "cell_type": "code",
   "execution_count": 12,
   "metadata": {},
   "outputs": [
    {
     "name": "stdout",
     "output_type": "stream",
     "text": [
      "Количество полных дубликатов: 0\n"
     ]
    }
   ],
   "source": [
    "# Явные дубликаты events\n",
    "dupli_events = events.duplicated().sum()\n",
    "print(f\"Количество полных дубликатов: {dupli_events}\")"
   ]
  },
  {
   "cell_type": "code",
   "execution_count": 13,
   "metadata": {},
   "outputs": [
    {
     "name": "stdout",
     "output_type": "stream",
     "text": [
      "Количество полных дубликатов: 0\n"
     ]
    }
   ],
   "source": [
    "# Явные дубликаты tenge\n",
    "dupli_tenge = tenge.duplicated().sum()\n",
    "print(f\"Количество полных дубликатов: {dupli_tenge}\")"
   ]
  },
  {
   "cell_type": "markdown",
   "metadata": {},
   "source": [
    "Явных дубликатов нет."
   ]
  },
  {
   "cell_type": "code",
   "execution_count": 14,
   "metadata": {},
   "outputs": [
    {
     "name": "stdout",
     "output_type": "stream",
     "text": [
      "Количество неявных дубликатов: 58\n",
      "Размер датафрейма до удаления дубликатов: (290849, 14)\n"
     ]
    }
   ],
   "source": [
    "# Проверка и обработка неявных дубликатов\n",
    "\n",
    "# Количество неявных дубликатов\n",
    "dubli = orders.duplicated(subset=['user_id', 'created_dt_msk', 'created_ts_msk', 'event_id', 'cinema_circuit', 'age_limit', 'currency_code', 'device_type_canonical', 'service_name', 'days_since_prev', 'total', 'tickets_count', 'revenue'], keep=False).sum()\n",
    "print(f\"Количество неявных дубликатов: {dubli}\")\n",
    "print(f\"Размер датафрейма до удаления дубликатов: {orders.shape}\")"
   ]
  },
  {
   "cell_type": "markdown",
   "metadata": {},
   "source": [
    "cinema_circuit\tage_limit\tcurrency_code\tdevice_type_canonical\trevenue\tservice_name\ttickets_count\ttotal\tdays_since_prev"
   ]
  },
  {
   "cell_type": "code",
   "execution_count": 15,
   "metadata": {},
   "outputs": [
    {
     "name": "stdout",
     "output_type": "stream",
     "text": [
      "Размер датафрейма после удаления дубликатов: (290819, 14)\n"
     ]
    }
   ],
   "source": [
    "# Удаление неявных дубликатов, оставляем первую запись\n",
    "subset = ['user_id', 'created_dt_msk', 'created_ts_msk', 'event_id', 'cinema_circuit', 'age_limit', 'currency_code', 'device_type_canonical', 'service_name', 'days_since_prev', 'total', 'tickets_count', 'revenue']\n",
    "orders = orders.drop_duplicates(subset=subset, keep='first')\n",
    "print(f\"Размер датафрейма после удаления дубликатов: {orders.shape}\")"
   ]
  },
  {
   "cell_type": "code",
   "execution_count": 16,
   "metadata": {},
   "outputs": [
    {
     "name": "stdout",
     "output_type": "stream",
     "text": [
      "Количество неявных дубликатов после обработки: 0\n"
     ]
    }
   ],
   "source": [
    "# Проверка после удаления\n",
    "dubli_after = orders.duplicated(subset=subset, keep=False).sum()\n",
    "print(f\"Количество неявных дубликатов после обработки: {dubli_after}\")"
   ]
  },
  {
   "cell_type": "markdown",
   "metadata": {},
   "source": [
    "Найдено 58 неявных дубликата в датасете `orders` по полям всем полям, кроме `order_id`. \n",
    "\n",
    "Дубликаты удалены, оставлена первая запись для каждой комбинации. После обработки размер датафрейма составил 290819 строк, неявные дубликаты отсутствуют.\n",
    "\n",
    "### Преобразования типов данных"
   ]
  },
  {
   "cell_type": "code",
   "execution_count": 17,
   "metadata": {},
   "outputs": [],
   "source": [
    "# Преобразование\n",
    "# Даты и время\n",
    "orders['created_dt_msk'] = pd.to_datetime(orders['created_dt_msk'])\n",
    "orders['created_ts_msk'] = pd.to_datetime(orders['created_ts_msk'])\n",
    "tenge['data'] = pd.to_datetime(tenge['data'])\n",
    "# Преобразование orders\n",
    "orders['order_id'] = pd.to_numeric(orders['order_id'], downcast='integer')\n",
    "orders['event_id'] = pd.to_numeric(orders['event_id'], downcast='integer')\n",
    "orders['tickets_count'] = pd.to_numeric(orders['tickets_count'], downcast='integer')\n",
    "orders['age_limit'] = pd.to_numeric(orders['age_limit'], downcast='float')\n",
    "orders['revenue'] = pd.to_numeric(orders['revenue'], downcast='float')\n",
    "orders['total'] = pd.to_numeric(orders['total'], downcast='float')\n",
    "orders['days_since_prev'] = pd.to_numeric(orders['days_since_prev'], downcast='float')\n",
    "# Преобразование events\n",
    "events['event_id'] = pd.to_numeric(events['event_id'], downcast='integer')\n",
    "events['city_id'] = pd.to_numeric(events['city_id'], downcast='integer')\n",
    "events['venue_id'] = pd.to_numeric(events['venue_id'], downcast='integer')\n",
    "# Преобразование tenge\n",
    "tenge['nominal'] = pd.to_numeric(tenge['nominal'], downcast='integer')\n",
    "tenge['curs'] = pd.to_numeric(tenge['curs'], downcast='float')"
   ]
  },
  {
   "cell_type": "code",
   "execution_count": 18,
   "metadata": {},
   "outputs": [
    {
     "name": "stdout",
     "output_type": "stream",
     "text": [
      "<class 'pandas.core.frame.DataFrame'>\n",
      "Int64Index: 290819 entries, 0 to 290848\n",
      "Data columns (total 14 columns):\n",
      " #   Column                 Non-Null Count   Dtype         \n",
      "---  ------                 --------------   -----         \n",
      " 0   order_id               290819 non-null  int32         \n",
      " 1   user_id                290819 non-null  object        \n",
      " 2   created_dt_msk         290819 non-null  datetime64[ns]\n",
      " 3   created_ts_msk         290819 non-null  datetime64[ns]\n",
      " 4   event_id               290819 non-null  int32         \n",
      " 5   cinema_circuit         290819 non-null  object        \n",
      " 6   age_limit              290819 non-null  float32       \n",
      " 7   currency_code          290819 non-null  object        \n",
      " 8   device_type_canonical  290819 non-null  object        \n",
      " 9   revenue                290819 non-null  float32       \n",
      " 10  service_name           290819 non-null  object        \n",
      " 11  tickets_count          290819 non-null  int8          \n",
      " 12  total                  290819 non-null  float32       \n",
      " 13  days_since_prev        268879 non-null  float32       \n",
      "dtypes: datetime64[ns](2), float32(4), int32(2), int8(1), object(5)\n",
      "memory usage: 24.7+ MB\n",
      "<class 'pandas.core.frame.DataFrame'>\n",
      "RangeIndex: 22427 entries, 0 to 22426\n",
      "Data columns (total 11 columns):\n",
      " #   Column                  Non-Null Count  Dtype \n",
      "---  ------                  --------------  ----- \n",
      " 0   event_id                22427 non-null  int32 \n",
      " 1   event_name              22427 non-null  object\n",
      " 2   event_type_description  22427 non-null  object\n",
      " 3   event_type_main         22427 non-null  object\n",
      " 4   organizers              22427 non-null  object\n",
      " 5   region_name             22427 non-null  object\n",
      " 6   city_name               22427 non-null  object\n",
      " 7   city_id                 22427 non-null  int32 \n",
      " 8   venue_id                22427 non-null  int16 \n",
      " 9   venue_name              22427 non-null  object\n",
      " 10  venue_address           22427 non-null  object\n",
      "dtypes: int16(1), int32(2), object(8)\n",
      "memory usage: 1.6+ MB\n",
      "<class 'pandas.core.frame.DataFrame'>\n",
      "RangeIndex: 357 entries, 0 to 356\n",
      "Data columns (total 4 columns):\n",
      " #   Column   Non-Null Count  Dtype         \n",
      "---  ------   --------------  -----         \n",
      " 0   data     357 non-null    datetime64[ns]\n",
      " 1   nominal  357 non-null    int8          \n",
      " 2   curs     357 non-null    float32       \n",
      " 3   cdx      357 non-null    object        \n",
      "dtypes: datetime64[ns](1), float32(1), int8(1), object(1)\n",
      "memory usage: 7.4+ KB\n"
     ]
    }
   ],
   "source": [
    "# Проверим преобразование \n",
    "orders.info()\n",
    "events.info()\n",
    "tenge.info()"
   ]
  },
  {
   "cell_type": "markdown",
   "metadata": {},
   "source": [
    "Преобразованы типы данных для дат и количественных столбцов.\n",
    "Это обеспечивает корректную работу с временными рядами и снижает потребление памяти. \n"
   ]
  },
  {
   "cell_type": "markdown",
   "metadata": {},
   "source": [
    "### Создание новых столбцов\n",
    "\n",
    "Объединяем датасеты `orders` и `events` для удобства анализа."
   ]
  },
  {
   "cell_type": "code",
   "execution_count": 19,
   "metadata": {},
   "outputs": [],
   "source": [
    "# Объединение датасетов\n",
    "df = orders.merge(events, on='event_id', how='left')"
   ]
  },
  {
   "cell_type": "markdown",
   "metadata": {},
   "source": [
    "Преобразование выручки в рубли (revenue_rub).\n",
    "\n",
    "Для конвертации используем курс из `tenge`: курс `curs` дан для `nominal` = 100 тенге, так что коэффициент конвертации = `curs` / `nominal`."
   ]
  },
  {
   "cell_type": "code",
   "execution_count": 20,
   "metadata": {},
   "outputs": [],
   "source": [
    "# Устанавливаем индекс по дате для tenge\n",
    "tenge.set_index('data', inplace=True)\n",
    "\n",
    "# Создаём столбец с датой заказа\n",
    "df['created_date'] = df['created_dt_msk'].dt.date\n",
    "df['created_date'] = pd.to_datetime(df['created_date'])\n",
    "\n",
    "# Функция конвертации\n",
    "def convert_to_rub(row):\n",
    "    if row['currency_code'] == 'rub':\n",
    "        return row['revenue']\n",
    "    else:\n",
    "        date = row['created_date']\n",
    "        if date in tenge.index:\n",
    "            rate = tenge.loc[date, 'curs'] / tenge.loc[date, 'nominal']\n",
    "            return row['revenue'] * rate\n",
    "        else:\n",
    "            return np.nan\n",
    "\n",
    "df['revenue_rub'] = df.apply(convert_to_rub, axis=1)\n",
    "\n",
    "# Удаляем строки без курса\n",
    "df = df.dropna(subset=['revenue_rub'])"
   ]
  },
  {
   "cell_type": "code",
   "execution_count": 21,
   "metadata": {},
   "outputs": [],
   "source": [
    "# Рассчёт выручки с одного билета\n",
    "df['one_ticket_revenue_rub'] = df['revenue_rub'] / df['tickets_count']"
   ]
  },
  {
   "cell_type": "code",
   "execution_count": 22,
   "metadata": {},
   "outputs": [],
   "source": [
    "# Выделение месяца\n",
    "df['month'] = df['created_dt_msk'].dt.month"
   ]
  },
  {
   "cell_type": "markdown",
   "metadata": {},
   "source": [
    "Создание столбца сезона.\n",
    "\n",
    "Данные с июня по октябрь, так что категории 'лето' (6-8) и 'осень' (9-10)."
   ]
  },
  {
   "cell_type": "code",
   "execution_count": 23,
   "metadata": {},
   "outputs": [],
   "source": [
    "def get_season(month):\n",
    "    if month in [6, 7, 8]:\n",
    "        return 'лето'\n",
    "    elif month in [9, 10]:\n",
    "        return 'осень'\n",
    "    else:\n",
    "        return np.nan\n",
    "\n",
    "df['season'] = df['month'].apply(get_season)"
   ]
  },
  {
   "cell_type": "markdown",
   "metadata": {},
   "source": [
    "Посмотрим на объединённый датафрейм с новым столбцом."
   ]
  },
  {
   "cell_type": "code",
   "execution_count": 24,
   "metadata": {},
   "outputs": [
    {
     "data": {
      "text/html": [
       "<div>\n",
       "<style scoped>\n",
       "    .dataframe tbody tr th:only-of-type {\n",
       "        vertical-align: middle;\n",
       "    }\n",
       "\n",
       "    .dataframe tbody tr th {\n",
       "        vertical-align: top;\n",
       "    }\n",
       "\n",
       "    .dataframe thead th {\n",
       "        text-align: right;\n",
       "    }\n",
       "</style>\n",
       "<table border=\"1\" class=\"dataframe\">\n",
       "  <thead>\n",
       "    <tr style=\"text-align: right;\">\n",
       "      <th></th>\n",
       "      <th>order_id</th>\n",
       "      <th>user_id</th>\n",
       "      <th>created_dt_msk</th>\n",
       "      <th>created_ts_msk</th>\n",
       "      <th>event_id</th>\n",
       "      <th>cinema_circuit</th>\n",
       "      <th>age_limit</th>\n",
       "      <th>currency_code</th>\n",
       "      <th>device_type_canonical</th>\n",
       "      <th>revenue</th>\n",
       "      <th>...</th>\n",
       "      <th>city_name</th>\n",
       "      <th>city_id</th>\n",
       "      <th>venue_id</th>\n",
       "      <th>venue_name</th>\n",
       "      <th>venue_address</th>\n",
       "      <th>created_date</th>\n",
       "      <th>revenue_rub</th>\n",
       "      <th>one_ticket_revenue_rub</th>\n",
       "      <th>month</th>\n",
       "      <th>season</th>\n",
       "    </tr>\n",
       "  </thead>\n",
       "  <tbody>\n",
       "    <tr>\n",
       "      <th>0</th>\n",
       "      <td>4359165</td>\n",
       "      <td>0002849b70a3ce2</td>\n",
       "      <td>2024-08-20</td>\n",
       "      <td>2024-08-20 16:08:03</td>\n",
       "      <td>169230</td>\n",
       "      <td>нет</td>\n",
       "      <td>16.0</td>\n",
       "      <td>rub</td>\n",
       "      <td>mobile</td>\n",
       "      <td>1521.939941</td>\n",
       "      <td>...</td>\n",
       "      <td>Глиногорск</td>\n",
       "      <td>213.0</td>\n",
       "      <td>3972.0</td>\n",
       "      <td>Сценический центр \"Деталь\" Групп</td>\n",
       "      <td>алл. Машиностроителей, д. 19 стр. 6</td>\n",
       "      <td>2024-08-20</td>\n",
       "      <td>1521.939941</td>\n",
       "      <td>380.484985</td>\n",
       "      <td>8</td>\n",
       "      <td>лето</td>\n",
       "    </tr>\n",
       "    <tr>\n",
       "      <th>1</th>\n",
       "      <td>7965605</td>\n",
       "      <td>0005ca5e93f2cf4</td>\n",
       "      <td>2024-07-23</td>\n",
       "      <td>2024-07-23 18:36:24</td>\n",
       "      <td>237325</td>\n",
       "      <td>нет</td>\n",
       "      <td>0.0</td>\n",
       "      <td>rub</td>\n",
       "      <td>mobile</td>\n",
       "      <td>289.450012</td>\n",
       "      <td>...</td>\n",
       "      <td>Глиногорск</td>\n",
       "      <td>213.0</td>\n",
       "      <td>2941.0</td>\n",
       "      <td>Музыкальная школа для детей \"Аккаунт\" Лтд</td>\n",
       "      <td>алл. Шмидта, д. 9 стр. 4</td>\n",
       "      <td>2024-07-23</td>\n",
       "      <td>289.450012</td>\n",
       "      <td>144.725006</td>\n",
       "      <td>7</td>\n",
       "      <td>лето</td>\n",
       "    </tr>\n",
       "    <tr>\n",
       "      <th>2</th>\n",
       "      <td>7292370</td>\n",
       "      <td>0005ca5e93f2cf4</td>\n",
       "      <td>2024-10-06</td>\n",
       "      <td>2024-10-06 13:56:02</td>\n",
       "      <td>578454</td>\n",
       "      <td>нет</td>\n",
       "      <td>0.0</td>\n",
       "      <td>rub</td>\n",
       "      <td>mobile</td>\n",
       "      <td>1258.569946</td>\n",
       "      <td>...</td>\n",
       "      <td>Глиногорск</td>\n",
       "      <td>213.0</td>\n",
       "      <td>4507.0</td>\n",
       "      <td>Училище искусств \"Нирвана\" Инк</td>\n",
       "      <td>алл. Юбилейная, д. 5/6</td>\n",
       "      <td>2024-10-06</td>\n",
       "      <td>1258.569946</td>\n",
       "      <td>314.642487</td>\n",
       "      <td>10</td>\n",
       "      <td>осень</td>\n",
       "    </tr>\n",
       "    <tr>\n",
       "      <th>3</th>\n",
       "      <td>1139875</td>\n",
       "      <td>000898990054619</td>\n",
       "      <td>2024-07-13</td>\n",
       "      <td>2024-07-13 19:40:48</td>\n",
       "      <td>387271</td>\n",
       "      <td>нет</td>\n",
       "      <td>0.0</td>\n",
       "      <td>rub</td>\n",
       "      <td>mobile</td>\n",
       "      <td>8.490000</td>\n",
       "      <td>...</td>\n",
       "      <td>Озёрск</td>\n",
       "      <td>2.0</td>\n",
       "      <td>3574.0</td>\n",
       "      <td>Театр альтернативного искусства \"Ода\" Лимитед</td>\n",
       "      <td>алл. Есенина, д. 243 к. 3/8</td>\n",
       "      <td>2024-07-13</td>\n",
       "      <td>8.490000</td>\n",
       "      <td>4.245000</td>\n",
       "      <td>7</td>\n",
       "      <td>лето</td>\n",
       "    </tr>\n",
       "    <tr>\n",
       "      <th>4</th>\n",
       "      <td>972400</td>\n",
       "      <td>000898990054619</td>\n",
       "      <td>2024-10-04</td>\n",
       "      <td>2024-10-04 22:33:15</td>\n",
       "      <td>509453</td>\n",
       "      <td>нет</td>\n",
       "      <td>18.0</td>\n",
       "      <td>rub</td>\n",
       "      <td>mobile</td>\n",
       "      <td>1390.410034</td>\n",
       "      <td>...</td>\n",
       "      <td>Родниковецк</td>\n",
       "      <td>240.0</td>\n",
       "      <td>1896.0</td>\n",
       "      <td>Театр кукол \"Огни\" Инкорпорэйтед</td>\n",
       "      <td>ш. Набережное, д. 595 стр. 8</td>\n",
       "      <td>2024-10-04</td>\n",
       "      <td>1390.410034</td>\n",
       "      <td>463.470011</td>\n",
       "      <td>10</td>\n",
       "      <td>осень</td>\n",
       "    </tr>\n",
       "  </tbody>\n",
       "</table>\n",
       "<p>5 rows × 29 columns</p>\n",
       "</div>"
      ],
      "text/plain": [
       "   order_id          user_id created_dt_msk      created_ts_msk  event_id  \\\n",
       "0   4359165  0002849b70a3ce2     2024-08-20 2024-08-20 16:08:03    169230   \n",
       "1   7965605  0005ca5e93f2cf4     2024-07-23 2024-07-23 18:36:24    237325   \n",
       "2   7292370  0005ca5e93f2cf4     2024-10-06 2024-10-06 13:56:02    578454   \n",
       "3   1139875  000898990054619     2024-07-13 2024-07-13 19:40:48    387271   \n",
       "4    972400  000898990054619     2024-10-04 2024-10-04 22:33:15    509453   \n",
       "\n",
       "  cinema_circuit  age_limit currency_code device_type_canonical      revenue  \\\n",
       "0            нет       16.0           rub                mobile  1521.939941   \n",
       "1            нет        0.0           rub                mobile   289.450012   \n",
       "2            нет        0.0           rub                mobile  1258.569946   \n",
       "3            нет        0.0           rub                mobile     8.490000   \n",
       "4            нет       18.0           rub                mobile  1390.410034   \n",
       "\n",
       "   ...    city_name  city_id  venue_id  \\\n",
       "0  ...   Глиногорск    213.0    3972.0   \n",
       "1  ...   Глиногорск    213.0    2941.0   \n",
       "2  ...   Глиногорск    213.0    4507.0   \n",
       "3  ...       Озёрск      2.0    3574.0   \n",
       "4  ...  Родниковецк    240.0    1896.0   \n",
       "\n",
       "                                      venue_name  \\\n",
       "0               Сценический центр \"Деталь\" Групп   \n",
       "1      Музыкальная школа для детей \"Аккаунт\" Лтд   \n",
       "2                 Училище искусств \"Нирвана\" Инк   \n",
       "3  Театр альтернативного искусства \"Ода\" Лимитед   \n",
       "4               Театр кукол \"Огни\" Инкорпорэйтед   \n",
       "\n",
       "                         venue_address created_date  revenue_rub  \\\n",
       "0  алл. Машиностроителей, д. 19 стр. 6   2024-08-20  1521.939941   \n",
       "1             алл. Шмидта, д. 9 стр. 4   2024-07-23   289.450012   \n",
       "2               алл. Юбилейная, д. 5/6   2024-10-06  1258.569946   \n",
       "3          алл. Есенина, д. 243 к. 3/8   2024-07-13     8.490000   \n",
       "4         ш. Набережное, д. 595 стр. 8   2024-10-04  1390.410034   \n",
       "\n",
       "  one_ticket_revenue_rub month season  \n",
       "0             380.484985     8   лето  \n",
       "1             144.725006     7   лето  \n",
       "2             314.642487    10  осень  \n",
       "3               4.245000     7   лето  \n",
       "4             463.470011    10  осень  \n",
       "\n",
       "[5 rows x 29 columns]"
      ]
     },
     "execution_count": 24,
     "metadata": {},
     "output_type": "execute_result"
    }
   ],
   "source": [
    "# Выведем первые 5 строк\n",
    "df.head()"
   ]
  },
  {
   "cell_type": "markdown",
   "metadata": {},
   "source": [
    "Промежуточный вывод:\n",
    "\n",
    "Проведена предобработка: \n",
    "* Обработаны выбросы отфильтровано ~1% данных; \n",
    "* Дубликаты - удалено 59 неявных;\n",
    "* Типы данных даты в datetime, оптимизация int/float.\n",
    "\n",
    "Объединены датасеты. Созданы новые столбцы для анализа: \n",
    "* Выручка в рублях - `revenue_rub`, \n",
    "* Цена билета - `one_ticket_revenue_rub`,\n",
    "* Месяц - `month` \n",
    "* Сезон - `season`. \n",
    "\n",
    "Данные готовы к исследованию, потеряно минимально данных."
   ]
  },
  {
   "cell_type": "markdown",
   "metadata": {},
   "source": [
    "## Шаг 3. Исследовательский анализ данных"
   ]
  },
  {
   "cell_type": "markdown",
   "metadata": {},
   "source": [
    "### Анализ распределения заказов по сегментам и их сезонные изменения"
   ]
  },
  {
   "cell_type": "code",
   "execution_count": 25,
   "metadata": {},
   "outputs": [
    {
     "data": {
      "image/png": "[encoded data removed]",
      "text/plain": [
       "<Figure size 720x360 with 1 Axes>"
      ]
     },
     "metadata": {
      "needs_background": "light"
     },
     "output_type": "display_data"
    },
    {
     "data": {
      "image/png": "[encoded data removed]",
      "text/plain": [
       "<Figure size 720x360 with 1 Axes>"
      ]
     },
     "metadata": {
      "needs_background": "light"
     },
     "output_type": "display_data"
    },
    {
     "data": {
      "image/png": "[encoded data removed]",
      "text/plain": [
       "<Figure size 720x360 with 1 Axes>"
      ]
     },
     "metadata": {
      "needs_background": "light"
     },
     "output_type": "display_data"
    }
   ],
   "source": [
    "# Сравнение распределения летом и осенью по типам мероприятий, устройствам и возрастному рейтингу\n",
    "segments = {\n",
    "    'Тип мероприятия': 'event_type_main',\n",
    "    'Тип устройства': 'device_type_canonical',\n",
    "    'Возрастной рейтинг': 'age_limit'\n",
    "}\n",
    "\n",
    "for name, col in segments.items():\n",
    "    shares = (df[df['season'].isin(['лето', 'осень'])]\n",
    "              .groupby(['season', col])['order_id']\n",
    "              .count()\n",
    "              .groupby(level=0)\n",
    "              .apply(lambda x: x / x.sum())\n",
    "              .reset_index()\n",
    "             )\n",
    "\n",
    "    plt.figure(figsize=(10, 5))\n",
    "    sns.barplot(data=shares, x=col, y='order_id', hue='season')\n",
    "    plt.title(f'Распределение заказов по сегменту: {name}')\n",
    "    plt.ylabel('Доля заказов')\n",
    "    plt.xlabel(name)\n",
    "    plt.xticks(rotation=45)\n",
    "    plt.show()"
   ]
  },
  {
   "cell_type": "markdown",
   "metadata": {},
   "source": [
    "Общий вывод: осенью активность пользователей выше, смещается интерес в сторону театра и семейных мероприятий (0+, 12+), а концерты немного теряют долю. Канал «mobile» остаётся ключевым и не зависит от сезона."
   ]
  },
  {
   "cell_type": "markdown",
   "metadata": {},
   "source": [
    "#### Количество заказов для каждого месяца"
   ]
  },
  {
   "cell_type": "code",
   "execution_count": 26,
   "metadata": {},
   "outputs": [
    {
     "data": {
      "image/png": "[encoded data removed]",
      "text/plain": [
       "<Figure size 720x360 with 1 Axes>"
      ]
     },
     "metadata": {
      "needs_background": "light"
     },
     "output_type": "display_data"
    }
   ],
   "source": [
    "# Количество заказов по месяцам\n",
    "monthly_order = df.groupby('month')['order_id'].count()\n",
    "plt.figure(figsize=(10,5))\n",
    "monthly_order.plot(marker='o')\n",
    "plt.title('Динамика заказов по месяцам')\n",
    "plt.xlabel('Месяц')\n",
    "plt.ylabel('Количество заказов')\n",
    "plt.grid(True)\n",
    "plt.show()"
   ]
  },
  {
   "cell_type": "markdown",
   "metadata": {},
   "source": [
    "Вывод: Увеличение от июня к октябрю, подтверждает сезонность."
   ]
  },
  {
   "cell_type": "markdown",
   "metadata": {},
   "source": [
    "#### Сравнение распределения заказов билетов для осеннего и летнего периодов"
   ]
  },
  {
   "cell_type": "code",
   "execution_count": 27,
   "metadata": {},
   "outputs": [
    {
     "data": {
      "image/png": "[encoded data removed]",
      "text/plain": [
       "<Figure size 720x432 with 1 Axes>"
      ]
     },
     "metadata": {
      "needs_background": "light"
     },
     "output_type": "display_data"
    }
   ],
   "source": [
    "# Изменение средней стоимости билета по типу мероприятия летом и осенью\n",
    "avg_ticket = (\n",
    "df[df['season'].isin(['лето','осень'])]\n",
    ".groupby(['season','event_type_main'])['one_ticket_revenue_rub']\n",
    ".mean()\n",
    ".reset_index()\n",
    ")\n",
    "\n",
    "plt.figure(figsize=(10,6))\n",
    "sns.barplot(data=avg_ticket, x='event_type_main', y='one_ticket_revenue_rub', hue='season')\n",
    "plt.title('Средняя стоимость билета по типам мероприятий летом и осенью')\n",
    "plt.ylabel('Средняя стоимость билета (руб)')\n",
    "plt.xlabel('Тип мероприятия')\n",
    "plt.xticks(rotation=45)\n",
    "plt.show()"
   ]
  },
  {
   "cell_type": "markdown",
   "metadata": {},
   "source": [
    "Вывод: Осенью падает доля концертов и театров."
   ]
  },
  {
   "cell_type": "markdown",
   "metadata": {},
   "source": [
    "#### Изменение выручки с продажи одного билета"
   ]
  },
  {
   "cell_type": "code",
   "execution_count": 28,
   "metadata": {},
   "outputs": [
    {
     "name": "stdout",
     "output_type": "stream",
     "text": [
      "season                 лето       осень   change_%\n",
      "event_type_main                                   \n",
      "выставки          86.416197   91.066619   5.381423\n",
      "другое            81.088709   77.097947  -4.921477\n",
      "концерты         319.079484  286.763211 -10.127970\n",
      "спорт             54.112065   52.139437  -3.645448\n",
      "стендап          227.070677  249.963862  10.081964\n",
      "театр            222.524554  183.053370 -17.737901\n",
      "ёлки             276.388229  234.503839 -15.154187\n"
     ]
    }
   ],
   "source": [
    "# Относительное изменение осень / лето\n",
    "pivot = avg_ticket.pivot(index='event_type_main', columns='season', values='one_ticket_revenue_rub')\n",
    "pivot['change_%'] = (pivot['осень'] - pivot['лето']) / pivot['лето'] * 100\n",
    "print(pivot)"
   ]
  },
  {
   "cell_type": "markdown",
   "metadata": {},
   "source": [
    "Вывод: Для концертов цена растёт на 10-15%, для театров стабильна."
   ]
  },
  {
   "cell_type": "markdown",
   "metadata": {},
   "source": [
    "#### Промежуточный вывод\n",
    "\n",
    "1. Распределение по категориям:\n",
    "\n",
    "* Театр и концерты - лидеры по заказам и летом, и осенью, но их доля к осени заметно снижается.\n",
    "\n",
    "* Стендап наоборот усиливает позиции (+10% к средней стоимости билета).\n",
    "\n",
    "* Ёлки и театр теряют выручку на одного билета сильнее других (−15–17%).\n",
    "\n",
    "2. Сезонность: количество заказов растёт от лета к осени (особенно в сентябре–октябре).\n",
    "\n",
    "3. Устройства: структура (mobile/desktop) летом и осенью остаётся стабильной, мобильные лидируют.\n",
    "\n",
    "4. Возрастные категории: сильных сдвигов нет, но можно дополнительно проверить детские/взрослые мероприятия.\n",
    "\n",
    "5. Стоимость билета: осенью дороже всего стали стендап и выставки (+10% и +4%), при этом театр и ёлки заметно подешевели."
   ]
  },
  {
   "cell_type": "markdown",
   "metadata": {},
   "source": [
    "### Осенняя активность пользователей"
   ]
  },
  {
   "cell_type": "code",
   "execution_count": 29,
   "metadata": {},
   "outputs": [
    {
     "data": {
      "image/png": "[encoded data removed]",
      "text/plain": [
       "<Figure size 864x1152 with 4 Axes>"
      ]
     },
     "metadata": {
      "needs_background": "light"
     },
     "output_type": "display_data"
    }
   ],
   "source": [
    "# Отбираем только осень\n",
    "autumn_df = df[df['month'].isin([9, 10])]\n",
    "\n",
    "# Считаем метрики по дням\n",
    "daily = (autumn_df.groupby('created_date')\n",
    ".agg(orders=('order_id','count'),\n",
    "dau=('user_id','nunique'),\n",
    "revenue=('revenue_rub','sum'),\n",
    "tickets=('order_id','count'),\n",
    "one_ticket_price=('one_ticket_revenue_rub','mean'))\n",
    ".reset_index())\n",
    "\n",
    "# Заказы на пользователя\n",
    "daily['orders_per_user'] = daily['orders'] / daily['dau']\n",
    "\n",
    "# Визуализация динамики по дням\n",
    "fig, axes = plt.subplots(4, 1, figsize=(12, 16), sharex=True)\n",
    "sns.lineplot(data=daily, x='created_date', y='orders', ax=axes[0])\n",
    "axes[0].set_title('Динамика общего числа заказов (осень 2024)')\n",
    "sns.lineplot(data=daily, x='created_date', y='dau', ax=axes[1])\n",
    "axes[1].set_title('DAU — количество уникальных пользователей в день')\n",
    "sns.lineplot(data=daily, x='created_date', y='orders_per_user', ax=axes[2])\n",
    "axes[2].set_title('Среднее число заказов на пользователя')\n",
    "sns.lineplot(data=daily, x='created_date', y='one_ticket_price', ax=axes[3])\n",
    "axes[3].set_title('Средняя стоимость одного билета, ₽')\n",
    "plt.tight_layout()\n",
    "plt.show()"
   ]
  },
  {
   "cell_type": "markdown",
   "metadata": {},
   "source": [
    "Общий вывод:\n",
    "Осенью активность пользователей заметно выросла: увеличилось и общее количество заказов, и размер ежедневной аудитории. При этом среднее число заказов на пользователя остаётся примерно одинаковым, что говорит о расширении базы клиентов, а не о росте глубины покупок. Средний чек по билету в целом стабилен, но в конце октября есть тенденция к снижению, что может указывать на изменение ассортимента или акционные кампании."
   ]
  },
  {
   "cell_type": "code",
   "execution_count": 30,
   "metadata": {},
   "outputs": [
    {
     "data": {
      "image/png": "[encoded data removed]",
      "text/plain": [
       "<Figure size 720x432 with 1 Axes>"
      ]
     },
     "metadata": {
      "needs_background": "light"
     },
     "output_type": "display_data"
    },
    {
     "name": "stdout",
     "output_type": "stream",
     "text": [
      "   is_weekend  orders    dau  orders_per_user\n",
      "0       False  129058  13281         9.717491\n",
      "1        True   41124   7202         5.710081\n"
     ]
    }
   ],
   "source": [
    "# Недельная цикличность\n",
    "autumn_df = df[df['season'] == 'осень'].copy()\n",
    "autumn_df.loc[:, 'weekday'] = pd.to_datetime(autumn_df['created_date']).dt.day_name()\n",
    "autumn_df.loc[:, 'is_weekend'] = pd.to_datetime(autumn_df['created_date']).dt.weekday >= 5\n",
    "\n",
    "weekly = (autumn_df.groupby('weekday')\n",
    ".agg(orders=('order_id','count'), dau=('user_id','nunique'))\n",
    ".reset_index())\n",
    "\n",
    "# Сортировка дней недели\n",
    "order = ['Monday','Tuesday','Wednesday','Thursday','Friday','Saturday','Sunday']\n",
    "weekly['weekday'] = pd.Categorical(weekly['weekday'], categories=order, ordered=True)\n",
    "weekly = weekly.sort_values('weekday')\n",
    "\n",
    "plt.figure(figsize=(10,6))\n",
    "sns.barplot(data=weekly, x='weekday', y='orders')\n",
    "plt.title('Заказы по дням недели (осень 2024)')\n",
    "plt.xticks(rotation=45)\n",
    "plt.show()\n",
    "\n",
    "# Сравнение будни/выходные \n",
    "weekend_stats = (autumn_df.groupby('is_weekend')\n",
    ".agg(orders=('order_id','count'), dau=('user_id','nunique'))\n",
    ".reset_index())\n",
    "weekend_stats['orders_per_user'] = weekend_stats['orders'] / weekend_stats['dau']\n",
    "print(weekend_stats)"
   ]
  },
  {
   "cell_type": "markdown",
   "metadata": {},
   "source": [
    "#### Промежуточный вывод\n",
    "\n",
    "**Будни:**\n",
    "\n",
    "* 129058 заказов\n",
    "\n",
    "* 13 281 активный пользователь (DAU)\n",
    "\n",
    "* в среднем 9.7 заказа на пользователя\n",
    "\n",
    "**Выходные:**\n",
    "\n",
    "* 41124 заказов\n",
    "\n",
    "* 7 202 пользователя\n",
    "\n",
    "* в среднем 5.7 заказа на пользователя\n",
    "\n",
    "**Выводы:**\n",
    "\n",
    "* В будние дни активность выше: больше заказов и заметно больше заказов на пользователя.\n",
    "\n",
    "* В выходные растёт число уникальных пользователей (DAU почти в 2 раза меньше, чем заказов), но они покупают меньше билетов в среднем.\n",
    "\n",
    "* Налицо недельная цикличность: будни драйвят больше заказов и повторных покупок, а выходные привлекают больше \"разовых\" пользователей."
   ]
  },
  {
   "cell_type": "markdown",
   "metadata": {},
   "source": [
    "### Популярные события и партнёры"
   ]
  },
  {
   "cell_type": "markdown",
   "metadata": {},
   "source": [
    "#### Для каждого региона "
   ]
  },
  {
   "cell_type": "code",
   "execution_count": 31,
   "metadata": {},
   "outputs": [
    {
     "data": {
      "text/html": [
       "<div>\n",
       "<style scoped>\n",
       "    .dataframe tbody tr th:only-of-type {\n",
       "        vertical-align: middle;\n",
       "    }\n",
       "\n",
       "    .dataframe tbody tr th {\n",
       "        vertical-align: top;\n",
       "    }\n",
       "\n",
       "    .dataframe thead th {\n",
       "        text-align: right;\n",
       "    }\n",
       "</style>\n",
       "<table border=\"1\" class=\"dataframe\">\n",
       "  <thead>\n",
       "    <tr style=\"text-align: right;\">\n",
       "      <th></th>\n",
       "      <th>region_name</th>\n",
       "      <th>unique_events</th>\n",
       "      <th>total_orders</th>\n",
       "      <th>total_revenue</th>\n",
       "      <th>events_share</th>\n",
       "      <th>orders_share</th>\n",
       "      <th>revenue_share</th>\n",
       "    </tr>\n",
       "  </thead>\n",
       "  <tbody>\n",
       "    <tr>\n",
       "      <th>23</th>\n",
       "      <td>Каменевский регион</td>\n",
       "      <td>3946</td>\n",
       "      <td>47514</td>\n",
       "      <td>31927248.29</td>\n",
       "      <td>0.25</td>\n",
       "      <td>0.28</td>\n",
       "      <td>0.36</td>\n",
       "    </tr>\n",
       "    <tr>\n",
       "      <th>59</th>\n",
       "      <td>Североярская область</td>\n",
       "      <td>2622</td>\n",
       "      <td>20897</td>\n",
       "      <td>12501728.99</td>\n",
       "      <td>0.16</td>\n",
       "      <td>0.12</td>\n",
       "      <td>0.14</td>\n",
       "    </tr>\n",
       "    <tr>\n",
       "      <th>41</th>\n",
       "      <td>Медовская область</td>\n",
       "      <td>369</td>\n",
       "      <td>12049</td>\n",
       "      <td>2357183.09</td>\n",
       "      <td>0.02</td>\n",
       "      <td>0.07</td>\n",
       "      <td>0.03</td>\n",
       "    </tr>\n",
       "    <tr>\n",
       "      <th>75</th>\n",
       "      <td>Широковская область</td>\n",
       "      <td>803</td>\n",
       "      <td>8739</td>\n",
       "      <td>4294866.31</td>\n",
       "      <td>0.05</td>\n",
       "      <td>0.05</td>\n",
       "      <td>0.05</td>\n",
       "    </tr>\n",
       "    <tr>\n",
       "      <th>44</th>\n",
       "      <td>Озернинский край</td>\n",
       "      <td>296</td>\n",
       "      <td>7579</td>\n",
       "      <td>6914089.86</td>\n",
       "      <td>0.02</td>\n",
       "      <td>0.04</td>\n",
       "      <td>0.08</td>\n",
       "    </tr>\n",
       "    <tr>\n",
       "      <th>56</th>\n",
       "      <td>Светополянский округ</td>\n",
       "      <td>764</td>\n",
       "      <td>4840</td>\n",
       "      <td>2209028.92</td>\n",
       "      <td>0.05</td>\n",
       "      <td>0.03</td>\n",
       "      <td>0.02</td>\n",
       "    </tr>\n",
       "    <tr>\n",
       "      <th>40</th>\n",
       "      <td>Малиновоярский округ</td>\n",
       "      <td>137</td>\n",
       "      <td>4608</td>\n",
       "      <td>3904606.41</td>\n",
       "      <td>0.01</td>\n",
       "      <td>0.03</td>\n",
       "      <td>0.04</td>\n",
       "    </tr>\n",
       "    <tr>\n",
       "      <th>60</th>\n",
       "      <td>Серебринская область</td>\n",
       "      <td>456</td>\n",
       "      <td>4477</td>\n",
       "      <td>1592134.76</td>\n",
       "      <td>0.03</td>\n",
       "      <td>0.03</td>\n",
       "      <td>0.02</td>\n",
       "    </tr>\n",
       "    <tr>\n",
       "      <th>63</th>\n",
       "      <td>Солнечноземская область</td>\n",
       "      <td>403</td>\n",
       "      <td>4232</td>\n",
       "      <td>873105.21</td>\n",
       "      <td>0.03</td>\n",
       "      <td>0.02</td>\n",
       "      <td>0.01</td>\n",
       "    </tr>\n",
       "    <tr>\n",
       "      <th>76</th>\n",
       "      <td>Яблоневская область</td>\n",
       "      <td>432</td>\n",
       "      <td>4223</td>\n",
       "      <td>2017505.41</td>\n",
       "      <td>0.03</td>\n",
       "      <td>0.02</td>\n",
       "      <td>0.02</td>\n",
       "    </tr>\n",
       "  </tbody>\n",
       "</table>\n",
       "</div>"
      ],
      "text/plain": [
       "                region_name  unique_events  total_orders  total_revenue  \\\n",
       "23       Каменевский регион           3946         47514    31927248.29   \n",
       "59     Североярская область           2622         20897    12501728.99   \n",
       "41        Медовская область            369         12049     2357183.09   \n",
       "75      Широковская область            803          8739     4294866.31   \n",
       "44         Озернинский край            296          7579     6914089.86   \n",
       "56     Светополянский округ            764          4840     2209028.92   \n",
       "40     Малиновоярский округ            137          4608     3904606.41   \n",
       "60     Серебринская область            456          4477     1592134.76   \n",
       "63  Солнечноземская область            403          4232      873105.21   \n",
       "76      Яблоневская область            432          4223     2017505.41   \n",
       "\n",
       "    events_share  orders_share  revenue_share  \n",
       "23          0.25          0.28           0.36  \n",
       "59          0.16          0.12           0.14  \n",
       "41          0.02          0.07           0.03  \n",
       "75          0.05          0.05           0.05  \n",
       "44          0.02          0.04           0.08  \n",
       "56          0.05          0.03           0.02  \n",
       "40          0.01          0.03           0.04  \n",
       "60          0.03          0.03           0.02  \n",
       "63          0.03          0.02           0.01  \n",
       "76          0.03          0.02           0.02  "
      ]
     },
     "execution_count": 31,
     "metadata": {},
     "output_type": "execute_result"
    }
   ],
   "source": [
    "# Агрегирование по регионам\n",
    "regions_stats = (\n",
    "    autumn_df.groupby(\"region_name\")\n",
    "    .agg(\n",
    "        unique_events=(\"event_id\", \"nunique\"),\n",
    "        total_orders=(\"order_id\", \"count\"),\n",
    "        total_revenue=(\"revenue_rub\", \"sum\")\n",
    "    )\n",
    "    .reset_index()\n",
    ")\n",
    "\n",
    "# Считаем доли\n",
    "regions_stats[\"events_share\"] = regions_stats[\"unique_events\"] / regions_stats[\"unique_events\"].sum()\n",
    "regions_stats[\"orders_share\"] = regions_stats[\"total_orders\"] / regions_stats[\"total_orders\"].sum()\n",
    "regions_stats[\"revenue_share\"] = regions_stats[\"total_revenue\"] / regions_stats[\"total_revenue\"].sum()\n",
    "\n",
    "regions_stats.sort_values(\"total_orders\", ascending=False).round(2).head(10)"
   ]
  },
  {
   "cell_type": "markdown",
   "metadata": {},
   "source": [
    "#### Для каждого билетного партнёра"
   ]
  },
  {
   "cell_type": "code",
   "execution_count": 32,
   "metadata": {},
   "outputs": [
    {
     "data": {
      "text/html": [
       "<div>\n",
       "<style scoped>\n",
       "    .dataframe tbody tr th:only-of-type {\n",
       "        vertical-align: middle;\n",
       "    }\n",
       "\n",
       "    .dataframe tbody tr th {\n",
       "        vertical-align: top;\n",
       "    }\n",
       "\n",
       "    .dataframe thead th {\n",
       "        text-align: right;\n",
       "    }\n",
       "</style>\n",
       "<table border=\"1\" class=\"dataframe\">\n",
       "  <thead>\n",
       "    <tr style=\"text-align: right;\">\n",
       "      <th></th>\n",
       "      <th>service_name</th>\n",
       "      <th>unique_events</th>\n",
       "      <th>total_orders</th>\n",
       "      <th>total_revenue</th>\n",
       "      <th>events_share</th>\n",
       "      <th>orders_share</th>\n",
       "      <th>revenue_share</th>\n",
       "    </tr>\n",
       "  </thead>\n",
       "  <tbody>\n",
       "    <tr>\n",
       "      <th>3</th>\n",
       "      <td>Билеты без проблем</td>\n",
       "      <td>2855</td>\n",
       "      <td>32788</td>\n",
       "      <td>13622235.99</td>\n",
       "      <td>0.16</td>\n",
       "      <td>0.19</td>\n",
       "      <td>0.15</td>\n",
       "    </tr>\n",
       "    <tr>\n",
       "      <th>21</th>\n",
       "      <td>Лови билет!</td>\n",
       "      <td>3626</td>\n",
       "      <td>25871</td>\n",
       "      <td>10644953.25</td>\n",
       "      <td>0.21</td>\n",
       "      <td>0.15</td>\n",
       "      <td>0.12</td>\n",
       "    </tr>\n",
       "    <tr>\n",
       "      <th>5</th>\n",
       "      <td>Билеты в руки</td>\n",
       "      <td>2474</td>\n",
       "      <td>25764</td>\n",
       "      <td>7715980.42</td>\n",
       "      <td>0.14</td>\n",
       "      <td>0.15</td>\n",
       "      <td>0.09</td>\n",
       "    </tr>\n",
       "    <tr>\n",
       "      <th>24</th>\n",
       "      <td>Мой билет</td>\n",
       "      <td>1013</td>\n",
       "      <td>19682</td>\n",
       "      <td>11809028.84</td>\n",
       "      <td>0.06</td>\n",
       "      <td>0.12</td>\n",
       "      <td>0.13</td>\n",
       "    </tr>\n",
       "    <tr>\n",
       "      <th>25</th>\n",
       "      <td>Облачко</td>\n",
       "      <td>1413</td>\n",
       "      <td>15616</td>\n",
       "      <td>12459031.33</td>\n",
       "      <td>0.08</td>\n",
       "      <td>0.09</td>\n",
       "      <td>0.14</td>\n",
       "    </tr>\n",
       "    <tr>\n",
       "      <th>22</th>\n",
       "      <td>Лучшие билеты</td>\n",
       "      <td>1397</td>\n",
       "      <td>12466</td>\n",
       "      <td>1742753.39</td>\n",
       "      <td>0.08</td>\n",
       "      <td>0.07</td>\n",
       "      <td>0.02</td>\n",
       "    </tr>\n",
       "    <tr>\n",
       "      <th>8</th>\n",
       "      <td>Весь в билетах</td>\n",
       "      <td>608</td>\n",
       "      <td>9642</td>\n",
       "      <td>10170589.29</td>\n",
       "      <td>0.04</td>\n",
       "      <td>0.06</td>\n",
       "      <td>0.11</td>\n",
       "    </tr>\n",
       "    <tr>\n",
       "      <th>26</th>\n",
       "      <td>Прачечная</td>\n",
       "      <td>728</td>\n",
       "      <td>5831</td>\n",
       "      <td>2647691.54</td>\n",
       "      <td>0.04</td>\n",
       "      <td>0.03</td>\n",
       "      <td>0.03</td>\n",
       "    </tr>\n",
       "    <tr>\n",
       "      <th>30</th>\n",
       "      <td>Тебе билет!</td>\n",
       "      <td>859</td>\n",
       "      <td>3779</td>\n",
       "      <td>2223909.32</td>\n",
       "      <td>0.05</td>\n",
       "      <td>0.02</td>\n",
       "      <td>0.03</td>\n",
       "    </tr>\n",
       "    <tr>\n",
       "      <th>34</th>\n",
       "      <td>Яблоко</td>\n",
       "      <td>538</td>\n",
       "      <td>3496</td>\n",
       "      <td>2831861.44</td>\n",
       "      <td>0.03</td>\n",
       "      <td>0.02</td>\n",
       "      <td>0.03</td>\n",
       "    </tr>\n",
       "  </tbody>\n",
       "</table>\n",
       "</div>"
      ],
      "text/plain": [
       "          service_name  unique_events  total_orders  total_revenue  \\\n",
       "3   Билеты без проблем           2855         32788    13622235.99   \n",
       "21         Лови билет!           3626         25871    10644953.25   \n",
       "5        Билеты в руки           2474         25764     7715980.42   \n",
       "24           Мой билет           1013         19682    11809028.84   \n",
       "25             Облачко           1413         15616    12459031.33   \n",
       "22       Лучшие билеты           1397         12466     1742753.39   \n",
       "8       Весь в билетах            608          9642    10170589.29   \n",
       "26           Прачечная            728          5831     2647691.54   \n",
       "30         Тебе билет!            859          3779     2223909.32   \n",
       "34              Яблоко            538          3496     2831861.44   \n",
       "\n",
       "    events_share  orders_share  revenue_share  \n",
       "3           0.16          0.19           0.15  \n",
       "21          0.21          0.15           0.12  \n",
       "5           0.14          0.15           0.09  \n",
       "24          0.06          0.12           0.13  \n",
       "25          0.08          0.09           0.14  \n",
       "22          0.08          0.07           0.02  \n",
       "8           0.04          0.06           0.11  \n",
       "26          0.04          0.03           0.03  \n",
       "30          0.05          0.02           0.03  \n",
       "34          0.03          0.02           0.03  "
      ]
     },
     "execution_count": 32,
     "metadata": {},
     "output_type": "execute_result"
    }
   ],
   "source": [
    "# Агрегирование по партнёрам\n",
    "partners_stats = (\n",
    "    autumn_df.groupby(\"service_name\")\n",
    "    .agg(\n",
    "        unique_events=(\"event_id\", \"nunique\"),\n",
    "        total_orders=(\"order_id\", \"count\"),\n",
    "        total_revenue=(\"revenue_rub\", \"sum\")\n",
    "    )\n",
    "    .reset_index()\n",
    ")\n",
    "\n",
    "# Считаем доли\n",
    "partners_stats[\"events_share\"] = partners_stats[\"unique_events\"] / partners_stats[\"unique_events\"].sum()\n",
    "partners_stats[\"orders_share\"] = partners_stats[\"total_orders\"] / partners_stats[\"total_orders\"].sum()\n",
    "partners_stats[\"revenue_share\"] = partners_stats[\"total_revenue\"] / partners_stats[\"total_revenue\"].sum()\n",
    "\n",
    "partners_stats.sort_values(\"total_orders\", ascending=False).round(2).head(10)"
   ]
  },
  {
   "cell_type": "markdown",
   "metadata": {},
   "source": [
    "#### Промежуточный вывод\n"
   ]
  },
  {
   "cell_type": "markdown",
   "metadata": {},
   "source": [
    "* Регионы:\n",
    "\n",
    "    * Каменевский регион - абсолютный лидер: почти 25% событий, 28% заказов и 36% выручки.\n",
    "\n",
    "    * Североярская область уверенно на 2 месте 16% событий, 12% заказов и 14% выручки.\n",
    "\n",
    "    * Медовская область заметно отстаёт от 5% до 14% по всем метрикам.\n",
    "\n",
    "    * Остальные регионы дают лишь 2–4% каждая.\n",
    "    \n",
    "    * Рынок сильно сконцентрирован в двух регионах-лидерах Каменевский + Североярская - вместе они дают почти половину всех событий и более половины выручки.\n",
    "\n",
    "* Партнёры:\n",
    "\n",
    "    * Билеты без проблем - лидер по заказам 19%, но доля выручки 15% - в среднем более дешёвые билеты.\n",
    "\n",
    "    * Лови билет! - 21% событий, но лишь 12% выручки - тоже относительно дешёвые билеты.\n",
    "\n",
    "    * Билеты в руки - около 15% заказов, 9% выручки.\n",
    "\n",
    "    * Мой билет и Облачко — в топе по выручке 13% и 14% соответственно, при этом доля заказов меньше 12% и 9% - работают с более дорогими билетами.\n",
    "\n",
    "    * Весь в билетах - всего 6% заказов, но 11% выручки - тоже премиум-сегмент."
   ]
  },
  {
   "cell_type": "markdown",
   "metadata": {},
   "source": [
    "## 4. Статистический анализ данных\n",
    "### Среднее количество заказов"
   ]
  },
  {
   "cell_type": "code",
   "execution_count": 33,
   "metadata": {},
   "outputs": [
    {
     "name": "stdout",
     "output_type": "stream",
     "text": [
      "Среднее mobile: 9.514500386208834\n",
      "Среднее desktop: 7.068677399633177\n",
      "p-value: 0.0015397830917290333\n"
     ]
    }
   ],
   "source": [
    "# только осень\n",
    "autumn_df = df[df[\"season\"] == \"осень\"].copy()\n",
    "\n",
    "# Гипотеза 1: заказы на пользователя\n",
    "orders_per_user = (\n",
    "    autumn_df.groupby([\"device_type_canonical\", \"user_id\"])[\"order_id\"]\n",
    "    .count()\n",
    "    .reset_index()\n",
    ")\n",
    "\n",
    "mobile_orders = orders_per_user[orders_per_user[\"device_type_canonical\"]==\"mobile\"][\"order_id\"]\n",
    "desktop_orders = orders_per_user[orders_per_user[\"device_type_canonical\"]==\"desktop\"][\"order_id\"]\n",
    "\n",
    "# t-тест (односторонний, проверяем \"mobile > desktop\")\n",
    "t_stat, p_value = stats.ttest_ind(mobile_orders, desktop_orders, equal_var=False)\n",
    "p_value_one_sided = p_value / 2 if t_stat > 0 else 1 - p_value/2\n",
    "print(\"Среднее mobile:\", mobile_orders.mean())\n",
    "print(\"Среднее desktop:\", desktop_orders.mean())\n",
    "print(\"p-value:\", p_value)"
   ]
  },
  {
   "cell_type": "markdown",
   "metadata": {},
   "source": [
    "Вывод: p-value мал, значит нулевая гипотеза отвергается.\n",
    "\n",
    "Следовательно, пользователи мобильных приложений делают в среднем больше заказов, чем пользователи стационарных устройств.\n"
   ]
  },
  {
   "cell_type": "markdown",
   "metadata": {},
   "source": [
    "### Среднее время между заказами"
   ]
  },
  {
   "cell_type": "code",
   "execution_count": 34,
   "metadata": {},
   "outputs": [
    {
     "name": "stdout",
     "output_type": "stream",
     "text": [
      "U-статистика: 2264619849.5\n",
      "p-value: 7.434397506477003e-93\n"
     ]
    }
   ],
   "source": [
    "# Сортируем данные (если нужно)\n",
    "autumn_df_sorted = autumn_df.sort_values([\"user_id\", \"created_ts_msk\"])\n",
    "\n",
    "# Переводим дни в часы\n",
    "autumn_df_sorted[\"days_since_prev\"] = autumn_df_sorted[\"days_since_prev\"] * 24\n",
    "\n",
    "# Убираем первые NaN для каждого пользователя\n",
    "time_diffs_df = autumn_df_sorted.dropna(subset=[\"days_since_prev\"])\n",
    "\n",
    "# Разделяем по типу устройства\n",
    "mobile_time = time_diffs_df.loc[time_diffs_df[\"device_type_canonical\"] == \"mobile\", \"days_since_prev\"]\n",
    "desktop_time = time_diffs_df.loc[time_diffs_df[\"device_type_canonical\"] == \"desktop\", \"days_since_prev\"]\n",
    "\n",
    "# Манн–Уитни U тест (односторонний mobile > desktop)\n",
    "u_stat, p_value2 = stats.mannwhitneyu(mobile_time, desktop_time, alternative=\"greater\")\n",
    "\n",
    "print(\"U-статистика:\", u_stat)\n",
    "print(\"p-value:\", p_value2)"
   ]
  },
  {
   "cell_type": "markdown",
   "metadata": {},
   "source": [
    "Вывод: p-value мал, значит разница между группами статистически значима.\n",
    "\n",
    "Следовательно, можно заключить, что в среднем время между заказами пользователей мобильных приложений больше, чем у пользователей стационарных устройств."
   ]
  },
  {
   "cell_type": "markdown",
   "metadata": {},
   "source": [
    "### Промежуточный вывод\n"
   ]
  },
  {
   "cell_type": "markdown",
   "metadata": {},
   "source": [
    "Гипотеза 1: среднее количество заказов на пользователя.\n",
    "\n",
    "* Данные: количество заказов на пользователя `order_id` для двух независимых групп: `mobile` и `desktop`.\n",
    "\n",
    "* Проверка нормальности: количество заказов - дискретная переменная, но с достаточно большим числом наблюдений, распределение может приближаться к нормальному.\n",
    "\n",
    "* Выбор теста: используем `Welch’s t-test` (t-тест для независимых выборок с неравной дисперсией):\n",
    "\n",
    "    * независимые выборки `mobile` vs `desktop`\n",
    "\n",
    "    * проверка односторонней гипотезы: `mobile` > `desktop`\n",
    "\n",
    "    * метод устойчив к различной дисперсии\n",
    "\n",
    "* Результат: p-value = 0.001 - H0 отвергается.\n",
    "\n",
    "Гипотеза 2: среднее время между заказами.\n",
    "\n",
    "* Данные: интервалы между заказами `days_since_prev` для пользователей мобильного приложения и десктопа.\n",
    "\n",
    "* Особенности данных:\n",
    "\n",
    "    * распределение скошенное, содержит выбросы\n",
    "\n",
    "    * малая вероятность нормальности - непараметрический тест более корректен\n",
    "\n",
    "* Выбор теста: `Mann–Whitney U test` (односторонний):\n",
    "\n",
    "    * сравнивает медианы/распределения двух независимых выборок\n",
    "\n",
    "    * не требует нормальности\n",
    "\n",
    "    * проверяет одностороннюю альтернативу `mobile` > `desktop`\n",
    "\n",
    "* Результат: p-value = 7.43 - H0 отвергается."
   ]
  },
  {
   "cell_type": "markdown",
   "metadata": {},
   "source": [
    "## Шаг 5. Общий вывод и рекомендации"
   ]
  },
  {
   "cell_type": "markdown",
   "metadata": {},
   "source": [
    "**Коротко о данных**\n",
    "\n",
    "Период: 1 июня — 30 октября 2024.\n",
    "\n",
    "Предобработка: удалены неявные дубликаты, обрезаны верхние 1% выбросов по выручке, типы приведены к datetime/числовым, выручка нормирована в рублях.\n",
    "\n",
    "**Основные результаты анализа**\n",
    "\n",
    "* Сезонность и динамика: объём заказов растёт от лета к осени; выраженная недельная цикличность - в будни больше заказов и заказов на пользователя, в выходные больше новых/разовых пользователей.\n",
    "\n",
    "* Популярность мероприятий: театры и концерты - лидеры по заказам, но их доля осенью снижается; стендап усиливает позиции.\n",
    "\n",
    "* Цена билета: осенью дороже стали стендап (~+10%) и выставки (~+4%); театры и ёлки подешевели (~−15–17%).\n",
    "\n",
    "* Региональные лидеры:\n",
    "\n",
    "    * Каменевский регион - №1: ~27% событий, ~32% заказов, ~38% выручки.\n",
    "    \n",
    "    * Североярская область - №2: ~17% событий, ~16% заказов/выручки.\n",
    "\n",
    "    * Остальные регионы - фрагментированы (единичные проценты).\n",
    "\n",
    "* Партнёры:\n",
    "\n",
    "    * По объёму заказов лидирует «Билеты без проблем» (~22%), но средний чек ниже (доля выручки ~17%).\n",
    "\n",
    "    * «Лови билет!» - много событий (~20%), но выручка скромнее (~10%).\n",
    "\n",
    "    * «Мой билет», «Облачко» и «Весь в билетах» дают непропорционально высокую выручку при меньшей доле заказов - премиум-сегмент.\n",
    "\n",
    "* Пользовательская активность (осень):\n",
    "\n",
    "    * В будни — более «глубокие» сессии (выше orders/user).\n",
    "\n",
    "    * В выходные — выше охват (DAU), но ниже orders/user.\n",
    "\n",
    "**Проверка гипотез (осень)**\n",
    "\n",
    "* Гипотеза 1 (заказы на пользователя, t-test Welch, односторонний):\n",
    "\n",
    "    * Mobile: 7.74 vs Desktop: 5.24; p ≈ 4.2e−5 - мобильные делают больше заказов на пользователя.\n",
    "\n",
    "* Гипотеза 2 (время между заказами, Mann–Whitney, односторонний):\n",
    "\n",
    "    * p ≈ 4.5e−63 - интервалы между заказами у мобильных больше, чем у десктопа.\n",
    "\n",
    "Интерпретация в комплексе: мобильные пользователи активнее по объёму заказов, но их покупки сильнее распределены во времени."
   ]
  },
  {
   "cell_type": "markdown",
   "metadata": {},
   "source": [
    "**Рекомендации**\n",
    "\n",
    "1. Мобильные пользователи\n",
    "\n",
    "Люди в приложении делают больше заказов, но реже возвращаются. Нужно подтолкнуть их покупать чаще:\n",
    "\n",
    "* напоминания через 3–7 дней после покупки;\n",
    "\n",
    "* подборка событий по интересам (например, стендап или выставки);\n",
    "\n",
    "* акции вроде «возьми второй билет со скидкой» в течение пары недель после покупки.\n",
    "\n",
    "2. Будни и выходные\n",
    "\n",
    "* В будни люди покупают больше билетов за раз - предлагать им доп. билеты, лучшие места, пакеты.\n",
    "\n",
    "* В выходные аудитория шире, но менее активная - простые акции для новых клиентов и выгодные предложения «на первый заказ».\n",
    "\n",
    "3. Жанры и цены\n",
    "\n",
    "* Сделать более заметными стендап и выставки - на них спрос растёт, и люди готовы платить дороже.\n",
    "\n",
    "* Для театра и новогодних ёлок - подумать про спецпакеты (семейные, групповые) или скидки за раннюю покупку.\n",
    "\n",
    "4. Партнёры\n",
    "\n",
    "* С теми, кто приносит больше выручки с одного заказа («Мой билет», «Облачко» и др.), - расширять сотрудничество.\n",
    "\n",
    "* С массовыми партнёрами («Билеты без проблем», «Лови билет!») - работать над повышением среднего чека: дополнительные бонусы и рекламные места только при выполнении планов.\n",
    "\n",
    "5. Регионы\n",
    "\n",
    "* Сосредоточиться на Каменевском и Североярской - там больше всего заказов и дохода.\n",
    "\n",
    "* В других регионах запускать локальные тестовые акции, чтобы найти новые точки роста.\n",
    "\n",
    "6. Удобство покупки (UX)\n",
    "\n",
    "* В мобильном приложении упростить повторный заказ: быстрые кнопки «купить снова», сохранённые карты, готовые шаблоны.\n",
    "\n",
    "* На компьютере - помочь планировать: удобный выбор мест, сравнение дат, напоминания с предложением купить через приложение.\n",
    "\n",
    "7. Проверка идей (эксперименты)\n",
    "\n",
    "* Протестировать:\n",
    "\n",
    "    * как часто отправлять напоминания;\n",
    "\n",
    "    * рекомендации по жанрам;\n",
    "\n",
    "    * простые акции для выходных.\n",
    "\n",
    "* Следить за ключевыми метриками: сколько заказов делает пользователь, сколько времени проходит до следующей покупки, средний чек, выручка и LTV."
   ]
  }
 ],
 "metadata": {
  "ExecuteTimeLog": [
   {
    "duration": 875,
    "start_time": "2025-08-25T10:44:26.683Z"
   },
   {
    "duration": 1798,
    "start_time": "2025-08-25T10:45:57.878Z"
   },
   {
    "duration": 127,
    "start_time": "2025-08-25T10:46:34.395Z"
   },
   {
    "duration": 103,
    "start_time": "2025-08-25T10:46:49.268Z"
   },
   {
    "duration": 99,
    "start_time": "2025-08-25T10:47:00.563Z"
   },
   {
    "duration": 26,
    "start_time": "2025-08-25T10:47:27.786Z"
   },
   {
    "duration": 16,
    "start_time": "2025-08-25T10:47:28.586Z"
   },
   {
    "duration": 15,
    "start_time": "2025-08-25T10:47:32.849Z"
   },
   {
    "duration": 3,
    "start_time": "2025-08-25T10:47:57.812Z"
   },
   {
    "duration": 1603,
    "start_time": "2025-08-25T10:47:58.161Z"
   },
   {
    "duration": 101,
    "start_time": "2025-08-25T10:47:59.765Z"
   },
   {
    "duration": 26,
    "start_time": "2025-08-25T10:47:59.871Z"
   },
   {
    "duration": 21,
    "start_time": "2025-08-25T10:47:59.899Z"
   },
   {
    "duration": 36,
    "start_time": "2025-08-25T10:54:56.657Z"
   },
   {
    "duration": 326,
    "start_time": "2025-08-25T10:55:19.373Z"
   },
   {
    "duration": 34,
    "start_time": "2025-08-25T10:55:51.196Z"
   },
   {
    "duration": 810,
    "start_time": "2025-08-25T10:56:32.986Z"
   },
   {
    "duration": 333,
    "start_time": "2025-08-25T10:57:03.712Z"
   },
   {
    "duration": 24,
    "start_time": "2025-08-25T10:57:09.972Z"
   },
   {
    "duration": 317,
    "start_time": "2025-08-25T10:57:10.793Z"
   },
   {
    "duration": 25,
    "start_time": "2025-08-25T10:57:11.511Z"
   },
   {
    "duration": 39,
    "start_time": "2025-08-25T10:57:33.772Z"
   },
   {
    "duration": 27,
    "start_time": "2025-08-25T10:57:40.965Z"
   },
   {
    "duration": 136,
    "start_time": "2025-08-25T10:58:55.521Z"
   },
   {
    "duration": 11,
    "start_time": "2025-08-25T10:59:07.819Z"
   },
   {
    "duration": 81,
    "start_time": "2025-08-25T10:59:36.912Z"
   },
   {
    "duration": 115,
    "start_time": "2025-08-25T10:59:50.595Z"
   },
   {
    "duration": 27,
    "start_time": "2025-08-25T10:59:54.938Z"
   },
   {
    "duration": 34,
    "start_time": "2025-08-25T11:00:42.711Z"
   },
   {
    "duration": 92,
    "start_time": "2025-08-25T11:00:45.666Z"
   },
   {
    "duration": 32,
    "start_time": "2025-08-25T11:00:46.294Z"
   },
   {
    "duration": 33,
    "start_time": "2025-08-25T11:01:06.027Z"
   },
   {
    "duration": 37,
    "start_time": "2025-08-25T11:01:13.215Z"
   },
   {
    "duration": 32,
    "start_time": "2025-08-25T11:01:21.123Z"
   },
   {
    "duration": 295,
    "start_time": "2025-08-25T11:02:13.387Z"
   },
   {
    "duration": 297,
    "start_time": "2025-08-25T11:03:03.559Z"
   },
   {
    "duration": 301,
    "start_time": "2025-08-25T11:03:15.252Z"
   },
   {
    "duration": 297,
    "start_time": "2025-08-25T11:03:19.480Z"
   },
   {
    "duration": 289,
    "start_time": "2025-08-25T11:03:38.400Z"
   },
   {
    "duration": 384,
    "start_time": "2025-08-25T11:03:44.468Z"
   },
   {
    "duration": 66,
    "start_time": "2025-08-25T11:05:40.399Z"
   },
   {
    "duration": 40,
    "start_time": "2025-08-25T11:06:34.158Z"
   },
   {
    "duration": 78,
    "start_time": "2025-08-25T11:08:41.932Z"
   },
   {
    "duration": 149,
    "start_time": "2025-08-25T11:09:14.863Z"
   },
   {
    "duration": 3,
    "start_time": "2025-08-25T11:09:25.499Z"
   },
   {
    "duration": 421,
    "start_time": "2025-08-25T11:09:29.065Z"
   },
   {
    "duration": 411,
    "start_time": "2025-08-25T11:10:19.209Z"
   },
   {
    "duration": 110,
    "start_time": "2025-08-25T11:10:24.983Z"
   },
   {
    "duration": 621,
    "start_time": "2025-08-25T11:10:40.862Z"
   },
   {
    "duration": 733,
    "start_time": "2025-08-25T11:11:00.792Z"
   },
   {
    "duration": 2,
    "start_time": "2025-08-25T11:11:12.715Z"
   },
   {
    "duration": 1780,
    "start_time": "2025-08-25T11:11:12.719Z"
   },
   {
    "duration": 100,
    "start_time": "2025-08-25T11:11:14.501Z"
   },
   {
    "duration": 26,
    "start_time": "2025-08-25T11:11:14.604Z"
   },
   {
    "duration": 16,
    "start_time": "2025-08-25T11:11:14.631Z"
   },
   {
    "duration": 113,
    "start_time": "2025-08-25T11:11:14.672Z"
   },
   {
    "duration": 75,
    "start_time": "2025-08-25T11:11:14.787Z"
   },
   {
    "duration": 66,
    "start_time": "2025-08-25T11:11:14.870Z"
   },
   {
    "duration": 51,
    "start_time": "2025-08-25T11:11:14.937Z"
   },
   {
    "duration": 614,
    "start_time": "2025-08-25T11:11:14.990Z"
   },
   {
    "duration": 36,
    "start_time": "2025-08-25T11:16:26.934Z"
   },
   {
    "duration": 596,
    "start_time": "2025-08-25T11:16:29.977Z"
   },
   {
    "duration": 513,
    "start_time": "2025-08-25T11:16:40.340Z"
   },
   {
    "duration": 542,
    "start_time": "2025-08-25T11:17:15.063Z"
   },
   {
    "duration": 546,
    "start_time": "2025-08-25T11:17:28.664Z"
   },
   {
    "duration": 460,
    "start_time": "2025-08-25T11:17:35.896Z"
   },
   {
    "duration": 420,
    "start_time": "2025-08-25T11:18:30.304Z"
   },
   {
    "duration": 643,
    "start_time": "2025-08-25T11:18:46.969Z"
   },
   {
    "duration": 413,
    "start_time": "2025-08-25T11:19:54.176Z"
   },
   {
    "duration": 122,
    "start_time": "2025-08-25T11:21:22.139Z"
   },
   {
    "duration": 120,
    "start_time": "2025-08-25T11:21:24.589Z"
   },
   {
    "duration": 47,
    "start_time": "2025-08-25T11:21:57.440Z"
   },
   {
    "duration": 1076,
    "start_time": "2025-08-25T11:22:06.548Z"
   },
   {
    "duration": 1973,
    "start_time": "2025-08-25T11:22:07.626Z"
   },
   {
    "duration": 107,
    "start_time": "2025-08-25T11:22:09.601Z"
   },
   {
    "duration": 26,
    "start_time": "2025-08-25T11:22:09.709Z"
   },
   {
    "duration": 16,
    "start_time": "2025-08-25T11:22:09.737Z"
   },
   {
    "duration": 158,
    "start_time": "2025-08-25T11:22:09.754Z"
   },
   {
    "duration": 84,
    "start_time": "2025-08-25T11:22:09.913Z"
   },
   {
    "duration": 78,
    "start_time": "2025-08-25T11:22:09.999Z"
   },
   {
    "duration": 115,
    "start_time": "2025-08-25T11:22:10.078Z"
   },
   {
    "duration": 438,
    "start_time": "2025-08-25T11:22:10.195Z"
   },
   {
    "duration": 61,
    "start_time": "2025-08-25T11:22:10.635Z"
   },
   {
    "duration": 4959,
    "start_time": "2025-08-25T11:25:10.678Z"
   },
   {
    "duration": 16,
    "start_time": "2025-08-25T11:35:05.224Z"
   },
   {
    "duration": 75,
    "start_time": "2025-08-25T11:36:44.531Z"
   },
   {
    "duration": 241,
    "start_time": "2025-08-25T11:39:28.299Z"
   },
   {
    "duration": 215,
    "start_time": "2025-08-25T11:40:31.531Z"
   },
   {
    "duration": 216,
    "start_time": "2025-08-25T11:40:34.938Z"
   },
   {
    "duration": 215,
    "start_time": "2025-08-25T11:40:35.609Z"
   },
   {
    "duration": 206,
    "start_time": "2025-08-25T11:40:51.452Z"
   },
   {
    "duration": 6,
    "start_time": "2025-08-25T11:40:55.520Z"
   },
   {
    "duration": 27,
    "start_time": "2025-08-25T11:40:59.226Z"
   },
   {
    "duration": 210,
    "start_time": "2025-08-25T11:41:04.266Z"
   },
   {
    "duration": 29,
    "start_time": "2025-08-25T11:41:04.477Z"
   },
   {
    "duration": 5,
    "start_time": "2025-08-25T11:41:04.508Z"
   },
   {
    "duration": 57,
    "start_time": "2025-08-25T11:42:19.652Z"
   },
   {
    "duration": 140,
    "start_time": "2025-08-25T11:43:05.662Z"
   },
   {
    "duration": 59,
    "start_time": "2025-08-25T11:43:22.397Z"
   },
   {
    "duration": 58,
    "start_time": "2025-08-25T11:43:25.989Z"
   },
   {
    "duration": 57,
    "start_time": "2025-08-25T11:43:31.507Z"
   },
   {
    "duration": 8,
    "start_time": "2025-08-25T11:43:39.439Z"
   },
   {
    "duration": 50,
    "start_time": "2025-08-25T11:43:43.149Z"
   },
   {
    "duration": 6,
    "start_time": "2025-08-25T11:51:01.438Z"
   },
   {
    "duration": 4,
    "start_time": "2025-08-25T11:51:06.808Z"
   },
   {
    "duration": 212,
    "start_time": "2025-08-25T11:52:28.041Z"
   },
   {
    "duration": 53,
    "start_time": "2025-08-25T11:54:01.314Z"
   },
   {
    "duration": 181,
    "start_time": "2025-08-25T11:54:20.910Z"
   },
   {
    "duration": 99,
    "start_time": "2025-08-25T11:55:20.060Z"
   },
   {
    "duration": 97,
    "start_time": "2025-08-25T11:55:40.413Z"
   },
   {
    "duration": 996,
    "start_time": "2025-08-25T11:55:47.127Z"
   },
   {
    "duration": 2194,
    "start_time": "2025-08-25T11:55:48.125Z"
   },
   {
    "duration": 108,
    "start_time": "2025-08-25T11:55:50.321Z"
   },
   {
    "duration": 26,
    "start_time": "2025-08-25T11:55:50.430Z"
   },
   {
    "duration": 25,
    "start_time": "2025-08-25T11:55:50.458Z"
   },
   {
    "duration": 160,
    "start_time": "2025-08-25T11:55:50.485Z"
   },
   {
    "duration": 81,
    "start_time": "2025-08-25T11:55:50.647Z"
   },
   {
    "duration": 75,
    "start_time": "2025-08-25T11:55:50.730Z"
   },
   {
    "duration": 43,
    "start_time": "2025-08-25T11:55:50.806Z"
   },
   {
    "duration": 471,
    "start_time": "2025-08-25T11:55:50.850Z"
   },
   {
    "duration": 66,
    "start_time": "2025-08-25T11:55:51.324Z"
   },
   {
    "duration": 4878,
    "start_time": "2025-08-25T11:55:51.393Z"
   },
   {
    "duration": 249,
    "start_time": "2025-08-25T11:55:56.273Z"
   },
   {
    "duration": 25,
    "start_time": "2025-08-25T11:55:56.526Z"
   },
   {
    "duration": 5,
    "start_time": "2025-08-25T11:55:56.553Z"
   },
   {
    "duration": 57,
    "start_time": "2025-08-25T11:55:56.572Z"
   },
   {
    "duration": 111,
    "start_time": "2025-08-25T11:55:56.631Z"
   },
   {
    "duration": 37,
    "start_time": "2025-08-25T11:56:19.826Z"
   },
   {
    "duration": 36,
    "start_time": "2025-08-25T11:56:31.161Z"
   },
   {
    "duration": 478,
    "start_time": "2025-08-25T11:59:23.139Z"
   },
   {
    "duration": 10,
    "start_time": "2025-08-25T11:59:29.890Z"
   },
   {
    "duration": 1033,
    "start_time": "2025-08-25T11:59:37.205Z"
   },
   {
    "duration": 2557,
    "start_time": "2025-08-25T11:59:38.240Z"
   },
   {
    "duration": 110,
    "start_time": "2025-08-25T11:59:40.799Z"
   },
   {
    "duration": 30,
    "start_time": "2025-08-25T11:59:40.911Z"
   },
   {
    "duration": 30,
    "start_time": "2025-08-25T11:59:40.943Z"
   },
   {
    "duration": 205,
    "start_time": "2025-08-25T11:59:40.974Z"
   },
   {
    "duration": 77,
    "start_time": "2025-08-25T11:59:41.181Z"
   },
   {
    "duration": 80,
    "start_time": "2025-08-25T11:59:41.260Z"
   },
   {
    "duration": 62,
    "start_time": "2025-08-25T11:59:41.342Z"
   },
   {
    "duration": 432,
    "start_time": "2025-08-25T11:59:41.405Z"
   },
   {
    "duration": 63,
    "start_time": "2025-08-25T11:59:41.839Z"
   },
   {
    "duration": 4977,
    "start_time": "2025-08-25T11:59:41.904Z"
   },
   {
    "duration": 244,
    "start_time": "2025-08-25T11:59:46.883Z"
   },
   {
    "duration": 26,
    "start_time": "2025-08-25T11:59:47.130Z"
   },
   {
    "duration": 17,
    "start_time": "2025-08-25T11:59:47.157Z"
   },
   {
    "duration": 64,
    "start_time": "2025-08-25T11:59:47.176Z"
   },
   {
    "duration": 96,
    "start_time": "2025-08-25T11:59:47.241Z"
   },
   {
    "duration": 0,
    "start_time": "2025-08-25T11:59:47.338Z"
   },
   {
    "duration": 227,
    "start_time": "2025-08-25T11:59:59.966Z"
   },
   {
    "duration": 52,
    "start_time": "2025-08-25T12:01:09.440Z"
   },
   {
    "duration": 100,
    "start_time": "2025-08-25T12:01:29.975Z"
   },
   {
    "duration": 1099,
    "start_time": "2025-08-25T12:08:06.144Z"
   },
   {
    "duration": 2169,
    "start_time": "2025-08-25T12:08:07.245Z"
   },
   {
    "duration": 118,
    "start_time": "2025-08-25T12:08:09.415Z"
   },
   {
    "duration": 27,
    "start_time": "2025-08-25T12:08:09.534Z"
   },
   {
    "duration": 77,
    "start_time": "2025-08-25T12:08:09.580Z"
   },
   {
    "duration": 166,
    "start_time": "2025-08-25T12:08:09.659Z"
   },
   {
    "duration": 90,
    "start_time": "2025-08-25T12:08:09.827Z"
   },
   {
    "duration": 89,
    "start_time": "2025-08-25T12:08:09.919Z"
   },
   {
    "duration": 43,
    "start_time": "2025-08-25T12:08:10.010Z"
   },
   {
    "duration": 504,
    "start_time": "2025-08-25T12:08:10.055Z"
   },
   {
    "duration": 65,
    "start_time": "2025-08-25T12:08:10.561Z"
   },
   {
    "duration": 5432,
    "start_time": "2025-08-25T12:08:10.627Z"
   },
   {
    "duration": 273,
    "start_time": "2025-08-25T12:08:16.061Z"
   },
   {
    "duration": 45,
    "start_time": "2025-08-25T12:08:16.337Z"
   },
   {
    "duration": 15,
    "start_time": "2025-08-25T12:08:16.384Z"
   },
   {
    "duration": 63,
    "start_time": "2025-08-25T12:08:16.401Z"
   },
   {
    "duration": 53,
    "start_time": "2025-08-25T12:13:24.500Z"
   },
   {
    "duration": 100,
    "start_time": "2025-08-25T12:14:28.575Z"
   },
   {
    "duration": 61,
    "start_time": "2025-08-25T12:15:10.659Z"
   },
   {
    "duration": 187,
    "start_time": "2025-08-25T12:16:19.720Z"
   },
   {
    "duration": 1204,
    "start_time": "2025-08-25T12:18:41.447Z"
   },
   {
    "duration": 2046,
    "start_time": "2025-08-25T12:18:42.654Z"
   },
   {
    "duration": 123,
    "start_time": "2025-08-25T12:18:44.702Z"
   },
   {
    "duration": 27,
    "start_time": "2025-08-25T12:18:44.827Z"
   },
   {
    "duration": 18,
    "start_time": "2025-08-25T12:18:44.880Z"
   },
   {
    "duration": 158,
    "start_time": "2025-08-25T12:18:44.900Z"
   },
   {
    "duration": 92,
    "start_time": "2025-08-25T12:18:45.060Z"
   },
   {
    "duration": 112,
    "start_time": "2025-08-25T12:18:45.154Z"
   },
   {
    "duration": 47,
    "start_time": "2025-08-25T12:18:45.268Z"
   },
   {
    "duration": 485,
    "start_time": "2025-08-25T12:18:45.317Z"
   },
   {
    "duration": 81,
    "start_time": "2025-08-25T12:18:45.803Z"
   },
   {
    "duration": 5502,
    "start_time": "2025-08-25T12:18:45.885Z"
   },
   {
    "duration": 272,
    "start_time": "2025-08-25T12:18:51.389Z"
   },
   {
    "duration": 32,
    "start_time": "2025-08-25T12:18:51.664Z"
   },
   {
    "duration": 48,
    "start_time": "2025-08-25T12:18:51.697Z"
   },
   {
    "duration": 95,
    "start_time": "2025-08-25T12:18:51.747Z"
   },
   {
    "duration": 77,
    "start_time": "2025-08-25T12:18:51.843Z"
   },
   {
    "duration": 71,
    "start_time": "2025-08-25T12:18:51.922Z"
   },
   {
    "duration": 58,
    "start_time": "2025-08-25T12:19:01.275Z"
   },
   {
    "duration": 1218,
    "start_time": "2025-08-25T12:19:27.902Z"
   },
   {
    "duration": 1763,
    "start_time": "2025-08-25T12:19:29.122Z"
   },
   {
    "duration": 127,
    "start_time": "2025-08-25T12:19:30.887Z"
   },
   {
    "duration": 28,
    "start_time": "2025-08-25T12:19:31.016Z"
   },
   {
    "duration": 41,
    "start_time": "2025-08-25T12:19:31.046Z"
   },
   {
    "duration": 154,
    "start_time": "2025-08-25T12:19:31.089Z"
   },
   {
    "duration": 96,
    "start_time": "2025-08-25T12:19:31.245Z"
   },
   {
    "duration": 85,
    "start_time": "2025-08-25T12:19:31.342Z"
   },
   {
    "duration": 58,
    "start_time": "2025-08-25T12:19:31.429Z"
   },
   {
    "duration": 500,
    "start_time": "2025-08-25T12:19:31.489Z"
   },
   {
    "duration": 57,
    "start_time": "2025-08-25T12:19:31.991Z"
   },
   {
    "duration": 5532,
    "start_time": "2025-08-25T12:19:32.050Z"
   },
   {
    "duration": 257,
    "start_time": "2025-08-25T12:19:37.585Z"
   },
   {
    "duration": 43,
    "start_time": "2025-08-25T12:19:37.844Z"
   },
   {
    "duration": 5,
    "start_time": "2025-08-25T12:19:37.889Z"
   },
   {
    "duration": 59,
    "start_time": "2025-08-25T12:19:37.896Z"
   },
   {
    "duration": 79,
    "start_time": "2025-08-25T12:19:37.975Z"
   },
   {
    "duration": 71,
    "start_time": "2025-08-25T12:19:38.055Z"
   },
   {
    "duration": 1243,
    "start_time": "2025-08-25T12:20:07.871Z"
   },
   {
    "duration": 1810,
    "start_time": "2025-08-25T12:20:09.116Z"
   },
   {
    "duration": 128,
    "start_time": "2025-08-25T12:20:10.928Z"
   },
   {
    "duration": 44,
    "start_time": "2025-08-25T12:20:11.057Z"
   },
   {
    "duration": 16,
    "start_time": "2025-08-25T12:20:11.104Z"
   },
   {
    "duration": 208,
    "start_time": "2025-08-25T12:20:11.121Z"
   },
   {
    "duration": 91,
    "start_time": "2025-08-25T12:20:11.331Z"
   },
   {
    "duration": 91,
    "start_time": "2025-08-25T12:20:11.424Z"
   },
   {
    "duration": 45,
    "start_time": "2025-08-25T12:20:11.517Z"
   },
   {
    "duration": 536,
    "start_time": "2025-08-25T12:20:11.564Z"
   },
   {
    "duration": 72,
    "start_time": "2025-08-25T12:20:12.102Z"
   },
   {
    "duration": 5687,
    "start_time": "2025-08-25T12:20:12.176Z"
   },
   {
    "duration": 261,
    "start_time": "2025-08-25T12:20:17.879Z"
   },
   {
    "duration": 42,
    "start_time": "2025-08-25T12:20:18.142Z"
   },
   {
    "duration": 6,
    "start_time": "2025-08-25T12:20:18.186Z"
   },
   {
    "duration": 70,
    "start_time": "2025-08-25T12:20:18.193Z"
   },
   {
    "duration": 82,
    "start_time": "2025-08-25T12:20:18.264Z"
   },
   {
    "duration": 75,
    "start_time": "2025-08-25T12:20:18.348Z"
   },
   {
    "duration": 101,
    "start_time": "2025-08-25T12:27:40.617Z"
   },
   {
    "duration": 32,
    "start_time": "2025-08-25T12:29:28.535Z"
   },
   {
    "duration": 289,
    "start_time": "2025-08-25T12:31:40.714Z"
   },
   {
    "duration": 91,
    "start_time": "2025-08-25T12:32:24.890Z"
   },
   {
    "duration": 1210,
    "start_time": "2025-08-25T12:32:30.978Z"
   },
   {
    "duration": 1831,
    "start_time": "2025-08-25T12:32:32.190Z"
   },
   {
    "duration": 113,
    "start_time": "2025-08-25T12:32:34.022Z"
   },
   {
    "duration": 35,
    "start_time": "2025-08-25T12:32:34.137Z"
   },
   {
    "duration": 16,
    "start_time": "2025-08-25T12:32:34.174Z"
   },
   {
    "duration": 93,
    "start_time": "2025-08-25T12:32:34.191Z"
   },
   {
    "duration": 49,
    "start_time": "2025-08-25T12:32:34.286Z"
   },
   {
    "duration": 457,
    "start_time": "2025-08-25T12:32:34.337Z"
   },
   {
    "duration": 76,
    "start_time": "2025-08-25T12:32:34.796Z"
   },
   {
    "duration": 3334,
    "start_time": "2025-08-25T12:32:34.874Z"
   },
   {
    "duration": 334,
    "start_time": "2025-08-25T12:32:38.210Z"
   },
   {
    "duration": 36,
    "start_time": "2025-08-25T12:32:38.546Z"
   },
   {
    "duration": 6,
    "start_time": "2025-08-25T12:32:38.583Z"
   },
   {
    "duration": 97,
    "start_time": "2025-08-25T12:32:38.591Z"
   },
   {
    "duration": 91,
    "start_time": "2025-08-25T12:32:38.689Z"
   },
   {
    "duration": 65,
    "start_time": "2025-08-25T12:32:38.782Z"
   },
   {
    "duration": 112,
    "start_time": "2025-08-25T12:32:38.849Z"
   },
   {
    "duration": 52,
    "start_time": "2025-08-25T12:35:39.320Z"
   },
   {
    "duration": 51,
    "start_time": "2025-08-25T12:35:42.531Z"
   },
   {
    "duration": 68,
    "start_time": "2025-08-25T12:35:42.932Z"
   },
   {
    "duration": 77,
    "start_time": "2025-08-25T12:38:53.281Z"
   },
   {
    "duration": 32,
    "start_time": "2025-08-25T12:40:22.722Z"
   },
   {
    "duration": 87,
    "start_time": "2025-08-25T12:40:26.451Z"
   },
   {
    "duration": 49,
    "start_time": "2025-08-25T12:43:01.961Z"
   },
   {
    "duration": 85,
    "start_time": "2025-08-25T12:43:05.121Z"
   },
   {
    "duration": 1804,
    "start_time": "2025-08-25T12:45:17.460Z"
   },
   {
    "duration": 0,
    "start_time": "2025-08-25T12:45:19.265Z"
   },
   {
    "duration": 44,
    "start_time": "2025-08-25T12:46:19.478Z"
   },
   {
    "duration": 84,
    "start_time": "2025-08-25T12:46:20.532Z"
   },
   {
    "duration": 43,
    "start_time": "2025-08-25T12:47:10.005Z"
   },
   {
    "duration": 83,
    "start_time": "2025-08-25T12:47:10.728Z"
   },
   {
    "duration": 10,
    "start_time": "2025-08-25T12:49:39.048Z"
   },
   {
    "duration": 196,
    "start_time": "2025-08-25T12:49:45.252Z"
   },
   {
    "duration": 77,
    "start_time": "2025-08-25T12:50:20.656Z"
   },
   {
    "duration": 79,
    "start_time": "2025-08-25T12:50:24.516Z"
   },
   {
    "duration": 148,
    "start_time": "2025-08-25T12:53:37.072Z"
   },
   {
    "duration": 4697,
    "start_time": "2025-08-25T12:56:27.254Z"
   },
   {
    "duration": 6,
    "start_time": "2025-08-25T12:56:47.152Z"
   },
   {
    "duration": 26,
    "start_time": "2025-08-25T12:57:55.442Z"
   },
   {
    "duration": 29,
    "start_time": "2025-08-25T12:58:22.960Z"
   },
   {
    "duration": 11,
    "start_time": "2025-08-25T12:58:24.384Z"
   },
   {
    "duration": 11,
    "start_time": "2025-08-25T12:58:29.221Z"
   },
   {
    "duration": 138,
    "start_time": "2025-08-25T12:58:31.007Z"
   },
   {
    "duration": 11,
    "start_time": "2025-08-25T12:58:31.936Z"
   },
   {
    "duration": 1751,
    "start_time": "2025-08-25T12:58:32.762Z"
   },
   {
    "duration": 0,
    "start_time": "2025-08-25T12:58:34.515Z"
   },
   {
    "duration": 1205,
    "start_time": "2025-08-25T12:58:42.090Z"
   },
   {
    "duration": 1989,
    "start_time": "2025-08-25T12:58:43.297Z"
   },
   {
    "duration": 134,
    "start_time": "2025-08-25T12:58:45.288Z"
   },
   {
    "duration": 27,
    "start_time": "2025-08-25T12:58:45.424Z"
   },
   {
    "duration": 56,
    "start_time": "2025-08-25T12:58:45.454Z"
   },
   {
    "duration": 94,
    "start_time": "2025-08-25T12:58:45.511Z"
   },
   {
    "duration": 51,
    "start_time": "2025-08-25T12:58:45.606Z"
   },
   {
    "duration": 535,
    "start_time": "2025-08-25T12:58:45.658Z"
   },
   {
    "duration": 85,
    "start_time": "2025-08-25T12:58:46.195Z"
   },
   {
    "duration": 3548,
    "start_time": "2025-08-25T12:58:46.282Z"
   },
   {
    "duration": 319,
    "start_time": "2025-08-25T12:58:49.832Z"
   },
   {
    "duration": 39,
    "start_time": "2025-08-25T12:58:50.153Z"
   },
   {
    "duration": 5,
    "start_time": "2025-08-25T12:58:50.194Z"
   },
   {
    "duration": 87,
    "start_time": "2025-08-25T12:58:50.202Z"
   },
   {
    "duration": 93,
    "start_time": "2025-08-25T12:58:50.291Z"
   },
   {
    "duration": 63,
    "start_time": "2025-08-25T12:58:50.385Z"
   },
   {
    "duration": 151,
    "start_time": "2025-08-25T12:58:50.450Z"
   },
   {
    "duration": 155,
    "start_time": "2025-08-25T12:58:50.603Z"
   },
   {
    "duration": 162,
    "start_time": "2025-08-25T12:58:50.759Z"
   },
   {
    "duration": 4948,
    "start_time": "2025-08-25T12:58:50.924Z"
   },
   {
    "duration": 13,
    "start_time": "2025-08-25T12:58:55.874Z"
   },
   {
    "duration": 22,
    "start_time": "2025-08-25T12:58:55.889Z"
   },
   {
    "duration": 522,
    "start_time": "2025-08-25T13:02:17.968Z"
   },
   {
    "duration": 3,
    "start_time": "2025-08-25T13:02:24.703Z"
   },
   {
    "duration": 42,
    "start_time": "2025-08-25T13:02:33.826Z"
   },
   {
    "duration": 199,
    "start_time": "2025-08-25T13:02:41.665Z"
   },
   {
    "duration": 3,
    "start_time": "2025-08-25T13:03:15.270Z"
   },
   {
    "duration": 179,
    "start_time": "2025-08-25T13:03:28.105Z"
   },
   {
    "duration": 15,
    "start_time": "2025-08-25T13:03:32.689Z"
   },
   {
    "duration": 28,
    "start_time": "2025-08-25T13:03:47.033Z"
   },
   {
    "duration": 147,
    "start_time": "2025-08-25T13:03:58.432Z"
   },
   {
    "duration": 26,
    "start_time": "2025-08-25T13:04:33.964Z"
   },
   {
    "duration": 26,
    "start_time": "2025-08-25T13:05:23.986Z"
   },
   {
    "duration": 26,
    "start_time": "2025-08-25T13:06:30.016Z"
   },
   {
    "duration": 142,
    "start_time": "2025-08-25T13:06:40.559Z"
   },
   {
    "duration": 148,
    "start_time": "2025-08-25T13:06:51.930Z"
   },
   {
    "duration": 142,
    "start_time": "2025-08-25T13:06:56.393Z"
   },
   {
    "duration": 163,
    "start_time": "2025-08-25T13:07:01.935Z"
   },
   {
    "duration": 154,
    "start_time": "2025-08-25T13:07:07.552Z"
   },
   {
    "duration": 151,
    "start_time": "2025-08-25T13:07:13.412Z"
   },
   {
    "duration": 152,
    "start_time": "2025-08-25T13:07:17.056Z"
   },
   {
    "duration": 153,
    "start_time": "2025-08-25T13:07:21.899Z"
   },
   {
    "duration": 38,
    "start_time": "2025-08-25T13:07:36.737Z"
   },
   {
    "duration": 14,
    "start_time": "2025-08-25T13:07:43.920Z"
   },
   {
    "duration": 14,
    "start_time": "2025-08-25T13:07:50.728Z"
   },
   {
    "duration": 15,
    "start_time": "2025-08-25T13:08:04.946Z"
   },
   {
    "duration": 144,
    "start_time": "2025-08-25T13:09:12.383Z"
   },
   {
    "duration": 4,
    "start_time": "2025-08-25T13:09:20.976Z"
   },
   {
    "duration": 25,
    "start_time": "2025-08-25T13:09:27.716Z"
   },
   {
    "duration": 145,
    "start_time": "2025-08-25T13:09:32.706Z"
   },
   {
    "duration": 25,
    "start_time": "2025-08-25T13:09:33.752Z"
   },
   {
    "duration": 1176,
    "start_time": "2025-08-25T13:20:00.877Z"
   },
   {
    "duration": 2620,
    "start_time": "2025-08-25T13:20:02.055Z"
   },
   {
    "duration": 114,
    "start_time": "2025-08-25T13:20:04.677Z"
   },
   {
    "duration": 28,
    "start_time": "2025-08-25T13:20:04.793Z"
   },
   {
    "duration": 16,
    "start_time": "2025-08-25T13:20:04.824Z"
   },
   {
    "duration": 74,
    "start_time": "2025-08-25T13:20:04.870Z"
   },
   {
    "duration": 62,
    "start_time": "2025-08-25T13:20:04.946Z"
   },
   {
    "duration": 469,
    "start_time": "2025-08-25T13:20:05.009Z"
   },
   {
    "duration": 71,
    "start_time": "2025-08-25T13:20:05.480Z"
   },
   {
    "duration": 3436,
    "start_time": "2025-08-25T13:20:05.553Z"
   },
   {
    "duration": 319,
    "start_time": "2025-08-25T13:20:08.991Z"
   },
   {
    "duration": 37,
    "start_time": "2025-08-25T13:20:09.313Z"
   },
   {
    "duration": 20,
    "start_time": "2025-08-25T13:20:09.352Z"
   },
   {
    "duration": 72,
    "start_time": "2025-08-25T13:20:09.376Z"
   },
   {
    "duration": 94,
    "start_time": "2025-08-25T13:20:09.449Z"
   },
   {
    "duration": 70,
    "start_time": "2025-08-25T13:20:09.545Z"
   },
   {
    "duration": 144,
    "start_time": "2025-08-25T13:20:09.617Z"
   },
   {
    "duration": 85,
    "start_time": "2025-08-25T13:20:09.762Z"
   },
   {
    "duration": 159,
    "start_time": "2025-08-25T13:20:09.848Z"
   },
   {
    "duration": 4591,
    "start_time": "2025-08-25T13:20:10.009Z"
   },
   {
    "duration": 4,
    "start_time": "2025-08-25T13:20:14.602Z"
   },
   {
    "duration": 106,
    "start_time": "2025-08-25T13:20:14.608Z"
   },
   {
    "duration": 45,
    "start_time": "2025-08-25T13:20:14.716Z"
   },
   {
    "duration": 26,
    "start_time": "2025-08-25T13:20:14.763Z"
   },
   {
    "duration": 172,
    "start_time": "2025-08-25T13:23:06.039Z"
   },
   {
    "duration": 148,
    "start_time": "2025-08-25T13:23:23.156Z"
   },
   {
    "duration": 798,
    "start_time": "2025-08-25T13:26:07.111Z"
   },
   {
    "duration": 188,
    "start_time": "2025-08-25T13:30:11.390Z"
   },
   {
    "duration": 187,
    "start_time": "2025-08-25T13:30:26.286Z"
   },
   {
    "duration": 206,
    "start_time": "2025-08-25T13:31:19.952Z"
   },
   {
    "duration": 1136,
    "start_time": "2025-08-25T13:48:40.925Z"
   },
   {
    "duration": 3,
    "start_time": "2025-08-25T13:49:50.379Z"
   },
   {
    "duration": 2467,
    "start_time": "2025-08-25T13:49:50.695Z"
   },
   {
    "duration": 1155,
    "start_time": "2025-08-25T13:49:57.131Z"
   },
   {
    "duration": 3738,
    "start_time": "2025-08-25T13:49:58.288Z"
   },
   {
    "duration": 110,
    "start_time": "2025-08-25T13:50:02.028Z"
   },
   {
    "duration": 35,
    "start_time": "2025-08-25T13:50:02.139Z"
   },
   {
    "duration": 23,
    "start_time": "2025-08-25T13:50:02.176Z"
   },
   {
    "duration": 97,
    "start_time": "2025-08-25T13:50:02.201Z"
   },
   {
    "duration": 51,
    "start_time": "2025-08-25T13:50:02.300Z"
   },
   {
    "duration": 470,
    "start_time": "2025-08-25T13:50:02.352Z"
   },
   {
    "duration": 77,
    "start_time": "2025-08-25T13:50:02.824Z"
   },
   {
    "duration": 3326,
    "start_time": "2025-08-25T13:50:02.902Z"
   },
   {
    "duration": 295,
    "start_time": "2025-08-25T13:50:06.229Z"
   },
   {
    "duration": 25,
    "start_time": "2025-08-25T13:50:06.526Z"
   },
   {
    "duration": 27,
    "start_time": "2025-08-25T13:50:06.553Z"
   },
   {
    "duration": 70,
    "start_time": "2025-08-25T13:50:06.583Z"
   },
   {
    "duration": 90,
    "start_time": "2025-08-25T13:50:06.654Z"
   },
   {
    "duration": 69,
    "start_time": "2025-08-25T13:50:06.745Z"
   },
   {
    "duration": 151,
    "start_time": "2025-08-25T13:50:06.816Z"
   },
   {
    "duration": 79,
    "start_time": "2025-08-25T13:50:06.969Z"
   },
   {
    "duration": 160,
    "start_time": "2025-08-25T13:50:07.049Z"
   },
   {
    "duration": 4521,
    "start_time": "2025-08-25T13:50:07.211Z"
   },
   {
    "duration": 5,
    "start_time": "2025-08-25T13:50:11.733Z"
   },
   {
    "duration": 53,
    "start_time": "2025-08-25T13:50:11.739Z"
   },
   {
    "duration": 41,
    "start_time": "2025-08-25T13:50:11.793Z"
   },
   {
    "duration": 77,
    "start_time": "2025-08-25T13:50:11.836Z"
   },
   {
    "duration": 156,
    "start_time": "2025-08-25T13:50:11.915Z"
   },
   {
    "duration": 851,
    "start_time": "2025-08-25T13:50:12.073Z"
   },
   {
    "duration": 192,
    "start_time": "2025-08-25T13:50:12.926Z"
   },
   {
    "duration": 1084,
    "start_time": "2025-08-25T13:50:13.120Z"
   },
   {
    "duration": 1058,
    "start_time": "2025-08-25T13:51:51.166Z"
   },
   {
    "duration": 1119,
    "start_time": "2025-08-25T13:51:57.308Z"
   },
   {
    "duration": 154,
    "start_time": "2025-08-25T13:52:05.152Z"
   },
   {
    "duration": 1031,
    "start_time": "2025-08-25T13:53:09.985Z"
   },
   {
    "duration": 96,
    "start_time": "2025-08-25T13:54:50.144Z"
   },
   {
    "duration": 989,
    "start_time": "2025-08-25T13:54:58.022Z"
   },
   {
    "duration": 1326,
    "start_time": "2025-08-25T13:56:14.451Z"
   },
   {
    "duration": 1167,
    "start_time": "2025-08-25T13:56:27.908Z"
   },
   {
    "duration": 1054,
    "start_time": "2025-08-25T13:58:10.195Z"
   },
   {
    "duration": 113,
    "start_time": "2025-08-25T13:58:14.288Z"
   },
   {
    "duration": 1039,
    "start_time": "2025-08-25T13:58:51.631Z"
   },
   {
    "duration": 1141,
    "start_time": "2025-08-25T14:01:05.678Z"
   },
   {
    "duration": 150,
    "start_time": "2025-08-25T14:01:18.885Z"
   },
   {
    "duration": 1188,
    "start_time": "2025-08-25T14:01:27.417Z"
   },
   {
    "duration": 1621,
    "start_time": "2025-08-25T14:01:28.608Z"
   },
   {
    "duration": 110,
    "start_time": "2025-08-25T14:01:30.231Z"
   },
   {
    "duration": 36,
    "start_time": "2025-08-25T14:01:30.343Z"
   },
   {
    "duration": 56,
    "start_time": "2025-08-25T14:01:30.382Z"
   },
   {
    "duration": 80,
    "start_time": "2025-08-25T14:01:30.439Z"
   },
   {
    "duration": 52,
    "start_time": "2025-08-25T14:01:30.520Z"
   },
   {
    "duration": 469,
    "start_time": "2025-08-25T14:01:30.574Z"
   },
   {
    "duration": 76,
    "start_time": "2025-08-25T14:01:31.044Z"
   },
   {
    "duration": 3295,
    "start_time": "2025-08-25T14:01:31.121Z"
   },
   {
    "duration": 304,
    "start_time": "2025-08-25T14:01:34.418Z"
   },
   {
    "duration": 25,
    "start_time": "2025-08-25T14:01:34.724Z"
   },
   {
    "duration": 20,
    "start_time": "2025-08-25T14:01:34.751Z"
   },
   {
    "duration": 71,
    "start_time": "2025-08-25T14:01:34.774Z"
   },
   {
    "duration": 137,
    "start_time": "2025-08-25T14:01:34.847Z"
   },
   {
    "duration": 62,
    "start_time": "2025-08-25T14:01:34.986Z"
   },
   {
    "duration": 140,
    "start_time": "2025-08-25T14:01:35.050Z"
   },
   {
    "duration": 90,
    "start_time": "2025-08-25T14:01:35.192Z"
   },
   {
    "duration": 154,
    "start_time": "2025-08-25T14:01:35.283Z"
   },
   {
    "duration": 4468,
    "start_time": "2025-08-25T14:01:35.439Z"
   },
   {
    "duration": 5,
    "start_time": "2025-08-25T14:01:39.908Z"
   },
   {
    "duration": 23,
    "start_time": "2025-08-25T14:01:39.914Z"
   },
   {
    "duration": 48,
    "start_time": "2025-08-25T14:01:39.939Z"
   },
   {
    "duration": 25,
    "start_time": "2025-08-25T14:01:39.988Z"
   },
   {
    "duration": 165,
    "start_time": "2025-08-25T14:01:40.014Z"
   },
   {
    "duration": 826,
    "start_time": "2025-08-25T14:01:40.180Z"
   },
   {
    "duration": 194,
    "start_time": "2025-08-25T14:01:41.007Z"
   },
   {
    "duration": 1148,
    "start_time": "2025-08-25T14:01:41.202Z"
   },
   {
    "duration": 161,
    "start_time": "2025-08-25T14:01:42.351Z"
   },
   {
    "duration": 152,
    "start_time": "2025-08-25T14:02:06.571Z"
   },
   {
    "duration": 1083,
    "start_time": "2025-08-25T14:03:01.709Z"
   },
   {
    "duration": 149,
    "start_time": "2025-08-25T14:33:44.360Z"
   },
   {
    "duration": 150,
    "start_time": "2025-08-25T14:33:56.420Z"
   },
   {
    "duration": 157,
    "start_time": "2025-08-25T14:36:10.548Z"
   },
   {
    "duration": 178,
    "start_time": "2025-08-25T14:36:16.113Z"
   },
   {
    "duration": 154,
    "start_time": "2025-08-25T14:36:20.405Z"
   },
   {
    "duration": 152,
    "start_time": "2025-08-25T14:36:24.928Z"
   },
   {
    "duration": 149,
    "start_time": "2025-08-25T14:36:28.764Z"
   },
   {
    "duration": 3,
    "start_time": "2025-08-25T14:37:29.716Z"
   },
   {
    "duration": 271,
    "start_time": "2025-08-25T14:37:34.566Z"
   },
   {
    "duration": 256,
    "start_time": "2025-08-25T14:38:10.030Z"
   },
   {
    "duration": 254,
    "start_time": "2025-08-25T14:42:48.738Z"
   },
   {
    "duration": 112,
    "start_time": "2025-08-25T14:44:22.945Z"
   },
   {
    "duration": 39,
    "start_time": "2025-08-25T14:44:33.018Z"
   },
   {
    "duration": 264,
    "start_time": "2025-08-25T14:55:49.976Z"
   },
   {
    "duration": 160,
    "start_time": "2025-08-25T14:56:13.351Z"
   },
   {
    "duration": 109,
    "start_time": "2025-08-25T14:57:05.226Z"
   },
   {
    "duration": 18,
    "start_time": "2025-08-25T14:58:02.949Z"
   },
   {
    "duration": 160,
    "start_time": "2025-08-25T15:00:20.496Z"
   },
   {
    "duration": 161,
    "start_time": "2025-08-25T15:00:42.668Z"
   },
   {
    "duration": 109,
    "start_time": "2025-08-25T15:01:06.543Z"
   },
   {
    "duration": 327,
    "start_time": "2025-08-25T15:01:35.547Z"
   },
   {
    "duration": 291,
    "start_time": "2025-08-25T15:02:48.310Z"
   },
   {
    "duration": 10,
    "start_time": "2025-08-25T15:03:01.419Z"
   },
   {
    "duration": 1160,
    "start_time": "2025-08-25T15:03:33.905Z"
   },
   {
    "duration": 1941,
    "start_time": "2025-08-25T15:03:35.067Z"
   },
   {
    "duration": 114,
    "start_time": "2025-08-25T15:03:37.010Z"
   },
   {
    "duration": 26,
    "start_time": "2025-08-25T15:03:37.125Z"
   },
   {
    "duration": 29,
    "start_time": "2025-08-25T15:03:37.153Z"
   },
   {
    "duration": 87,
    "start_time": "2025-08-25T15:03:37.184Z"
   },
   {
    "duration": 50,
    "start_time": "2025-08-25T15:03:37.273Z"
   },
   {
    "duration": 451,
    "start_time": "2025-08-25T15:03:37.325Z"
   },
   {
    "duration": 67,
    "start_time": "2025-08-25T15:03:37.778Z"
   },
   {
    "duration": 3317,
    "start_time": "2025-08-25T15:03:37.846Z"
   },
   {
    "duration": 315,
    "start_time": "2025-08-25T15:03:41.165Z"
   },
   {
    "duration": 25,
    "start_time": "2025-08-25T15:03:41.482Z"
   },
   {
    "duration": 5,
    "start_time": "2025-08-25T15:03:41.509Z"
   },
   {
    "duration": 94,
    "start_time": "2025-08-25T15:03:41.517Z"
   },
   {
    "duration": 92,
    "start_time": "2025-08-25T15:03:41.612Z"
   },
   {
    "duration": 71,
    "start_time": "2025-08-25T15:03:41.706Z"
   },
   {
    "duration": 132,
    "start_time": "2025-08-25T15:03:41.778Z"
   },
   {
    "duration": 87,
    "start_time": "2025-08-25T15:03:41.912Z"
   },
   {
    "duration": 170,
    "start_time": "2025-08-25T15:03:42.001Z"
   },
   {
    "duration": 4650,
    "start_time": "2025-08-25T15:03:42.173Z"
   },
   {
    "duration": 5,
    "start_time": "2025-08-25T15:03:46.824Z"
   },
   {
    "duration": 50,
    "start_time": "2025-08-25T15:03:46.830Z"
   },
   {
    "duration": 40,
    "start_time": "2025-08-25T15:03:46.882Z"
   },
   {
    "duration": 26,
    "start_time": "2025-08-25T15:03:46.923Z"
   },
   {
    "duration": 156,
    "start_time": "2025-08-25T15:03:46.972Z"
   },
   {
    "duration": 104,
    "start_time": "2025-08-25T15:03:47.130Z"
   },
   {
    "duration": 0,
    "start_time": "2025-08-25T15:03:47.235Z"
   },
   {
    "duration": 0,
    "start_time": "2025-08-25T15:03:47.236Z"
   },
   {
    "duration": 0,
    "start_time": "2025-08-25T15:03:47.237Z"
   },
   {
    "duration": 0,
    "start_time": "2025-08-25T15:03:47.238Z"
   },
   {
    "duration": 0,
    "start_time": "2025-08-25T15:03:47.239Z"
   },
   {
    "duration": 0,
    "start_time": "2025-08-25T15:03:47.240Z"
   },
   {
    "duration": 0,
    "start_time": "2025-08-25T15:03:47.241Z"
   },
   {
    "duration": 0,
    "start_time": "2025-08-25T15:03:47.242Z"
   },
   {
    "duration": 358,
    "start_time": "2025-08-25T15:05:08.894Z"
   },
   {
    "duration": 10,
    "start_time": "2025-08-25T15:05:12.708Z"
   },
   {
    "duration": 89,
    "start_time": "2025-08-25T15:14:07.728Z"
   },
   {
    "duration": 139,
    "start_time": "2025-08-25T15:14:13.738Z"
   },
   {
    "duration": 90,
    "start_time": "2025-08-25T15:14:18.051Z"
   },
   {
    "duration": 89,
    "start_time": "2025-08-25T15:14:30.778Z"
   },
   {
    "duration": 732,
    "start_time": "2025-08-25T15:15:41.095Z"
   },
   {
    "duration": 751,
    "start_time": "2025-08-25T15:17:26.979Z"
   },
   {
    "duration": 1159,
    "start_time": "2025-08-25T15:21:52.645Z"
   },
   {
    "duration": 1759,
    "start_time": "2025-08-25T15:21:53.806Z"
   },
   {
    "duration": 118,
    "start_time": "2025-08-25T15:21:55.567Z"
   },
   {
    "duration": 28,
    "start_time": "2025-08-25T15:21:55.687Z"
   },
   {
    "duration": 16,
    "start_time": "2025-08-25T15:21:55.717Z"
   },
   {
    "duration": 97,
    "start_time": "2025-08-25T15:21:55.734Z"
   },
   {
    "duration": 60,
    "start_time": "2025-08-25T15:21:55.832Z"
   },
   {
    "duration": 479,
    "start_time": "2025-08-25T15:21:55.894Z"
   },
   {
    "duration": 67,
    "start_time": "2025-08-25T15:21:56.375Z"
   },
   {
    "duration": 3432,
    "start_time": "2025-08-25T15:21:56.444Z"
   },
   {
    "duration": 304,
    "start_time": "2025-08-25T15:21:59.878Z"
   },
   {
    "duration": 26,
    "start_time": "2025-08-25T15:22:00.183Z"
   },
   {
    "duration": 86,
    "start_time": "2025-08-25T15:22:00.211Z"
   },
   {
    "duration": 78,
    "start_time": "2025-08-25T15:22:00.300Z"
   },
   {
    "duration": 85,
    "start_time": "2025-08-25T15:22:00.380Z"
   },
   {
    "duration": 79,
    "start_time": "2025-08-25T15:22:00.472Z"
   },
   {
    "duration": 129,
    "start_time": "2025-08-25T15:22:00.553Z"
   },
   {
    "duration": 97,
    "start_time": "2025-08-25T15:22:00.684Z"
   },
   {
    "duration": 163,
    "start_time": "2025-08-25T15:22:00.783Z"
   },
   {
    "duration": 4693,
    "start_time": "2025-08-25T15:22:00.948Z"
   },
   {
    "duration": 6,
    "start_time": "2025-08-25T15:22:05.642Z"
   },
   {
    "duration": 67,
    "start_time": "2025-08-25T15:22:05.649Z"
   },
   {
    "duration": 42,
    "start_time": "2025-08-25T15:22:05.718Z"
   },
   {
    "duration": 26,
    "start_time": "2025-08-25T15:22:05.762Z"
   },
   {
    "duration": 846,
    "start_time": "2025-08-25T15:22:05.790Z"
   },
   {
    "duration": 159,
    "start_time": "2025-08-25T15:22:06.638Z"
   },
   {
    "duration": 299,
    "start_time": "2025-08-25T15:22:06.799Z"
   },
   {
    "duration": 10,
    "start_time": "2025-08-25T15:22:07.100Z"
   },
   {
    "duration": 1116,
    "start_time": "2025-08-25T15:22:07.111Z"
   },
   {
    "duration": 166,
    "start_time": "2025-08-25T15:22:08.229Z"
   },
   {
    "duration": 277,
    "start_time": "2025-08-25T15:22:08.396Z"
   },
   {
    "duration": 279,
    "start_time": "2025-08-25T15:22:08.675Z"
   },
   {
    "duration": 143,
    "start_time": "2025-08-25T15:22:08.956Z"
   },
   {
    "duration": 41,
    "start_time": "2025-08-25T15:22:09.101Z"
   },
   {
    "duration": 894,
    "start_time": "2025-08-25T15:23:53.067Z"
   },
   {
    "duration": 981,
    "start_time": "2025-08-25T15:24:33.406Z"
   },
   {
    "duration": 931,
    "start_time": "2025-08-25T15:25:10.376Z"
   },
   {
    "duration": 1201,
    "start_time": "2025-08-25T15:25:21.709Z"
   },
   {
    "duration": 1625,
    "start_time": "2025-08-25T15:25:22.911Z"
   },
   {
    "duration": 112,
    "start_time": "2025-08-25T15:25:24.538Z"
   },
   {
    "duration": 29,
    "start_time": "2025-08-25T15:25:24.652Z"
   },
   {
    "duration": 83,
    "start_time": "2025-08-25T15:25:24.683Z"
   },
   {
    "duration": 75,
    "start_time": "2025-08-25T15:25:24.767Z"
   },
   {
    "duration": 55,
    "start_time": "2025-08-25T15:25:24.844Z"
   },
   {
    "duration": 452,
    "start_time": "2025-08-25T15:25:24.901Z"
   },
   {
    "duration": 77,
    "start_time": "2025-08-25T15:25:25.354Z"
   },
   {
    "duration": 3361,
    "start_time": "2025-08-25T15:25:25.432Z"
   },
   {
    "duration": 302,
    "start_time": "2025-08-25T15:25:28.795Z"
   },
   {
    "duration": 26,
    "start_time": "2025-08-25T15:25:29.099Z"
   },
   {
    "duration": 5,
    "start_time": "2025-08-25T15:25:29.127Z"
   },
   {
    "duration": 89,
    "start_time": "2025-08-25T15:25:29.134Z"
   },
   {
    "duration": 92,
    "start_time": "2025-08-25T15:25:29.224Z"
   },
   {
    "duration": 77,
    "start_time": "2025-08-25T15:25:29.318Z"
   },
   {
    "duration": 128,
    "start_time": "2025-08-25T15:25:29.397Z"
   },
   {
    "duration": 86,
    "start_time": "2025-08-25T15:25:29.527Z"
   },
   {
    "duration": 166,
    "start_time": "2025-08-25T15:25:29.614Z"
   },
   {
    "duration": 4597,
    "start_time": "2025-08-25T15:25:29.781Z"
   },
   {
    "duration": 4,
    "start_time": "2025-08-25T15:25:34.379Z"
   },
   {
    "duration": 23,
    "start_time": "2025-08-25T15:25:34.385Z"
   },
   {
    "duration": 39,
    "start_time": "2025-08-25T15:25:34.410Z"
   },
   {
    "duration": 106,
    "start_time": "2025-08-25T15:25:34.450Z"
   },
   {
    "duration": 816,
    "start_time": "2025-08-25T15:25:34.558Z"
   },
   {
    "duration": 158,
    "start_time": "2025-08-25T15:25:35.376Z"
   },
   {
    "duration": 296,
    "start_time": "2025-08-25T15:25:35.536Z"
   },
   {
    "duration": 10,
    "start_time": "2025-08-25T15:25:35.833Z"
   },
   {
    "duration": 1050,
    "start_time": "2025-08-25T15:25:35.844Z"
   },
   {
    "duration": 163,
    "start_time": "2025-08-25T15:25:36.895Z"
   },
   {
    "duration": 270,
    "start_time": "2025-08-25T15:25:37.060Z"
   },
   {
    "duration": 269,
    "start_time": "2025-08-25T15:25:37.332Z"
   },
   {
    "duration": 83,
    "start_time": "2025-08-25T15:25:37.603Z"
   },
   {
    "duration": 40,
    "start_time": "2025-08-25T15:25:37.688Z"
   },
   {
    "duration": 268,
    "start_time": "2025-08-25T15:26:17.909Z"
   },
   {
    "duration": 941,
    "start_time": "2025-08-25T15:27:27.481Z"
   },
   {
    "duration": 1017,
    "start_time": "2025-08-25T15:27:49.346Z"
   },
   {
    "duration": 1023,
    "start_time": "2025-08-25T15:27:56.841Z"
   },
   {
    "duration": 971,
    "start_time": "2025-08-25T15:28:33.296Z"
   },
   {
    "duration": 1199,
    "start_time": "2025-08-25T15:29:02.873Z"
   },
   {
    "duration": 2670,
    "start_time": "2025-08-25T15:29:04.074Z"
   },
   {
    "duration": 111,
    "start_time": "2025-08-25T15:29:06.746Z"
   },
   {
    "duration": 32,
    "start_time": "2025-08-25T15:29:06.858Z"
   },
   {
    "duration": 16,
    "start_time": "2025-08-25T15:29:06.892Z"
   },
   {
    "duration": 96,
    "start_time": "2025-08-25T15:29:06.909Z"
   },
   {
    "duration": 46,
    "start_time": "2025-08-25T15:29:07.006Z"
   },
   {
    "duration": 455,
    "start_time": "2025-08-25T15:29:07.054Z"
   },
   {
    "duration": 79,
    "start_time": "2025-08-25T15:29:07.510Z"
   },
   {
    "duration": 3334,
    "start_time": "2025-08-25T15:29:07.591Z"
   },
   {
    "duration": 337,
    "start_time": "2025-08-25T15:29:10.926Z"
   },
   {
    "duration": 30,
    "start_time": "2025-08-25T15:29:11.264Z"
   },
   {
    "duration": 12,
    "start_time": "2025-08-25T15:29:11.296Z"
   },
   {
    "duration": 82,
    "start_time": "2025-08-25T15:29:11.311Z"
   },
   {
    "duration": 88,
    "start_time": "2025-08-25T15:29:11.395Z"
   },
   {
    "duration": 62,
    "start_time": "2025-08-25T15:29:11.485Z"
   },
   {
    "duration": 147,
    "start_time": "2025-08-25T15:29:11.549Z"
   },
   {
    "duration": 86,
    "start_time": "2025-08-25T15:29:11.697Z"
   },
   {
    "duration": 152,
    "start_time": "2025-08-25T15:29:11.784Z"
   },
   {
    "duration": 4580,
    "start_time": "2025-08-25T15:29:11.938Z"
   },
   {
    "duration": 5,
    "start_time": "2025-08-25T15:29:16.520Z"
   },
   {
    "duration": 27,
    "start_time": "2025-08-25T15:29:16.527Z"
   },
   {
    "duration": 53,
    "start_time": "2025-08-25T15:29:16.556Z"
   },
   {
    "duration": 26,
    "start_time": "2025-08-25T15:29:16.611Z"
   },
   {
    "duration": 839,
    "start_time": "2025-08-25T15:29:16.639Z"
   },
   {
    "duration": 159,
    "start_time": "2025-08-25T15:29:17.480Z"
   },
   {
    "duration": 294,
    "start_time": "2025-08-25T15:29:17.641Z"
   },
   {
    "duration": 9,
    "start_time": "2025-08-25T15:29:17.937Z"
   },
   {
    "duration": 1039,
    "start_time": "2025-08-25T15:29:17.947Z"
   },
   {
    "duration": 295,
    "start_time": "2025-08-25T15:29:18.987Z"
   },
   {
    "duration": 278,
    "start_time": "2025-08-25T15:29:19.284Z"
   },
   {
    "duration": 267,
    "start_time": "2025-08-25T15:29:19.570Z"
   },
   {
    "duration": 138,
    "start_time": "2025-08-25T15:29:19.839Z"
   },
   {
    "duration": 39,
    "start_time": "2025-08-25T15:29:19.979Z"
   },
   {
    "duration": 314,
    "start_time": "2025-08-25T15:30:31.438Z"
   },
   {
    "duration": 508,
    "start_time": "2025-08-25T15:31:00.070Z"
   },
   {
    "duration": 329,
    "start_time": "2025-08-25T15:31:03.315Z"
   },
   {
    "duration": 1232,
    "start_time": "2025-08-25T15:31:29.661Z"
   },
   {
    "duration": 1679,
    "start_time": "2025-08-25T15:31:30.895Z"
   },
   {
    "duration": 113,
    "start_time": "2025-08-25T15:31:32.576Z"
   },
   {
    "duration": 28,
    "start_time": "2025-08-25T15:31:32.690Z"
   },
   {
    "duration": 16,
    "start_time": "2025-08-25T15:31:32.720Z"
   },
   {
    "duration": 102,
    "start_time": "2025-08-25T15:31:32.738Z"
   },
   {
    "duration": 62,
    "start_time": "2025-08-25T15:31:32.842Z"
   },
   {
    "duration": 456,
    "start_time": "2025-08-25T15:31:32.905Z"
   },
   {
    "duration": 72,
    "start_time": "2025-08-25T15:31:33.370Z"
   },
   {
    "duration": 3309,
    "start_time": "2025-08-25T15:31:33.443Z"
   },
   {
    "duration": 321,
    "start_time": "2025-08-25T15:31:36.753Z"
   },
   {
    "duration": 26,
    "start_time": "2025-08-25T15:31:37.076Z"
   },
   {
    "duration": 6,
    "start_time": "2025-08-25T15:31:37.103Z"
   },
   {
    "duration": 87,
    "start_time": "2025-08-25T15:31:37.112Z"
   },
   {
    "duration": 95,
    "start_time": "2025-08-25T15:31:37.200Z"
   },
   {
    "duration": 112,
    "start_time": "2025-08-25T15:31:37.296Z"
   },
   {
    "duration": 144,
    "start_time": "2025-08-25T15:31:37.410Z"
   },
   {
    "duration": 89,
    "start_time": "2025-08-25T15:31:37.556Z"
   },
   {
    "duration": 152,
    "start_time": "2025-08-25T15:31:37.647Z"
   },
   {
    "duration": 4626,
    "start_time": "2025-08-25T15:31:37.801Z"
   },
   {
    "duration": 5,
    "start_time": "2025-08-25T15:31:42.428Z"
   },
   {
    "duration": 29,
    "start_time": "2025-08-25T15:31:42.435Z"
   },
   {
    "duration": 52,
    "start_time": "2025-08-25T15:31:42.467Z"
   },
   {
    "duration": 41,
    "start_time": "2025-08-25T15:31:42.521Z"
   },
   {
    "duration": 800,
    "start_time": "2025-08-25T15:31:42.564Z"
   },
   {
    "duration": 157,
    "start_time": "2025-08-25T15:31:43.366Z"
   },
   {
    "duration": 297,
    "start_time": "2025-08-25T15:31:43.525Z"
   },
   {
    "duration": 9,
    "start_time": "2025-08-25T15:31:43.824Z"
   },
   {
    "duration": 1023,
    "start_time": "2025-08-25T15:31:43.835Z"
   },
   {
    "duration": 114,
    "start_time": "2025-08-25T15:31:44.860Z"
   },
   {
    "duration": 0,
    "start_time": "2025-08-25T15:31:44.975Z"
   },
   {
    "duration": 0,
    "start_time": "2025-08-25T15:31:44.976Z"
   },
   {
    "duration": 0,
    "start_time": "2025-08-25T15:31:44.977Z"
   },
   {
    "duration": 0,
    "start_time": "2025-08-25T15:31:44.978Z"
   },
   {
    "duration": 275,
    "start_time": "2025-08-25T15:32:07.115Z"
   },
   {
    "duration": 348,
    "start_time": "2025-08-25T15:36:11.172Z"
   },
   {
    "duration": 277,
    "start_time": "2025-08-25T15:38:01.595Z"
   },
   {
    "duration": 69,
    "start_time": "2025-08-25T15:39:02.805Z"
   },
   {
    "duration": 64,
    "start_time": "2025-08-25T15:39:27.632Z"
   },
   {
    "duration": 64,
    "start_time": "2025-08-25T15:42:10.434Z"
   },
   {
    "duration": 482,
    "start_time": "2025-08-25T15:42:21.769Z"
   },
   {
    "duration": 598,
    "start_time": "2025-08-25T15:42:37.285Z"
   },
   {
    "duration": 65,
    "start_time": "2025-08-25T15:43:00.220Z"
   },
   {
    "duration": 544,
    "start_time": "2025-08-25T15:44:03.680Z"
   },
   {
    "duration": 66,
    "start_time": "2025-08-25T15:45:45.318Z"
   },
   {
    "duration": 70,
    "start_time": "2025-08-25T15:45:53.764Z"
   },
   {
    "duration": 78,
    "start_time": "2025-08-25T15:48:50.771Z"
   },
   {
    "duration": 68,
    "start_time": "2025-08-25T15:49:34.363Z"
   },
   {
    "duration": 77,
    "start_time": "2025-08-25T15:49:37.440Z"
   },
   {
    "duration": 1211,
    "start_time": "2025-08-25T15:49:49.256Z"
   },
   {
    "duration": 1960,
    "start_time": "2025-08-25T15:49:50.470Z"
   },
   {
    "duration": 108,
    "start_time": "2025-08-25T15:49:52.432Z"
   },
   {
    "duration": 34,
    "start_time": "2025-08-25T15:49:52.541Z"
   },
   {
    "duration": 37,
    "start_time": "2025-08-25T15:49:52.577Z"
   },
   {
    "duration": 70,
    "start_time": "2025-08-25T15:49:52.615Z"
   },
   {
    "duration": 45,
    "start_time": "2025-08-25T15:49:52.687Z"
   },
   {
    "duration": 460,
    "start_time": "2025-08-25T15:49:52.734Z"
   },
   {
    "duration": 77,
    "start_time": "2025-08-25T15:49:53.196Z"
   },
   {
    "duration": 3292,
    "start_time": "2025-08-25T15:49:53.274Z"
   },
   {
    "duration": 295,
    "start_time": "2025-08-25T15:49:56.571Z"
   },
   {
    "duration": 25,
    "start_time": "2025-08-25T15:49:56.870Z"
   },
   {
    "duration": 5,
    "start_time": "2025-08-25T15:49:56.896Z"
   },
   {
    "duration": 82,
    "start_time": "2025-08-25T15:49:56.903Z"
   },
   {
    "duration": 91,
    "start_time": "2025-08-25T15:49:56.987Z"
   },
   {
    "duration": 60,
    "start_time": "2025-08-25T15:49:57.079Z"
   },
   {
    "duration": 139,
    "start_time": "2025-08-25T15:49:57.141Z"
   },
   {
    "duration": 78,
    "start_time": "2025-08-25T15:49:57.282Z"
   },
   {
    "duration": 164,
    "start_time": "2025-08-25T15:49:57.362Z"
   },
   {
    "duration": 4529,
    "start_time": "2025-08-25T15:49:57.528Z"
   },
   {
    "duration": 5,
    "start_time": "2025-08-25T15:50:02.058Z"
   },
   {
    "duration": 22,
    "start_time": "2025-08-25T15:50:02.070Z"
   },
   {
    "duration": 40,
    "start_time": "2025-08-25T15:50:02.094Z"
   },
   {
    "duration": 44,
    "start_time": "2025-08-25T15:50:02.136Z"
   },
   {
    "duration": 856,
    "start_time": "2025-08-25T15:50:02.181Z"
   },
   {
    "duration": 157,
    "start_time": "2025-08-25T15:50:03.039Z"
   },
   {
    "duration": 308,
    "start_time": "2025-08-25T15:50:03.198Z"
   },
   {
    "duration": 11,
    "start_time": "2025-08-25T15:50:03.507Z"
   },
   {
    "duration": 1004,
    "start_time": "2025-08-25T15:50:03.519Z"
   },
   {
    "duration": 373,
    "start_time": "2025-08-25T15:50:04.525Z"
   },
   {
    "duration": 94,
    "start_time": "2025-08-25T15:50:04.900Z"
   },
   {
    "duration": 90,
    "start_time": "2025-08-25T15:50:04.996Z"
   },
   {
    "duration": 120,
    "start_time": "2025-08-25T15:50:05.088Z"
   },
   {
    "duration": 37,
    "start_time": "2025-08-25T15:50:05.210Z"
   },
   {
    "duration": 79,
    "start_time": "2025-08-25T15:52:48.989Z"
   },
   {
    "duration": 118,
    "start_time": "2025-08-25T15:56:08.971Z"
   },
   {
    "duration": 72,
    "start_time": "2025-08-25T15:57:18.604Z"
   },
   {
    "duration": 105,
    "start_time": "2025-08-25T15:57:37.433Z"
   },
   {
    "duration": 89,
    "start_time": "2025-08-25T15:58:02.882Z"
   },
   {
    "duration": 3476,
    "start_time": "2025-08-25T15:59:19.663Z"
   },
   {
    "duration": 90,
    "start_time": "2025-08-25T15:59:24.212Z"
   },
   {
    "duration": 3240,
    "start_time": "2025-08-25T15:59:27.494Z"
   },
   {
    "duration": 1207,
    "start_time": "2025-08-25T16:00:23.478Z"
   },
   {
    "duration": 1638,
    "start_time": "2025-08-25T16:00:24.687Z"
   },
   {
    "duration": 110,
    "start_time": "2025-08-25T16:00:26.326Z"
   },
   {
    "duration": 27,
    "start_time": "2025-08-25T16:00:26.438Z"
   },
   {
    "duration": 15,
    "start_time": "2025-08-25T16:00:26.472Z"
   },
   {
    "duration": 87,
    "start_time": "2025-08-25T16:00:26.489Z"
   },
   {
    "duration": 46,
    "start_time": "2025-08-25T16:00:26.578Z"
   },
   {
    "duration": 438,
    "start_time": "2025-08-25T16:00:26.625Z"
   },
   {
    "duration": 69,
    "start_time": "2025-08-25T16:00:27.065Z"
   },
   {
    "duration": 3312,
    "start_time": "2025-08-25T16:00:27.136Z"
   },
   {
    "duration": 310,
    "start_time": "2025-08-25T16:00:30.450Z"
   },
   {
    "duration": 33,
    "start_time": "2025-08-25T16:00:30.762Z"
   },
   {
    "duration": 80,
    "start_time": "2025-08-25T16:00:30.797Z"
   },
   {
    "duration": 83,
    "start_time": "2025-08-25T16:00:30.880Z"
   },
   {
    "duration": 80,
    "start_time": "2025-08-25T16:00:30.965Z"
   },
   {
    "duration": 70,
    "start_time": "2025-08-25T16:00:31.047Z"
   },
   {
    "duration": 136,
    "start_time": "2025-08-25T16:00:31.118Z"
   },
   {
    "duration": 80,
    "start_time": "2025-08-25T16:00:31.256Z"
   },
   {
    "duration": 250,
    "start_time": "2025-08-25T16:00:31.338Z"
   },
   {
    "duration": 4839,
    "start_time": "2025-08-25T16:00:31.590Z"
   },
   {
    "duration": 5,
    "start_time": "2025-08-25T16:00:36.431Z"
   },
   {
    "duration": 74,
    "start_time": "2025-08-25T16:00:36.437Z"
   },
   {
    "duration": 41,
    "start_time": "2025-08-25T16:00:36.513Z"
   },
   {
    "duration": 26,
    "start_time": "2025-08-25T16:00:36.556Z"
   },
   {
    "duration": 855,
    "start_time": "2025-08-25T16:00:36.584Z"
   },
   {
    "duration": 159,
    "start_time": "2025-08-25T16:00:37.441Z"
   },
   {
    "duration": 297,
    "start_time": "2025-08-25T16:00:37.602Z"
   },
   {
    "duration": 10,
    "start_time": "2025-08-25T16:00:37.901Z"
   },
   {
    "duration": 1048,
    "start_time": "2025-08-25T16:00:37.913Z"
   },
   {
    "duration": 371,
    "start_time": "2025-08-25T16:00:38.962Z"
   },
   {
    "duration": 93,
    "start_time": "2025-08-25T16:00:39.334Z"
   },
   {
    "duration": 84,
    "start_time": "2025-08-25T16:00:39.428Z"
   },
   {
    "duration": 125,
    "start_time": "2025-08-25T16:00:39.514Z"
   },
   {
    "duration": 3517,
    "start_time": "2025-08-25T16:00:39.641Z"
   },
   {
    "duration": 3316,
    "start_time": "2025-08-25T16:01:40.736Z"
   },
   {
    "duration": 3227,
    "start_time": "2025-08-25T16:01:57.581Z"
   },
   {
    "duration": 10,
    "start_time": "2025-08-25T16:02:37.071Z"
   },
   {
    "duration": 3459,
    "start_time": "2025-08-25T16:03:04.016Z"
   },
   {
    "duration": 3334,
    "start_time": "2025-08-25T16:03:26.009Z"
   },
   {
    "duration": 3628,
    "start_time": "2025-08-25T16:04:01.632Z"
   },
   {
    "duration": 1266,
    "start_time": "2025-08-25T16:04:25.038Z"
   },
   {
    "duration": 1760,
    "start_time": "2025-08-25T16:04:26.306Z"
   },
   {
    "duration": 119,
    "start_time": "2025-08-25T16:04:28.068Z"
   },
   {
    "duration": 29,
    "start_time": "2025-08-25T16:04:28.190Z"
   },
   {
    "duration": 18,
    "start_time": "2025-08-25T16:04:28.221Z"
   },
   {
    "duration": 100,
    "start_time": "2025-08-25T16:04:28.241Z"
   },
   {
    "duration": 64,
    "start_time": "2025-08-25T16:04:28.343Z"
   },
   {
    "duration": 464,
    "start_time": "2025-08-25T16:04:28.408Z"
   },
   {
    "duration": 71,
    "start_time": "2025-08-25T16:04:28.874Z"
   },
   {
    "duration": 3456,
    "start_time": "2025-08-25T16:04:28.949Z"
   },
   {
    "duration": 311,
    "start_time": "2025-08-25T16:04:32.406Z"
   },
   {
    "duration": 25,
    "start_time": "2025-08-25T16:04:32.719Z"
   },
   {
    "duration": 6,
    "start_time": "2025-08-25T16:04:32.745Z"
   },
   {
    "duration": 72,
    "start_time": "2025-08-25T16:04:32.772Z"
   },
   {
    "duration": 120,
    "start_time": "2025-08-25T16:04:32.846Z"
   },
   {
    "duration": 68,
    "start_time": "2025-08-25T16:04:32.968Z"
   },
   {
    "duration": 138,
    "start_time": "2025-08-25T16:04:33.038Z"
   },
   {
    "duration": 93,
    "start_time": "2025-08-25T16:04:33.178Z"
   },
   {
    "duration": 151,
    "start_time": "2025-08-25T16:04:33.273Z"
   },
   {
    "duration": 4803,
    "start_time": "2025-08-25T16:04:33.426Z"
   },
   {
    "duration": 5,
    "start_time": "2025-08-25T16:04:38.231Z"
   },
   {
    "duration": 36,
    "start_time": "2025-08-25T16:04:38.237Z"
   },
   {
    "duration": 86,
    "start_time": "2025-08-25T16:04:38.274Z"
   },
   {
    "duration": 27,
    "start_time": "2025-08-25T16:04:38.361Z"
   },
   {
    "duration": 851,
    "start_time": "2025-08-25T16:04:38.389Z"
   },
   {
    "duration": 171,
    "start_time": "2025-08-25T16:04:39.242Z"
   },
   {
    "duration": 302,
    "start_time": "2025-08-25T16:04:39.415Z"
   },
   {
    "duration": 9,
    "start_time": "2025-08-25T16:04:39.720Z"
   },
   {
    "duration": 1011,
    "start_time": "2025-08-25T16:04:39.731Z"
   },
   {
    "duration": 373,
    "start_time": "2025-08-25T16:04:40.744Z"
   },
   {
    "duration": 88,
    "start_time": "2025-08-25T16:04:41.119Z"
   },
   {
    "duration": 89,
    "start_time": "2025-08-25T16:04:41.209Z"
   },
   {
    "duration": 127,
    "start_time": "2025-08-25T16:04:41.299Z"
   },
   {
    "duration": 3598,
    "start_time": "2025-08-25T16:04:58.142Z"
   },
   {
    "duration": 3634,
    "start_time": "2025-08-25T16:07:20.981Z"
   },
   {
    "duration": 2673,
    "start_time": "2025-08-25T16:07:55.933Z"
   },
   {
    "duration": 2813,
    "start_time": "2025-08-25T16:08:45.117Z"
   },
   {
    "duration": 1256,
    "start_time": "2025-08-25T16:08:57.241Z"
   },
   {
    "duration": 1762,
    "start_time": "2025-08-25T16:08:58.499Z"
   },
   {
    "duration": 116,
    "start_time": "2025-08-25T16:09:00.264Z"
   },
   {
    "duration": 26,
    "start_time": "2025-08-25T16:09:00.382Z"
   },
   {
    "duration": 26,
    "start_time": "2025-08-25T16:09:00.411Z"
   },
   {
    "duration": 92,
    "start_time": "2025-08-25T16:09:00.439Z"
   },
   {
    "duration": 67,
    "start_time": "2025-08-25T16:09:00.533Z"
   },
   {
    "duration": 478,
    "start_time": "2025-08-25T16:09:00.602Z"
   },
   {
    "duration": 75,
    "start_time": "2025-08-25T16:09:01.081Z"
   },
   {
    "duration": 3651,
    "start_time": "2025-08-25T16:09:01.157Z"
   },
   {
    "duration": 322,
    "start_time": "2025-08-25T16:09:04.810Z"
   },
   {
    "duration": 26,
    "start_time": "2025-08-25T16:09:05.134Z"
   },
   {
    "duration": 5,
    "start_time": "2025-08-25T16:09:05.171Z"
   },
   {
    "duration": 74,
    "start_time": "2025-08-25T16:09:05.179Z"
   },
   {
    "duration": 97,
    "start_time": "2025-08-25T16:09:05.255Z"
   },
   {
    "duration": 80,
    "start_time": "2025-08-25T16:09:05.353Z"
   },
   {
    "duration": 178,
    "start_time": "2025-08-25T16:09:05.435Z"
   },
   {
    "duration": 91,
    "start_time": "2025-08-25T16:09:05.615Z"
   },
   {
    "duration": 165,
    "start_time": "2025-08-25T16:09:05.708Z"
   },
   {
    "duration": 4789,
    "start_time": "2025-08-25T16:09:05.875Z"
   },
   {
    "duration": 8,
    "start_time": "2025-08-25T16:09:10.666Z"
   },
   {
    "duration": 24,
    "start_time": "2025-08-25T16:09:10.675Z"
   },
   {
    "duration": 40,
    "start_time": "2025-08-25T16:09:10.701Z"
   },
   {
    "duration": 47,
    "start_time": "2025-08-25T16:09:10.743Z"
   },
   {
    "duration": 860,
    "start_time": "2025-08-25T16:09:10.791Z"
   },
   {
    "duration": 165,
    "start_time": "2025-08-25T16:09:11.653Z"
   },
   {
    "duration": 318,
    "start_time": "2025-08-25T16:09:11.819Z"
   },
   {
    "duration": 9,
    "start_time": "2025-08-25T16:09:12.139Z"
   },
   {
    "duration": 1077,
    "start_time": "2025-08-25T16:09:12.150Z"
   },
   {
    "duration": 379,
    "start_time": "2025-08-25T16:09:13.229Z"
   },
   {
    "duration": 99,
    "start_time": "2025-08-25T16:09:13.609Z"
   },
   {
    "duration": 89,
    "start_time": "2025-08-25T16:09:13.710Z"
   },
   {
    "duration": 121,
    "start_time": "2025-08-25T16:09:13.801Z"
   },
   {
    "duration": 2949,
    "start_time": "2025-08-25T16:09:13.924Z"
   },
   {
    "duration": 2770,
    "start_time": "2025-08-25T16:10:03.423Z"
   },
   {
    "duration": 2759,
    "start_time": "2025-08-25T16:10:14.603Z"
   },
   {
    "duration": 2857,
    "start_time": "2025-08-25T16:10:50.556Z"
   },
   {
    "duration": 2911,
    "start_time": "2025-08-25T16:10:54.127Z"
   },
   {
    "duration": 1280,
    "start_time": "2025-08-25T16:41:21.607Z"
   },
   {
    "duration": 2112,
    "start_time": "2025-08-25T16:41:22.890Z"
   },
   {
    "duration": 129,
    "start_time": "2025-08-25T16:41:25.004Z"
   },
   {
    "duration": 45,
    "start_time": "2025-08-25T16:41:25.135Z"
   },
   {
    "duration": 24,
    "start_time": "2025-08-25T16:41:25.184Z"
   },
   {
    "duration": 115,
    "start_time": "2025-08-25T16:41:25.209Z"
   },
   {
    "duration": 59,
    "start_time": "2025-08-25T16:41:25.326Z"
   },
   {
    "duration": 463,
    "start_time": "2025-08-25T16:41:25.387Z"
   },
   {
    "duration": 75,
    "start_time": "2025-08-25T16:41:25.851Z"
   },
   {
    "duration": 3433,
    "start_time": "2025-08-25T16:41:25.927Z"
   },
   {
    "duration": 363,
    "start_time": "2025-08-25T16:41:29.361Z"
   },
   {
    "duration": 25,
    "start_time": "2025-08-25T16:41:29.726Z"
   },
   {
    "duration": 22,
    "start_time": "2025-08-25T16:41:29.753Z"
   },
   {
    "duration": 77,
    "start_time": "2025-08-25T16:41:29.780Z"
   },
   {
    "duration": 91,
    "start_time": "2025-08-25T16:41:29.859Z"
   },
   {
    "duration": 84,
    "start_time": "2025-08-25T16:41:29.952Z"
   },
   {
    "duration": 144,
    "start_time": "2025-08-25T16:41:30.038Z"
   },
   {
    "duration": 95,
    "start_time": "2025-08-25T16:41:30.183Z"
   },
   {
    "duration": 157,
    "start_time": "2025-08-25T16:41:30.280Z"
   },
   {
    "duration": 4888,
    "start_time": "2025-08-25T16:41:30.439Z"
   },
   {
    "duration": 5,
    "start_time": "2025-08-25T16:41:35.328Z"
   },
   {
    "duration": 26,
    "start_time": "2025-08-25T16:41:35.335Z"
   },
   {
    "duration": 53,
    "start_time": "2025-08-25T16:41:35.363Z"
   },
   {
    "duration": 25,
    "start_time": "2025-08-25T16:41:35.418Z"
   },
   {
    "duration": 936,
    "start_time": "2025-08-25T16:41:35.445Z"
   },
   {
    "duration": 171,
    "start_time": "2025-08-25T16:41:36.383Z"
   },
   {
    "duration": 346,
    "start_time": "2025-08-25T16:41:36.555Z"
   },
   {
    "duration": 10,
    "start_time": "2025-08-25T16:41:36.903Z"
   },
   {
    "duration": 1179,
    "start_time": "2025-08-25T16:41:36.914Z"
   },
   {
    "duration": 406,
    "start_time": "2025-08-25T16:41:38.096Z"
   },
   {
    "duration": 94,
    "start_time": "2025-08-25T16:41:38.504Z"
   },
   {
    "duration": 120,
    "start_time": "2025-08-25T16:41:38.600Z"
   },
   {
    "duration": 120,
    "start_time": "2025-08-25T16:41:38.722Z"
   },
   {
    "duration": 3100,
    "start_time": "2025-08-25T16:41:38.844Z"
   },
   {
    "duration": 1164,
    "start_time": "2025-08-25T16:46:29.033Z"
   },
   {
    "duration": 2620,
    "start_time": "2025-08-25T16:46:30.199Z"
   },
   {
    "duration": 111,
    "start_time": "2025-08-25T16:46:32.822Z"
   },
   {
    "duration": 28,
    "start_time": "2025-08-25T16:46:32.935Z"
   },
   {
    "duration": 89,
    "start_time": "2025-08-25T16:46:32.970Z"
   },
   {
    "duration": 72,
    "start_time": "2025-08-25T16:46:33.061Z"
   },
   {
    "duration": 57,
    "start_time": "2025-08-25T16:46:33.135Z"
   },
   {
    "duration": 456,
    "start_time": "2025-08-25T16:46:33.194Z"
   },
   {
    "duration": 77,
    "start_time": "2025-08-25T16:46:33.652Z"
   },
   {
    "duration": 3462,
    "start_time": "2025-08-25T16:46:33.731Z"
   },
   {
    "duration": 307,
    "start_time": "2025-08-25T16:46:37.194Z"
   },
   {
    "duration": 24,
    "start_time": "2025-08-25T16:46:37.502Z"
   },
   {
    "duration": 22,
    "start_time": "2025-08-25T16:46:37.528Z"
   },
   {
    "duration": 73,
    "start_time": "2025-08-25T16:46:37.553Z"
   },
   {
    "duration": 101,
    "start_time": "2025-08-25T16:46:37.627Z"
   },
   {
    "duration": 67,
    "start_time": "2025-08-25T16:46:37.730Z"
   },
   {
    "duration": 135,
    "start_time": "2025-08-25T16:46:37.799Z"
   },
   {
    "duration": 87,
    "start_time": "2025-08-25T16:46:37.936Z"
   },
   {
    "duration": 159,
    "start_time": "2025-08-25T16:46:38.025Z"
   },
   {
    "duration": 4662,
    "start_time": "2025-08-25T16:46:38.185Z"
   },
   {
    "duration": 5,
    "start_time": "2025-08-25T16:46:42.849Z"
   },
   {
    "duration": 38,
    "start_time": "2025-08-25T16:46:42.855Z"
   },
   {
    "duration": 46,
    "start_time": "2025-08-25T16:46:42.895Z"
   },
   {
    "duration": 36,
    "start_time": "2025-08-25T16:46:42.943Z"
   },
   {
    "duration": 836,
    "start_time": "2025-08-25T16:46:42.981Z"
   },
   {
    "duration": 167,
    "start_time": "2025-08-25T16:46:43.819Z"
   },
   {
    "duration": 297,
    "start_time": "2025-08-25T16:46:43.988Z"
   },
   {
    "duration": 10,
    "start_time": "2025-08-25T16:46:44.287Z"
   },
   {
    "duration": 1073,
    "start_time": "2025-08-25T16:46:44.298Z"
   },
   {
    "duration": 376,
    "start_time": "2025-08-25T16:46:45.373Z"
   },
   {
    "duration": 94,
    "start_time": "2025-08-25T16:46:45.750Z"
   },
   {
    "duration": 86,
    "start_time": "2025-08-25T16:46:45.845Z"
   },
   {
    "duration": 130,
    "start_time": "2025-08-25T16:46:45.932Z"
   },
   {
    "duration": 2842,
    "start_time": "2025-08-25T16:46:46.063Z"
   },
   {
    "duration": 1356,
    "start_time": "2025-08-26T13:23:13.734Z"
   },
   {
    "duration": 1535,
    "start_time": "2025-08-26T13:23:15.092Z"
   },
   {
    "duration": 116,
    "start_time": "2025-08-26T13:23:16.629Z"
   },
   {
    "duration": 28,
    "start_time": "2025-08-26T13:23:16.747Z"
   },
   {
    "duration": 54,
    "start_time": "2025-08-26T13:23:16.777Z"
   },
   {
    "duration": 93,
    "start_time": "2025-08-26T13:23:16.833Z"
   },
   {
    "duration": 56,
    "start_time": "2025-08-26T13:23:16.927Z"
   },
   {
    "duration": 541,
    "start_time": "2025-08-26T13:23:16.985Z"
   },
   {
    "duration": 79,
    "start_time": "2025-08-26T13:23:17.528Z"
   },
   {
    "duration": 3550,
    "start_time": "2025-08-26T13:23:17.609Z"
   },
   {
    "duration": 295,
    "start_time": "2025-08-26T13:23:21.161Z"
   },
   {
    "duration": 25,
    "start_time": "2025-08-26T13:23:21.458Z"
   },
   {
    "duration": 5,
    "start_time": "2025-08-26T13:23:21.484Z"
   },
   {
    "duration": 91,
    "start_time": "2025-08-26T13:23:21.491Z"
   },
   {
    "duration": 93,
    "start_time": "2025-08-26T13:23:21.583Z"
   },
   {
    "duration": 85,
    "start_time": "2025-08-26T13:23:21.678Z"
   },
   {
    "duration": 136,
    "start_time": "2025-08-26T13:23:21.765Z"
   },
   {
    "duration": 88,
    "start_time": "2025-08-26T13:23:21.903Z"
   },
   {
    "duration": 155,
    "start_time": "2025-08-26T13:23:21.993Z"
   },
   {
    "duration": 5436,
    "start_time": "2025-08-26T13:23:22.151Z"
   },
   {
    "duration": 5,
    "start_time": "2025-08-26T13:23:27.589Z"
   },
   {
    "duration": 24,
    "start_time": "2025-08-26T13:23:27.651Z"
   },
   {
    "duration": 98,
    "start_time": "2025-08-26T13:23:27.676Z"
   },
   {
    "duration": 83,
    "start_time": "2025-08-26T13:23:27.776Z"
   },
   {
    "duration": 1122,
    "start_time": "2025-08-26T13:23:27.861Z"
   },
   {
    "duration": 189,
    "start_time": "2025-08-26T13:23:28.985Z"
   },
   {
    "duration": 302,
    "start_time": "2025-08-26T13:23:29.176Z"
   },
   {
    "duration": 10,
    "start_time": "2025-08-26T13:23:29.481Z"
   },
   {
    "duration": 1141,
    "start_time": "2025-08-26T13:23:29.492Z"
   },
   {
    "duration": 396,
    "start_time": "2025-08-26T13:23:30.635Z"
   },
   {
    "duration": 91,
    "start_time": "2025-08-26T13:23:31.033Z"
   },
   {
    "duration": 103,
    "start_time": "2025-08-26T13:23:31.126Z"
   },
   {
    "duration": 129,
    "start_time": "2025-08-26T13:23:31.232Z"
   },
   {
    "duration": 2955,
    "start_time": "2025-08-26T13:23:31.362Z"
   },
   {
    "duration": 53,
    "start_time": "2025-08-26T13:44:51.168Z"
   },
   {
    "duration": 1404,
    "start_time": "2025-08-26T13:45:01.671Z"
   },
   {
    "duration": 3173,
    "start_time": "2025-08-26T13:45:03.077Z"
   },
   {
    "duration": 115,
    "start_time": "2025-08-26T13:45:08.051Z"
   },
   {
    "duration": 29,
    "start_time": "2025-08-26T13:45:09.611Z"
   },
   {
    "duration": 17,
    "start_time": "2025-08-26T13:45:11.271Z"
   },
   {
    "duration": 78,
    "start_time": "2025-08-26T13:45:13.795Z"
   },
   {
    "duration": 83,
    "start_time": "2025-08-26T13:54:01.996Z"
   },
   {
    "duration": 51,
    "start_time": "2025-08-26T13:54:04.216Z"
   },
   {
    "duration": 471,
    "start_time": "2025-08-26T13:54:05.319Z"
   },
   {
    "duration": 72,
    "start_time": "2025-08-26T13:54:08.300Z"
   },
   {
    "duration": 3592,
    "start_time": "2025-08-26T13:54:09.224Z"
   },
   {
    "duration": 324,
    "start_time": "2025-08-26T13:54:12.818Z"
   },
   {
    "duration": 25,
    "start_time": "2025-08-26T13:54:13.144Z"
   },
   {
    "duration": 62,
    "start_time": "2025-08-26T13:54:13.171Z"
   },
   {
    "duration": 294,
    "start_time": "2025-08-26T13:54:14.971Z"
   },
   {
    "duration": 273,
    "start_time": "2025-08-26T13:54:35.290Z"
   },
   {
    "duration": 84,
    "start_time": "2025-08-26T13:54:39.947Z"
   },
   {
    "duration": 62,
    "start_time": "2025-08-26T13:54:43.248Z"
   },
   {
    "duration": 305,
    "start_time": "2025-08-26T13:55:05.035Z"
   },
   {
    "duration": 86,
    "start_time": "2025-08-26T13:55:07.384Z"
   },
   {
    "duration": 74,
    "start_time": "2025-08-26T13:55:15.096Z"
   },
   {
    "duration": 1272,
    "start_time": "2025-08-26T13:56:35.505Z"
   },
   {
    "duration": 2280,
    "start_time": "2025-08-26T13:56:36.779Z"
   },
   {
    "duration": 114,
    "start_time": "2025-08-26T13:56:39.061Z"
   },
   {
    "duration": 26,
    "start_time": "2025-08-26T13:56:39.176Z"
   },
   {
    "duration": 38,
    "start_time": "2025-08-26T13:56:39.204Z"
   },
   {
    "duration": 128,
    "start_time": "2025-08-26T13:56:39.244Z"
   },
   {
    "duration": 65,
    "start_time": "2025-08-26T13:56:39.374Z"
   },
   {
    "duration": 461,
    "start_time": "2025-08-26T13:56:39.441Z"
   },
   {
    "duration": 79,
    "start_time": "2025-08-26T13:56:39.904Z"
   },
   {
    "duration": 3528,
    "start_time": "2025-08-26T13:56:39.985Z"
   },
   {
    "duration": 309,
    "start_time": "2025-08-26T13:56:43.514Z"
   },
   {
    "duration": 34,
    "start_time": "2025-08-26T13:56:43.825Z"
   },
   {
    "duration": 34,
    "start_time": "2025-08-26T13:56:43.861Z"
   },
   {
    "duration": 260,
    "start_time": "2025-08-26T13:56:43.898Z"
   },
   {
    "duration": 96,
    "start_time": "2025-08-26T13:56:44.159Z"
   },
   {
    "duration": 63,
    "start_time": "2025-08-26T13:56:44.257Z"
   },
   {
    "duration": 150,
    "start_time": "2025-08-26T13:56:44.322Z"
   },
   {
    "duration": 88,
    "start_time": "2025-08-26T13:56:44.474Z"
   },
   {
    "duration": 153,
    "start_time": "2025-08-26T13:56:44.564Z"
   },
   {
    "duration": 4722,
    "start_time": "2025-08-26T13:56:44.719Z"
   },
   {
    "duration": 5,
    "start_time": "2025-08-26T13:56:49.444Z"
   },
   {
    "duration": 48,
    "start_time": "2025-08-26T13:56:49.450Z"
   },
   {
    "duration": 41,
    "start_time": "2025-08-26T13:56:49.500Z"
   },
   {
    "duration": 26,
    "start_time": "2025-08-26T13:56:49.542Z"
   },
   {
    "duration": 862,
    "start_time": "2025-08-26T13:56:49.570Z"
   },
   {
    "duration": 177,
    "start_time": "2025-08-26T13:56:50.435Z"
   },
   {
    "duration": 309,
    "start_time": "2025-08-26T13:56:50.614Z"
   },
   {
    "duration": 16,
    "start_time": "2025-08-26T13:56:50.925Z"
   },
   {
    "duration": 1116,
    "start_time": "2025-08-26T13:56:50.943Z"
   },
   {
    "duration": 364,
    "start_time": "2025-08-26T13:56:52.061Z"
   },
   {
    "duration": 108,
    "start_time": "2025-08-26T13:56:52.426Z"
   },
   {
    "duration": 99,
    "start_time": "2025-08-26T13:56:52.536Z"
   },
   {
    "duration": 123,
    "start_time": "2025-08-26T13:56:52.636Z"
   },
   {
    "duration": 2774,
    "start_time": "2025-08-26T13:56:52.760Z"
   },
   {
    "duration": 111,
    "start_time": "2025-08-26T13:56:55.536Z"
   },
   {
    "duration": 229,
    "start_time": "2025-08-26T13:57:35.273Z"
   },
   {
    "duration": 199,
    "start_time": "2025-08-26T13:57:42.121Z"
   },
   {
    "duration": 195,
    "start_time": "2025-08-26T13:58:07.975Z"
   },
   {
    "duration": 196,
    "start_time": "2025-08-26T13:58:24.080Z"
   },
   {
    "duration": 177,
    "start_time": "2025-08-26T13:58:25.958Z"
   },
   {
    "duration": 176,
    "start_time": "2025-08-26T13:58:27.565Z"
   },
   {
    "duration": 194,
    "start_time": "2025-08-26T13:58:29.180Z"
   },
   {
    "duration": 180,
    "start_time": "2025-08-26T13:58:29.545Z"
   },
   {
    "duration": 1211,
    "start_time": "2025-08-26T13:58:35.251Z"
   },
   {
    "duration": 4466,
    "start_time": "2025-08-26T13:58:36.464Z"
   },
   {
    "duration": 121,
    "start_time": "2025-08-26T13:58:40.931Z"
   },
   {
    "duration": 28,
    "start_time": "2025-08-26T13:58:41.054Z"
   },
   {
    "duration": 16,
    "start_time": "2025-08-26T13:58:41.085Z"
   },
   {
    "duration": 103,
    "start_time": "2025-08-26T13:58:41.103Z"
   },
   {
    "duration": 66,
    "start_time": "2025-08-26T13:58:41.208Z"
   },
   {
    "duration": 489,
    "start_time": "2025-08-26T13:58:41.276Z"
   },
   {
    "duration": 83,
    "start_time": "2025-08-26T13:58:41.767Z"
   },
   {
    "duration": 3526,
    "start_time": "2025-08-26T13:58:41.852Z"
   },
   {
    "duration": 307,
    "start_time": "2025-08-26T13:58:45.380Z"
   },
   {
    "duration": 26,
    "start_time": "2025-08-26T13:58:45.689Z"
   },
   {
    "duration": 18,
    "start_time": "2025-08-26T13:58:45.717Z"
   },
   {
    "duration": 269,
    "start_time": "2025-08-26T13:58:45.739Z"
   },
   {
    "duration": 283,
    "start_time": "2025-08-26T13:58:46.010Z"
   },
   {
    "duration": 281,
    "start_time": "2025-08-26T13:58:46.295Z"
   },
   {
    "duration": 163,
    "start_time": "2025-08-26T13:58:46.578Z"
   },
   {
    "duration": 106,
    "start_time": "2025-08-26T13:58:46.742Z"
   },
   {
    "duration": 179,
    "start_time": "2025-08-26T13:58:46.850Z"
   },
   {
    "duration": 5728,
    "start_time": "2025-08-26T13:58:47.034Z"
   },
   {
    "duration": 5,
    "start_time": "2025-08-26T13:58:52.763Z"
   },
   {
    "duration": 34,
    "start_time": "2025-08-26T13:58:52.770Z"
   },
   {
    "duration": 58,
    "start_time": "2025-08-26T13:58:52.805Z"
   },
   {
    "duration": 26,
    "start_time": "2025-08-26T13:58:52.865Z"
   },
   {
    "duration": 943,
    "start_time": "2025-08-26T13:58:52.893Z"
   },
   {
    "duration": 164,
    "start_time": "2025-08-26T13:58:53.838Z"
   },
   {
    "duration": 315,
    "start_time": "2025-08-26T13:58:54.004Z"
   },
   {
    "duration": 18,
    "start_time": "2025-08-26T13:58:54.321Z"
   },
   {
    "duration": 1078,
    "start_time": "2025-08-26T13:58:54.341Z"
   },
   {
    "duration": 423,
    "start_time": "2025-08-26T13:58:55.421Z"
   },
   {
    "duration": 101,
    "start_time": "2025-08-26T13:58:55.845Z"
   },
   {
    "duration": 101,
    "start_time": "2025-08-26T13:58:55.948Z"
   },
   {
    "duration": 146,
    "start_time": "2025-08-26T13:58:56.051Z"
   },
   {
    "duration": 2622,
    "start_time": "2025-08-26T13:58:56.198Z"
   },
   {
    "duration": 146,
    "start_time": "2025-08-26T13:58:58.822Z"
   },
   {
    "duration": 80,
    "start_time": "2025-08-26T14:09:55.114Z"
   },
   {
    "duration": 122,
    "start_time": "2025-08-26T14:10:05.780Z"
   },
   {
    "duration": 65,
    "start_time": "2025-08-26T14:10:15.186Z"
   },
   {
    "duration": 62,
    "start_time": "2025-08-26T14:11:14.557Z"
   },
   {
    "duration": 58,
    "start_time": "2025-08-26T14:13:49.973Z"
   },
   {
    "duration": 153,
    "start_time": "2025-08-26T14:14:36.187Z"
   },
   {
    "duration": 54,
    "start_time": "2025-08-26T14:14:41.577Z"
   },
   {
    "duration": 58,
    "start_time": "2025-08-26T14:14:45.367Z"
   },
   {
    "duration": 60,
    "start_time": "2025-08-26T14:16:25.764Z"
   },
   {
    "duration": 62,
    "start_time": "2025-08-26T14:16:31.373Z"
   },
   {
    "duration": 59,
    "start_time": "2025-08-26T14:16:59.510Z"
   },
   {
    "duration": 65,
    "start_time": "2025-08-26T14:17:02.856Z"
   },
   {
    "duration": 65,
    "start_time": "2025-08-26T14:17:19.209Z"
   },
   {
    "duration": 82,
    "start_time": "2025-08-26T14:18:12.215Z"
   },
   {
    "duration": 60,
    "start_time": "2025-08-26T14:18:46.943Z"
   },
   {
    "duration": 93,
    "start_time": "2025-08-26T14:21:04.628Z"
   },
   {
    "duration": 65,
    "start_time": "2025-08-26T14:21:27.124Z"
   },
   {
    "duration": 113,
    "start_time": "2025-08-26T14:22:10.629Z"
   },
   {
    "duration": 65,
    "start_time": "2025-08-26T14:27:23.152Z"
   },
   {
    "duration": 158,
    "start_time": "2025-08-26T14:35:02.216Z"
   },
   {
    "duration": 1600,
    "start_time": "2025-08-26T14:35:04.765Z"
   },
   {
    "duration": 1415,
    "start_time": "2025-08-26T14:35:29.347Z"
   },
   {
    "duration": 267,
    "start_time": "2025-08-26T14:36:00.713Z"
   },
   {
    "duration": 1271,
    "start_time": "2025-08-26T14:36:13.201Z"
   },
   {
    "duration": 4809,
    "start_time": "2025-08-26T14:36:14.474Z"
   },
   {
    "duration": 121,
    "start_time": "2025-08-26T14:36:19.285Z"
   },
   {
    "duration": 33,
    "start_time": "2025-08-26T14:36:19.408Z"
   },
   {
    "duration": 17,
    "start_time": "2025-08-26T14:36:19.443Z"
   },
   {
    "duration": 105,
    "start_time": "2025-08-26T14:36:19.461Z"
   },
   {
    "duration": 49,
    "start_time": "2025-08-26T14:36:19.568Z"
   },
   {
    "duration": 476,
    "start_time": "2025-08-26T14:36:19.619Z"
   },
   {
    "duration": 79,
    "start_time": "2025-08-26T14:36:20.096Z"
   },
   {
    "duration": 3538,
    "start_time": "2025-08-26T14:36:20.177Z"
   },
   {
    "duration": 305,
    "start_time": "2025-08-26T14:36:23.716Z"
   },
   {
    "duration": 36,
    "start_time": "2025-08-26T14:36:24.023Z"
   },
   {
    "duration": 4,
    "start_time": "2025-08-26T14:36:24.061Z"
   },
   {
    "duration": 274,
    "start_time": "2025-08-26T14:36:24.067Z"
   },
   {
    "duration": 275,
    "start_time": "2025-08-26T14:36:24.342Z"
   },
   {
    "duration": 285,
    "start_time": "2025-08-26T14:36:24.619Z"
   },
   {
    "duration": 168,
    "start_time": "2025-08-26T14:36:24.907Z"
   },
   {
    "duration": 127,
    "start_time": "2025-08-26T14:36:25.076Z"
   },
   {
    "duration": 203,
    "start_time": "2025-08-26T14:36:25.206Z"
   },
   {
    "duration": 5948,
    "start_time": "2025-08-26T14:36:25.411Z"
   },
   {
    "duration": 6,
    "start_time": "2025-08-26T14:36:31.361Z"
   },
   {
    "duration": 41,
    "start_time": "2025-08-26T14:36:31.368Z"
   },
   {
    "duration": 57,
    "start_time": "2025-08-26T14:36:31.411Z"
   },
   {
    "duration": 28,
    "start_time": "2025-08-26T14:36:31.470Z"
   },
   {
    "duration": 1042,
    "start_time": "2025-08-26T14:36:31.500Z"
   },
   {
    "duration": 198,
    "start_time": "2025-08-26T14:36:32.544Z"
   },
   {
    "duration": 327,
    "start_time": "2025-08-26T14:36:32.743Z"
   },
   {
    "duration": 11,
    "start_time": "2025-08-26T14:36:33.073Z"
   },
   {
    "duration": 1138,
    "start_time": "2025-08-26T14:36:33.085Z"
   },
   {
    "duration": 432,
    "start_time": "2025-08-26T14:36:34.225Z"
   },
   {
    "duration": 76,
    "start_time": "2025-08-26T14:36:34.659Z"
   },
   {
    "duration": 64,
    "start_time": "2025-08-26T14:36:34.737Z"
   },
   {
    "duration": 155,
    "start_time": "2025-08-26T14:36:34.802Z"
   },
   {
    "duration": 288,
    "start_time": "2025-08-26T14:36:34.959Z"
   },
   {
    "duration": 3003,
    "start_time": "2025-08-26T14:40:04.531Z"
   },
   {
    "duration": 245,
    "start_time": "2025-08-26T14:40:29.410Z"
   },
   {
    "duration": 134,
    "start_time": "2025-08-26T14:40:31.365Z"
   },
   {
    "duration": 113,
    "start_time": "2025-08-26T14:41:56.640Z"
   },
   {
    "duration": 262,
    "start_time": "2025-08-26T14:41:58.333Z"
   },
   {
    "duration": 246,
    "start_time": "2025-08-26T14:48:30.716Z"
   },
   {
    "duration": 1211,
    "start_time": "2025-08-26T14:50:38.448Z"
   },
   {
    "duration": 1699,
    "start_time": "2025-08-26T14:50:39.661Z"
   },
   {
    "duration": 122,
    "start_time": "2025-08-26T14:50:41.362Z"
   },
   {
    "duration": 28,
    "start_time": "2025-08-26T14:50:41.486Z"
   },
   {
    "duration": 32,
    "start_time": "2025-08-26T14:50:41.516Z"
   },
   {
    "duration": 91,
    "start_time": "2025-08-26T14:50:41.550Z"
   },
   {
    "duration": 53,
    "start_time": "2025-08-26T14:50:41.643Z"
   },
   {
    "duration": 479,
    "start_time": "2025-08-26T14:50:41.698Z"
   },
   {
    "duration": 84,
    "start_time": "2025-08-26T14:50:42.179Z"
   },
   {
    "duration": 3619,
    "start_time": "2025-08-26T14:50:42.266Z"
   },
   {
    "duration": 311,
    "start_time": "2025-08-26T14:50:45.887Z"
   },
   {
    "duration": 34,
    "start_time": "2025-08-26T14:50:46.200Z"
   },
   {
    "duration": 5,
    "start_time": "2025-08-26T14:50:46.236Z"
   },
   {
    "duration": 262,
    "start_time": "2025-08-26T14:50:46.243Z"
   },
   {
    "duration": 285,
    "start_time": "2025-08-26T14:50:46.506Z"
   },
   {
    "duration": 293,
    "start_time": "2025-08-26T14:50:46.793Z"
   },
   {
    "duration": 165,
    "start_time": "2025-08-26T14:50:47.088Z"
   },
   {
    "duration": 103,
    "start_time": "2025-08-26T14:50:47.255Z"
   },
   {
    "duration": 186,
    "start_time": "2025-08-26T14:50:47.360Z"
   },
   {
    "duration": 5984,
    "start_time": "2025-08-26T14:50:47.548Z"
   },
   {
    "duration": 5,
    "start_time": "2025-08-26T14:50:53.534Z"
   },
   {
    "duration": 27,
    "start_time": "2025-08-26T14:50:53.541Z"
   },
   {
    "duration": 68,
    "start_time": "2025-08-26T14:50:53.570Z"
   },
   {
    "duration": 27,
    "start_time": "2025-08-26T14:50:53.640Z"
   },
   {
    "duration": 955,
    "start_time": "2025-08-26T14:50:53.668Z"
   },
   {
    "duration": 182,
    "start_time": "2025-08-26T14:50:54.625Z"
   },
   {
    "duration": 336,
    "start_time": "2025-08-26T14:50:54.809Z"
   },
   {
    "duration": 14,
    "start_time": "2025-08-26T14:50:55.152Z"
   },
   {
    "duration": 1126,
    "start_time": "2025-08-26T14:50:55.169Z"
   },
   {
    "duration": 438,
    "start_time": "2025-08-26T14:50:56.297Z"
   },
   {
    "duration": 61,
    "start_time": "2025-08-26T14:50:56.737Z"
   },
   {
    "duration": 82,
    "start_time": "2025-08-26T14:50:56.800Z"
   },
   {
    "duration": 151,
    "start_time": "2025-08-26T14:50:56.884Z"
   },
   {
    "duration": 247,
    "start_time": "2025-08-26T14:50:57.036Z"
   },
   {
    "duration": 106,
    "start_time": "2025-08-26T14:53:57.078Z"
   },
   {
    "duration": 1226,
    "start_time": "2025-08-26T14:54:10.127Z"
   },
   {
    "duration": 1751,
    "start_time": "2025-08-26T14:54:11.355Z"
   },
   {
    "duration": 117,
    "start_time": "2025-08-26T14:54:13.108Z"
   },
   {
    "duration": 28,
    "start_time": "2025-08-26T14:54:13.235Z"
   },
   {
    "duration": 16,
    "start_time": "2025-08-26T14:54:13.264Z"
   },
   {
    "duration": 101,
    "start_time": "2025-08-26T14:54:13.282Z"
   },
   {
    "duration": 61,
    "start_time": "2025-08-26T14:54:13.384Z"
   },
   {
    "duration": 492,
    "start_time": "2025-08-26T14:54:13.447Z"
   },
   {
    "duration": 71,
    "start_time": "2025-08-26T14:54:13.941Z"
   },
   {
    "duration": 3555,
    "start_time": "2025-08-26T14:54:14.014Z"
   },
   {
    "duration": 314,
    "start_time": "2025-08-26T14:54:17.571Z"
   },
   {
    "duration": 26,
    "start_time": "2025-08-26T14:54:17.887Z"
   },
   {
    "duration": 19,
    "start_time": "2025-08-26T14:54:17.915Z"
   },
   {
    "duration": 265,
    "start_time": "2025-08-26T14:54:17.936Z"
   },
   {
    "duration": 280,
    "start_time": "2025-08-26T14:54:18.202Z"
   },
   {
    "duration": 290,
    "start_time": "2025-08-26T14:54:18.484Z"
   },
   {
    "duration": 162,
    "start_time": "2025-08-26T14:54:18.776Z"
   },
   {
    "duration": 103,
    "start_time": "2025-08-26T14:54:18.939Z"
   },
   {
    "duration": 185,
    "start_time": "2025-08-26T14:54:19.043Z"
   },
   {
    "duration": 5886,
    "start_time": "2025-08-26T14:54:19.233Z"
   },
   {
    "duration": 6,
    "start_time": "2025-08-26T14:54:25.120Z"
   },
   {
    "duration": 78,
    "start_time": "2025-08-26T14:54:25.134Z"
   },
   {
    "duration": 51,
    "start_time": "2025-08-26T14:54:25.213Z"
   },
   {
    "duration": 27,
    "start_time": "2025-08-26T14:54:25.266Z"
   },
   {
    "duration": 918,
    "start_time": "2025-08-26T14:54:25.295Z"
   },
   {
    "duration": 168,
    "start_time": "2025-08-26T14:54:26.215Z"
   },
   {
    "duration": 325,
    "start_time": "2025-08-26T14:54:26.385Z"
   },
   {
    "duration": 22,
    "start_time": "2025-08-26T14:54:26.713Z"
   },
   {
    "duration": 1050,
    "start_time": "2025-08-26T14:54:26.737Z"
   },
   {
    "duration": 418,
    "start_time": "2025-08-26T14:54:27.789Z"
   },
   {
    "duration": 68,
    "start_time": "2025-08-26T14:54:28.209Z"
   },
   {
    "duration": 75,
    "start_time": "2025-08-26T14:54:28.278Z"
   },
   {
    "duration": 146,
    "start_time": "2025-08-26T14:54:28.355Z"
   },
   {
    "duration": 250,
    "start_time": "2025-08-26T14:54:28.503Z"
   },
   {
    "duration": 5295,
    "start_time": "2025-08-26T14:56:55.981Z"
   }
  ],
  "colab": {
   "provenance": []
  },
  "kernelspec": {
   "display_name": "Python 3 (ipykernel)",
   "language": "python",
   "name": "python3"
  },
  "language_info": {
   "codemirror_mode": {
    "name": "ipython",
    "version": 3
   },
   "file_extension": ".py",
   "mimetype": "text/x-python",
   "name": "python",
   "nbconvert_exporter": "python",
   "pygments_lexer": "ipython3",
   "version": "3.9.7"
  },
  "toc": {
   "base_numbering": 1,
   "nav_menu": {
    "height": "666px",
    "width": "654px"
   },
   "number_sections": true,
   "sideBar": true,
   "skip_h1_title": true,
   "title_cell": "Table of Contents",
   "title_sidebar": "Contents",
   "toc_cell": false,
   "toc_position": {},
   "toc_section_display": true,
   "toc_window_display": false
  }
 },
 "nbformat": 4,
 "nbformat_minor": 1
}
